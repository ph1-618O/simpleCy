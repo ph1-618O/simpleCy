{
 "cells": [
  {
   "cell_type": "markdown",
   "metadata": {},
   "source": [
    "# cipherTwo\n",
    "- cipherTwo will expand on caesar.py incorporating a vignere cipher and options to search for words within the text to allow for punctuation and proper spacing. "
   ]
  },
  {
   "cell_type": "code",
   "execution_count": 17,
   "metadata": {},
   "outputs": [],
   "source": [
    "def decoder(coded, shift):\n",
    "    decoded = []\n",
    "    for char in coded:\n",
    "        if char.isalpha():\n",
    "            char = char.lower()\n",
    "            limitAlpha = ord(char) - shift\n",
    "            if (limitAlpha < ord('a')) :\n",
    "                backshift = ord('a') - limitAlpha\n",
    "                backshift = ord('z') - backshift\n",
    "                backshift = chr(backshift)\n",
    "                #print(f'Backshift : {backshift}')\n",
    "                decoded.append(backshift)\n",
    "            else:\n",
    "                decoded.append(chr(limitAlpha))\n",
    "    return ''.join(decoded)"
   ]
  },
  {
   "cell_type": "code",
   "execution_count": 18,
   "metadata": {},
   "outputs": [],
   "source": [
    "def caesar(uncoded, shift):\n",
    "    coded = []\n",
    "    for char in uncoded:\n",
    "        if char.isalpha():\n",
    "            char = char.lower()\n",
    "            limitAlpha = ord(char) + shift\n",
    "            if (limitAlpha >= ord('a')) & (limitAlpha <= ord('z')) :\n",
    "                limitAlpha = chr(limitAlpha)\n",
    "                #print(f'LimitAlpha: {limitAlpha}')\n",
    "                coded.append(limitAlpha)\n",
    "            else:\n",
    "                frontShift = ((limitAlpha % ord('z')) % 26) + ord('a')\n",
    "                #print(f'Frontshift: {frontShift}')\n",
    "                coded.append(chr(frontShift))\n",
    "                #coded.append(frontShift)\n",
    "    return ''.join(coded)"
   ]
  },
  {
   "cell_type": "code",
   "execution_count": 19,
   "metadata": {},
   "outputs": [],
   "source": [
    "def askInput():\n",
    "    query = input(\"Decode, or Code? \")\n",
    "    query = query.lower()\n",
    "    if query == 'decode':\n",
    "        decodeMessage = input(\"Enter coded message:: \")\n",
    "        print(f\"Message Recieved: {decodeMessage}\")\n",
    "        shiftNum = int(input(\"Enter the shift:: \"))\n",
    "        print(f'Shift Entered: {shiftNum}')\n",
    "        if shiftNum == 25:\n",
    "            print('Invalid shift, please choose again. ')\n",
    "            shiftNum = int(input('Enter a different number: '))\n",
    "        initDecode = decoder(decodeMessage, shiftNum)\n",
    "        return print(f'This is your coded message:: {initDecode}')\n",
    "    else:\n",
    "        toCode = input('Enter message to code:: ')\n",
    "        print(f\"Message Recieved: {toCode}\")\n",
    "        shiftNum = int(input('Enter the shift:'))\n",
    "        print(f'Shift Entered: {shiftNum}')\n",
    "        if shiftNum == 25:\n",
    "            print('Invalid shift, please choose again. ')\n",
    "            shiftNum = int(input('Enter a different number: '))\n",
    "        return print(f'This is your coded message:: {caesar(toCode, shiftNum)}')\n",
    "        "
   ]
  },
  {
   "cell_type": "code",
   "execution_count": 20,
   "metadata": {},
   "outputs": [
    {
     "name": "stdout",
     "output_type": "stream",
     "text": [
      "Decode, or Code? decode\n",
      "Enter coded message:: sdfs\n",
      "Message Recieved: sdfs\n",
      "Enter the shift:: 13\n",
      "Shift Entered: 13\n",
      "This is your coded message:: fprf\n"
     ]
    }
   ],
   "source": [
    "askInput()"
   ]
  },
  {
   "cell_type": "code",
   "execution_count": null,
   "metadata": {},
   "outputs": [],
   "source": []
  }
 ],
 "metadata": {
  "kernelspec": {
   "display_name": "Python 3",
   "language": "python",
   "name": "python3"
  },
  "language_info": {
   "codemirror_mode": {
    "name": "ipython",
    "version": 3
   },
   "file_extension": ".py",
   "mimetype": "text/x-python",
   "name": "python",
   "nbconvert_exporter": "python",
   "pygments_lexer": "ipython3",
   "version": "3.7.7"
  }
 },
 "nbformat": 4,
 "nbformat_minor": 4
}
