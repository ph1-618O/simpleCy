{
 "cells": [
  {
   "cell_type": "markdown",
   "metadata": {},
   "source": [
    "# <! Notes\n",
    "- add isupper conditional, save location of isupper == true, upon joining list return indexes of isupper to \n",
    "uppercase\n",
    "- create a switch case statment for isalpha, isspace, isnumeric, is specialchar\n",
    "- create a nums cipher rotation +||- shift\n",
    "- create a punc cipher rotation +||- shift\n",
    "- upon joining list add spaces back in at spacesIdx locations\n",
    "- find upper and lower case ords for alpha\n",
    "- find groups of ordinal nums for punc begin with ord('!') = 33, ord('~') = 126\n",
    "- find groups of ordinal nums for numbers begin with ord('0') = 48 to ord('9') = 57, make sure to convert to str"
   ]
  },
  {
   "cell_type": "code",
   "execution_count": 1,
   "metadata": {},
   "outputs": [],
   "source": [
    "#Example Caesar cipher with an offset of 8\n",
    "strs = \"vhfinmxkl atox kxgwxkxw tee hy maxlx hew vbiaxkl tl hulhexmx. px'ee atox mh kxteer lmxi ni hnk ztfx by px ptgm mh dxxi hnk fxlltzxl ltyx.\"\n",
    "print(len(strs))"
   ]
  },
  {
   "cell_type": "code",
   "execution_count": null,
   "metadata": {},
   "outputs": [],
   "source": [
    "#Un-coded Caesar cipher from the above with an offset of 8\n",
    "squishedStr = \"computershaverenderedalloftheseoldciphersasobsoletewellhavetoreallystepupourgameifwewanttokeepourmessagessafe\""
   ]
  },
  {
   "cell_type": "code",
   "execution_count": 2,
   "metadata": {},
   "outputs": [],
   "source": [
    "#Caesar cipher function that allows for a known input of the shift, and if not, it brute forces the code\n",
    "def eTuBrute(message, offset=None):\n",
    "    import pandas as pd\n",
    "    cipher_text = \"\"\n",
    "    if bool(message) == True & pd.notnull(offset) == True:\n",
    "        cipher_text = \"\"\n",
    "        for char in message:\n",
    "            if char.isalpha():\n",
    "                stay_in_alpha = ord(char) + offset\n",
    "                if stay_in_alpha > ord('z'):\n",
    "                    stay_in_alpha -= 26\n",
    "                final_letter = chr(stay_in_alpha)\n",
    "                cipher_text += final_letter           \n",
    "        return cipher_text\n",
    "    else:\n",
    "        cipher_text = \"\"\n",
    "        strs = input(\"What is the Coded Message?\\n\")\n",
    "        offset = input(\"What is the offset?\")\n",
    "        if offset:\n",
    "            for char in message:\n",
    "                if char.isalpha():\n",
    "                    stay_in_alpha = ord(char) + offset\n",
    "                    if stay_in_alpha > ord('z'):\n",
    "                        stay_in_alpha -= 26\n",
    "                    final_letter = chr(stay_in_alpha)\n",
    "                    cipher_text += final_letter           \n",
    "            return cipher_text\n",
    "        else: \n",
    "            holder = []\n",
    "            print(len(strs))\n",
    "            print(len(strs.replace(' ', \"\")))\n",
    "            print('You gave no offset')\n",
    "            for i in range(26):\n",
    "                for char in message:\n",
    "                    if char.isalpha():\n",
    "                        stay_in_alpha = ord(char) + i\n",
    "                        if stay_in_alpha > ord('z'):\n",
    "                            stay_in_alpha -= 26\n",
    "                        final_letter = chr(stay_in_alpha)\n",
    "                        cipher_text += final_letter\n",
    "                        if len(cipher_text) == 109:# len(strs.replace(' ', \"\")):\n",
    "                            holder.append(cipher_text)\n",
    "                            cipher_text = ''\n",
    "            return holder"
   ]
  },
  {
   "cell_type": "code",
   "execution_count": 3,
   "metadata": {},
   "outputs": [
    {
     "data": {
      "text/plain": [
       "'computershaverenderedalloftheseoldciphersasobsoletewellhavetoreallystepupourgameifwewanttokeepourmessagessafe'"
      ]
     },
     "execution_count": 3,
     "metadata": {},
     "output_type": "execute_result"
    }
   ],
   "source": [
    "#Shift is 7 because comp start 1 at 0\n",
    "eTuBrute(strs, 7)"
   ]
  },
  {
   "cell_type": "markdown",
   "metadata": {},
   "source": [
    "# Working\n",
    "- write function to find the ordinal num for punctuation/special char in strs\n",
    "- find the index location of the ordinal num\n",
    "- return the correct punctuation/special chars to proper idx"
   ]
  },
  {
   "cell_type": "code",
   "execution_count": null,
   "metadata": {},
   "outputs": [],
   "source": []
  }
 ],
 "metadata": {
  "kernelspec": {
   "display_name": "Python 3",
   "language": "python",
   "name": "python3"
  },
  "language_info": {
   "codemirror_mode": {
    "name": "ipython",
    "version": 3
   },
   "file_extension": ".py",
   "mimetype": "text/x-python",
   "name": "python",
   "nbconvert_exporter": "python",
   "pygments_lexer": "ipython3",
   "version": "3.7.7"
  }
 },
 "nbformat": 4,
 "nbformat_minor": 4
}
