{
 "cells": [
  {
   "cell_type": "code",
   "execution_count": 1,
   "id": "913c04cd",
   "metadata": {},
   "outputs": [],
   "source": [
    "#!/usr/bin/env python3\n",
    "\n",
    "import pandas as pd\n",
    "import random\n",
    "import string\n",
    "import collections"
   ]
  },
  {
   "cell_type": "code",
   "execution_count": 2,
   "id": "1039961a",
   "metadata": {},
   "outputs": [],
   "source": [
    "def insertRow(rowNum, df, rowVal):\n",
    "    df1 = df[0:rowNum]\n",
    "    df2 = df[rowNum:]\n",
    "    df1.loc[rowNum] = rowVal\n",
    "    dfResult = pd.concat([df1, df2])\n",
    "    return dfResult"
   ]
  },
  {
   "cell_type": "code",
   "execution_count": 3,
   "id": "b9dddfee",
   "metadata": {},
   "outputs": [],
   "source": [
    "#peter_norvig = pd.read_clipboard()\n",
    "#peter_norvig.to_csv(\"pn_wordlist.csv\", index=False)\n",
    "words = pd.read_csv(\"pn_wordlist.csv\")"
   ]
  },
  {
   "cell_type": "code",
   "execution_count": 4,
   "id": "4a09aa8e",
   "metadata": {},
   "outputs": [
    {
     "data": {
      "text/plain": [
       "333332"
      ]
     },
     "execution_count": 4,
     "metadata": {},
     "output_type": "execute_result"
    }
   ],
   "source": [
    "len(words)"
   ]
  },
  {
   "cell_type": "code",
   "execution_count": 5,
   "id": "e19589de",
   "metadata": {},
   "outputs": [
    {
     "data": {
      "text/html": [
       "<div>\n",
       "<style scoped>\n",
       "    .dataframe tbody tr th:only-of-type {\n",
       "        vertical-align: middle;\n",
       "    }\n",
       "\n",
       "    .dataframe tbody tr th {\n",
       "        vertical-align: top;\n",
       "    }\n",
       "\n",
       "    .dataframe thead th {\n",
       "        text-align: right;\n",
       "    }\n",
       "</style>\n",
       "<table border=\"1\" class=\"dataframe\">\n",
       "  <thead>\n",
       "    <tr style=\"text-align: right;\">\n",
       "      <th></th>\n",
       "      <th>the</th>\n",
       "      <th>23135851162</th>\n",
       "    </tr>\n",
       "  </thead>\n",
       "  <tbody>\n",
       "    <tr>\n",
       "      <th>0</th>\n",
       "      <td>of</td>\n",
       "      <td>13151942776</td>\n",
       "    </tr>\n",
       "    <tr>\n",
       "      <th>1</th>\n",
       "      <td>and</td>\n",
       "      <td>12997637966</td>\n",
       "    </tr>\n",
       "    <tr>\n",
       "      <th>2</th>\n",
       "      <td>to</td>\n",
       "      <td>12136980858</td>\n",
       "    </tr>\n",
       "    <tr>\n",
       "      <th>3</th>\n",
       "      <td>a</td>\n",
       "      <td>9081174698</td>\n",
       "    </tr>\n",
       "    <tr>\n",
       "      <th>4</th>\n",
       "      <td>in</td>\n",
       "      <td>8469404971</td>\n",
       "    </tr>\n",
       "    <tr>\n",
       "      <th>...</th>\n",
       "      <td>...</td>\n",
       "      <td>...</td>\n",
       "    </tr>\n",
       "    <tr>\n",
       "      <th>333327</th>\n",
       "      <td>gooek</td>\n",
       "      <td>12711</td>\n",
       "    </tr>\n",
       "    <tr>\n",
       "      <th>333328</th>\n",
       "      <td>gooddg</td>\n",
       "      <td>12711</td>\n",
       "    </tr>\n",
       "    <tr>\n",
       "      <th>333329</th>\n",
       "      <td>gooblle</td>\n",
       "      <td>12711</td>\n",
       "    </tr>\n",
       "    <tr>\n",
       "      <th>333330</th>\n",
       "      <td>gollgo</td>\n",
       "      <td>12711</td>\n",
       "    </tr>\n",
       "    <tr>\n",
       "      <th>333331</th>\n",
       "      <td>golgw</td>\n",
       "      <td>12711</td>\n",
       "    </tr>\n",
       "  </tbody>\n",
       "</table>\n",
       "<p>333330 rows × 2 columns</p>\n",
       "</div>"
      ],
      "text/plain": [
       "            the  23135851162\n",
       "0            of  13151942776\n",
       "1           and  12997637966\n",
       "2            to  12136980858\n",
       "3             a   9081174698\n",
       "4            in   8469404971\n",
       "...         ...          ...\n",
       "333327    gooek        12711\n",
       "333328   gooddg        12711\n",
       "333329  gooblle        12711\n",
       "333330   gollgo        12711\n",
       "333331    golgw        12711\n",
       "\n",
       "[333330 rows x 2 columns]"
      ]
     },
     "execution_count": 5,
     "metadata": {},
     "output_type": "execute_result"
    }
   ],
   "source": [
    "words = words.dropna()\n",
    "words"
   ]
  },
  {
   "cell_type": "code",
   "execution_count": 6,
   "id": "c47a261d",
   "metadata": {},
   "outputs": [
    {
     "name": "stderr",
     "output_type": "stream",
     "text": [
      "/Users/Jen/anaconda3/lib/python3.7/site-packages/pandas/core/indexing.py:670: SettingWithCopyWarning: \n",
      "A value is trying to be set on a copy of a slice from a DataFrame\n",
      "\n",
      "See the caveats in the documentation: https://pandas.pydata.org/pandas-docs/stable/user_guide/indexing.html#returning-a-view-versus-a-copy\n",
      "  iloc._setitem_with_indexer(indexer, value)\n"
     ]
    }
   ],
   "source": [
    "columns_list = [\"word\", \"counted_usages\"]\n",
    "row1 = []\n",
    "for col in words.columns:\n",
    "    row1.append(col)\n",
    "for i in range(len(row1)):\n",
    "    words.rename(columns={words.columns[i]: columns_list[i]}, inplace=True)\n",
    "words = (insertRow(0, words, row1)).reset_index(drop=True)"
   ]
  },
  {
   "cell_type": "code",
   "execution_count": 7,
   "id": "f6f264a0",
   "metadata": {},
   "outputs": [],
   "source": [
    "words['word'] = words['word'].str.replace(' ', '')"
   ]
  },
  {
   "cell_type": "code",
   "execution_count": 8,
   "id": "fb4c4672",
   "metadata": {},
   "outputs": [],
   "source": [
    "words['word'] = words['word'].values.astype(str)"
   ]
  },
  {
   "cell_type": "code",
   "execution_count": 9,
   "id": "098f2639",
   "metadata": {},
   "outputs": [
    {
     "data": {
      "text/plain": [
       "3"
      ]
     },
     "execution_count": 9,
     "metadata": {},
     "output_type": "execute_result"
    }
   ],
   "source": [
    "len(words['word'][0])"
   ]
  },
  {
   "cell_type": "code",
   "execution_count": 10,
   "id": "d381b35f",
   "metadata": {},
   "outputs": [],
   "source": [
    "words['len_word'] = words['word'].apply(lambda x:len(x))\n",
    "words['counted_usages'] = words['counted_usages'].astype(int)"
   ]
  },
  {
   "cell_type": "code",
   "execution_count": null,
   "id": "85c70e23",
   "metadata": {},
   "outputs": [],
   "source": []
  },
  {
   "cell_type": "code",
   "execution_count": 11,
   "id": "e6887569",
   "metadata": {},
   "outputs": [],
   "source": [
    "# len_word = []\n",
    "# for i in range(len(words['word'])):\n",
    "#     print(words['word'][i])\n",
    "#     if words['word'][i] == ' ':\n",
    "#         continue\n",
    "#     lw = len(words['word'][i])\n",
    "#     len_word.append(lw)"
   ]
  },
  {
   "cell_type": "code",
   "execution_count": 12,
   "id": "23284c1a",
   "metadata": {},
   "outputs": [],
   "source": [
    "sorted_words = words.sort_values(['len_word', 'counted_usages'], ascending=[False, False]).reset_index(drop=True)"
   ]
  },
  {
   "cell_type": "code",
   "execution_count": null,
   "id": "d27d0e7b",
   "metadata": {},
   "outputs": [],
   "source": []
  },
  {
   "cell_type": "code",
   "execution_count": null,
   "id": "a483e78a",
   "metadata": {},
   "outputs": [],
   "source": []
  }
 ],
 "metadata": {
  "kernelspec": {
   "display_name": "Python 3 (ipykernel)",
   "language": "python",
   "name": "python3"
  },
  "language_info": {
   "codemirror_mode": {
    "name": "ipython",
    "version": 3
   },
   "file_extension": ".py",
   "mimetype": "text/x-python",
   "name": "python",
   "nbconvert_exporter": "python",
   "pygments_lexer": "ipython3",
   "version": "3.7.7"
  }
 },
 "nbformat": 4,
 "nbformat_minor": 5
}
