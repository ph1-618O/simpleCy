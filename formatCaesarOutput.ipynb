{
 "cells": [
  {
   "cell_type": "code",
   "execution_count": 2,
   "metadata": {},
   "outputs": [],
   "source": [
    "import re"
   ]
  },
  {
   "cell_type": "code",
   "execution_count": 3,
   "metadata": {},
   "outputs": [],
   "source": [
    "strs = \"vhfinmxkl atox kxgwxkxw tee hy maxlx hew vbiaxkl tl hulhexmx. px'ee atox mh kxteer lmxi ni hnk ztfx by px ptgm mh dxxi hnk fxlltzxl ltyx.\""
   ]
  },
  {
   "cell_type": "code",
   "execution_count": 4,
   "metadata": {},
   "outputs": [],
   "source": [
    "squishedStr = \"computershaverenderedalloftheseoldciphersasobsoletewellhavetoreallystepupourgameifwewanttokeepourmessagessafe\""
   ]
  },
  {
   "cell_type": "code",
   "execution_count": 5,
   "metadata": {},
   "outputs": [],
   "source": [
    "# #Adds a space to the end of the list\n",
    "# if strs[(len(strs)-1)] != ' ':\n",
    "#     strs = list(strs)\n",
    "#     strs.append(' ')\n",
    "# newStr = ''\n",
    "# for ele in strs:\n",
    "#     newStr += ele\n",
    "# strs = newStr"
   ]
  },
  {
   "cell_type": "code",
   "execution_count": 6,
   "metadata": {},
   "outputs": [],
   "source": [
    "#This function is necessary because Brut Caesar \n",
    "#doesn't keep spaces at the end, unless already there\n",
    "#and to add spaces back in there needs to be one for the count\n",
    "# def addSpaceEnd(strs):\n",
    "#     if strs[(len(strs)-1)] != ' ':\n",
    "#         strs = list(strs)\n",
    "#         strs.append(' ')\n",
    "#     strEndSpace = ''\n",
    "#     for ele in strs:\n",
    "#         strEndSpace += ele\n",
    "#     return strEndSpace"
   ]
  },
  {
   "cell_type": "code",
   "execution_count": 7,
   "metadata": {},
   "outputs": [],
   "source": [
    "# addSpaceEnd(strs)"
   ]
  },
  {
   "cell_type": "code",
   "execution_count": 8,
   "metadata": {},
   "outputs": [],
   "source": [
    "def getOrdinalsList(chrType, begin, end):\n",
    "    ordList = []\n",
    "    for i in range(begin, end):\n",
    "        ordList.append(i)\n",
    "    #print(ordList)\n",
    "    #print(type(ordList[0]))\n",
    "    print(f'The {chrType} ASCII begins with the number: {ordList[-len(ordList)]},'\\\n",
    "          + f' and the {chrType}: {chr(ordList[-len(ordList)])}')\n",
    "    print(f'Negative len: {-len(ordList)}')\n",
    "    print(f'End of list idx: {len(ordList)-1}')\n",
    "    print(f'The {chrType} ASCII ends with the number: {ordList[len(ordList)-1]},'\\\n",
    "          + f' and the {chrType}: {chr(ordList[len(ordList)-1])}')\n",
    "    return ordList"
   ]
  },
  {
   "cell_type": "code",
   "execution_count": 9,
   "metadata": {},
   "outputs": [
    {
     "name": "stdout",
     "output_type": "stream",
     "text": [
      "The Symbol ASCII begins with the number: 33, and the Symbol: !\n",
      "Negative len: -94\n",
      "End of list idx: 93\n",
      "The Symbol ASCII ends with the number: 126, and the Symbol: ~\n",
      "[33, 34, 35, 36, 37, 38, 39, 40, 41, 42, 43, 44, 45, 46, 47, 48, 49, 50, 51, 52, 53, 54, 55, 56, 57, 58, 59, 60, 61, 62, 63, 64, 65, 66, 67, 68, 69, 70, 71, 72, 73, 74, 75, 76, 77, 78, 79, 80, 81, 82, 83, 84, 85, 86, 87, 88, 89, 90, 91, 92, 93, 94, 95, 96, 97, 98, 99, 100, 101, 102, 103, 104, 105, 106, 107, 108, 109, 110, 111, 112, 113, 114, 115, 116, 117, 118, 119, 120, 121, 122, 123, 124, 125, 126]\n"
     ]
    }
   ],
   "source": [
    "symbolNums = getOrdinalsList('Symbol', 33, 127)\n",
    "print(symbolNums)"
   ]
  },
  {
   "cell_type": "code",
   "execution_count": 10,
   "metadata": {},
   "outputs": [],
   "source": [
    "# 0-14, 25-31, 58-63, 90- len(list)"
   ]
  },
  {
   "cell_type": "code",
   "execution_count": 11,
   "metadata": {},
   "outputs": [
    {
     "name": "stdout",
     "output_type": "stream",
     "text": [
      "['!', '\"', '#', '$', '%', '&', \"'\", '(', ')', '*', '+', ',', '-', '.', '/', '0', '1', '2', '3', '4', '5', '6', '7', '8', '9', ':', ';', '<', '=', '>', '?', '@', 'A', 'B', 'C', 'D', 'E', 'F', 'G', 'H', 'I', 'J', 'K', 'L', 'M', 'N', 'O', 'P', 'Q', 'R', 'S', 'T', 'U', 'V', 'W', 'X', 'Y', 'Z', '[', '\\\\', ']', '^', '_', '`', 'a', 'b', 'c', 'd', 'e', 'f', 'g', 'h', 'i', 'j', 'k', 'l', 'm', 'n', 'o', 'p', 'q', 'r', 's', 't', 'u', 'v', 'w', 'x', 'y', 'z', '{', '|', '}', '~']\n"
     ]
    }
   ],
   "source": [
    "symbolList = []\n",
    "for i in symbolNums:\n",
    "    symbolList.append(chr(i))\n",
    "print(symbolList)"
   ]
  },
  {
   "cell_type": "code",
   "execution_count": 12,
   "metadata": {},
   "outputs": [],
   "source": [
    "#Alphabet ordinals\n",
    "nums = symbolList[15:25]\n",
    "upper = symbolList[32:58]\n",
    "lowerCase = symbolList[64:90]"
   ]
  },
  {
   "cell_type": "code",
   "execution_count": 13,
   "metadata": {},
   "outputs": [
    {
     "data": {
      "text/plain": [
       "'!\"#$%&\\'()*+,-./:;<=>?@[\\\\]^_`{|}~'"
      ]
     },
     "execution_count": 13,
     "metadata": {},
     "output_type": "execute_result"
    }
   ],
   "source": [
    "# print(symbolList[:15])\n",
    "# print(symbolList[25:32])\n",
    "# print(symbolList[58:64])\n",
    "# print(symbolList[90:])\n",
    "allsymbols = symbolList[:15] + symbolList[25:32] + symbolList[58:64] + symbolList[90:]\n",
    "strSymbols =''\n",
    "for i in allsymbols:\n",
    "    strSymbols += i\n",
    "#allsymbols\n",
    "strSymbols"
   ]
  },
  {
   "cell_type": "code",
   "execution_count": 38,
   "metadata": {},
   "outputs": [],
   "source": [
    "def checkSymbols(text: str) -> bool:\n",
    "    return any(c for c in text if not c.isalnum() and not c.isspace())"
   ]
  },
  {
   "cell_type": "code",
   "execution_count": 47,
   "metadata": {},
   "outputs": [
    {
     "name": "stdout",
     "output_type": "stream",
     "text": [
      ".\n",
      "'\n",
      ".\n",
      "[60, 64, 136]\n"
     ]
    },
    {
     "data": {
      "text/plain": [
       "'.'"
      ]
     },
     "execution_count": 47,
     "metadata": {},
     "output_type": "execute_result"
    }
   ],
   "source": [
    "#checkSymbols(strs)\n",
    "counter = 0\n",
    "symbolLoc = []\n",
    "for it in strs:\n",
    "    if checkSymbols(it):\n",
    "        print(it)\n",
    "        symbolLoc.append(counter)\n",
    "        counter += 1\n",
    "    else:\n",
    "        counter += 1\n",
    "print(symbolLoc)\n",
    "strs[136]"
   ]
  },
  {
   "cell_type": "code",
   "execution_count": null,
   "metadata": {},
   "outputs": [],
   "source": [
    "# def switchCase(listInput):\n",
    "#     switcher = {\n",
    "#         1: isnum\n",
    "#         2: isupper\n",
    "#         3: islower\n",
    "#         4: is not num, upper, or lower\n",
    "#     }\n",
    "# print switcher.get(listInput, \"\")"
   ]
  },
  {
   "cell_type": "code",
   "execution_count": null,
   "metadata": {},
   "outputs": [],
   "source": [
    "#Find punctuation and special chars\n",
    "i = 0\n",
    "spaceCounter = 0\n",
    "while i < len(strs):\n",
    "    if strs[i] == '.':\n",
    "        print(f'there is a period at {i}')\n",
    "        i += 1\n",
    "    elif strs[i] == \"'\" :\n",
    "        print(f' apostraphy at {i}')\n",
    "        i += 1\n",
    "    elif (i < 60) & (strs[i] == ' '):\n",
    "        spaceCounter+= 1\n",
    "        i += 1\n",
    "    else:\n",
    "        i += 1\n",
    "print(spaceCounter)"
   ]
  },
  {
   "cell_type": "code",
   "execution_count": null,
   "metadata": {},
   "outputs": [],
   "source": [
    "squishedStr = list(squishedStr)\n",
    "squishedStr.insert(51,'.')\n",
    "squishedStr.insert(137, '.')\n",
    "squishedStr.insert(63-9, \"'\")\n",
    "squishedStr = ''.join(squishedStr)\n",
    "squishedStr"
   ]
  },
  {
   "cell_type": "code",
   "execution_count": null,
   "metadata": {},
   "outputs": [],
   "source": [
    "# if strs[(len(strs)-1)] != ' ':\n",
    "#         strs = list(strs)\n",
    "#         strs.append(' ')\n",
    "#     strEndSpace = ''\n",
    "#     for ele in strs:\n",
    "#         strEndSpace += ele\n",
    "#     return strEndSpace"
   ]
  },
  {
   "cell_type": "markdown",
   "metadata": {},
   "source": [
    "# addSpaces\n",
    "- first addspaces checks to see if there is a space at end of codedStr\n",
    "- if not adds a space to correct the count\n",
    "- adds spaces into the string at appropriate indexes, and then removes the excess\n",
    "- separates the coded string into a list with appropriate spaces\n",
    "- recreates the string"
   ]
  },
  {
   "cell_type": "code",
   "execution_count": null,
   "metadata": {},
   "outputs": [],
   "source": [
    "def addSpaces(codedStr, squishedStr):\n",
    "    if codedStr[(len(codedStr)-1)] != ' ':\n",
    "        codedStr = list(codedStr)\n",
    "        codedStr.append(' ')\n",
    "    strEndSpace = ''\n",
    "    for ele in codedStr:\n",
    "        strEndSpace += ele\n",
    "    codedStr = strEndSpace\n",
    "    spacesList = [loc for loc, space in enumerate(codedStr) if space == ' ']\n",
    "    #print(spacesList)\n",
    "    withSpaces = []\n",
    "    ctr = 0\n",
    "    for i in spacesList:\n",
    "        add = ' '\n",
    "        index = i - ctr\n",
    "        if ctr == 25:\n",
    "            withSpaces.append(squishedStr[:index+1] + add)\n",
    "            ctr += 1\n",
    "        else:\n",
    "            withSpaces.append(squishedStr[:index] + add)\n",
    "            ctr += 1\n",
    "    newList = []\n",
    "    counter = 0\n",
    "    for i in withSpaces:\n",
    "        lastI =  len(withSpaces)\n",
    "        if len(i) > len(withSpaces[0]):\n",
    "            sliceNum = len(withSpaces[counter]) - len(withSpaces[counter - 1])\n",
    "            newList.append(withSpaces[counter][-sliceNum-1:])\n",
    "            counter += 1\n",
    "        else: \n",
    "            newList.append(i)\n",
    "            counter += 1\n",
    "    newStr = ' '.join([str(elem) for elem in newList])\n",
    "    return newStr"
   ]
  },
  {
   "cell_type": "code",
   "execution_count": null,
   "metadata": {},
   "outputs": [],
   "source": [
    "withSpaces = addSpaces(strs, squishedStr)\n",
    "withSpaces"
   ]
  },
  {
   "cell_type": "code",
   "execution_count": null,
   "metadata": {},
   "outputs": [],
   "source": []
  }
 ],
 "metadata": {
  "kernelspec": {
   "display_name": "Python 3",
   "language": "python",
   "name": "python3"
  },
  "language_info": {
   "codemirror_mode": {
    "name": "ipython",
    "version": 3
   },
   "file_extension": ".py",
   "mimetype": "text/x-python",
   "name": "python",
   "nbconvert_exporter": "python",
   "pygments_lexer": "ipython3",
   "version": "3.7.7"
  }
 },
 "nbformat": 4,
 "nbformat_minor": 4
}
