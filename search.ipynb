{
 "cells": [
  {
   "cell_type": "markdown",
   "metadata": {},
   "source": [
    "# cipherTwo\n",
    "- cipherTwo will expand on caesar.py incorporating a vignere cipher and options to search for words within the text to allow for punctuation and proper spacing. "
   ]
  },
  {
   "cell_type": "code",
   "execution_count": 1,
   "metadata": {},
   "outputs": [],
   "source": [
    "# def decoder(coded, shift):\n",
    "#     decoded = []\n",
    "#     for char in coded:\n",
    "#         if char.isalpha():\n",
    "#             char = char.lower()\n",
    "#             limitAlpha = ord(char) - shift\n",
    "#             if (limitAlpha < ord('a')) :\n",
    "#                 backshift = ord('a') - limitAlpha\n",
    "#                 backshift = ord('z') - backshift\n",
    "#                 backshift = chr(backshift)\n",
    "#                 #print(f'Backshift : {backshift}')\n",
    "#                 decoded.append(backshift)\n",
    "#             else:\n",
    "#                 decoded.append(chr(limitAlpha))\n",
    "#     return ''.join(decoded)"
   ]
  },
  {
   "cell_type": "markdown",
   "metadata": {},
   "source": [
    "# <! Notes\n",
    "- add isupper conditional, save location of isupper == true, upon joining list return indexes of isupper to \n",
    "uppercase\n",
    "- create a switch case statment for isalpha, isspace, isnumeric, is specialchar\n",
    "- create a nums cipher rotation +||- shift\n",
    "- create a punc cipher rotation +||- shift\n",
    "- upon joining list add spaces back in at spacesIdx locations\n",
    "- ordinal nums for punc begin with ord('!') = 33, ord('~') = 126\n",
    "- ordinal nums for numbers begin with ord('0') = 48 to ord('9') = 57, make sure to convert to str"
   ]
  },
  {
   "cell_type": "markdown",
   "metadata": {},
   "source": [
    "# Variables\n",
    "- Global variables for manipulation"
   ]
  },
  {
   "cell_type": "code",
   "execution_count": 2,
   "metadata": {},
   "outputs": [],
   "source": [
    "strs = \"vhfinmxkl atox kxgwxkxw tee hy maxlx hew vbiaxkl tl hulhexmx. px'ee atox mh kxteer lmxi ni hnk ztfx by px ptgm mh dxxi hnk fxlltzxl ltyx.\""
   ]
  },
  {
   "cell_type": "code",
   "execution_count": 3,
   "metadata": {},
   "outputs": [],
   "source": [
    "squishedStr = \"computershaverenderedalloftheseoldciphersasobsoletewellhavetoreallystepupourgameifwewanttokeepourmessagessafe\""
   ]
  },
  {
   "cell_type": "code",
   "execution_count": 4,
   "metadata": {},
   "outputs": [],
   "source": [
    "dirtyNumerals = \"\"\"1st – first\n",
    "2nd – second\n",
    "3rd – third\n",
    "4th – fourth\n",
    "5th – fifth\n",
    "6th – sixth\n",
    "7th – seventh\n",
    "8th – eighth\n",
    "9th – ninth\n",
    "10th – tenth\n",
    "11th – eleventh\n",
    "12th – twelfth\n",
    "13th – thirteenth\n",
    "14th – fourteenth\n",
    "15th – fifteenth\n",
    "16th – sixteenth\n",
    "17th – seventeenth\n",
    "18th – eighteenth\n",
    "19th – nineteenth\n",
    "20th – twentieth\n",
    "21st – twenty-first\n",
    "22nd – twenty-second\n",
    "23rd – twenty-third\n",
    "24th – twenty-fourth\n",
    "25th – twenty-fifth\n",
    "26th – twenty-sixth\"\"\""
   ]
  },
  {
   "cell_type": "code",
   "execution_count": 5,
   "metadata": {},
   "outputs": [],
   "source": [
    "#Cleaning dirtyNumerals\n",
    "#making oridinals list for globals(i)\n",
    "removeChars = ['–', '\\n']\n",
    "for i in removeChars:\n",
    "    dirtyNumerals = dirtyNumerals.replace(i, ' ')\n",
    "dirtyNumerals = dirtyNumerals.split(\" \")"
   ]
  },
  {
   "cell_type": "code",
   "execution_count": 6,
   "metadata": {},
   "outputs": [],
   "source": [
    "emptyIdx = []\n",
    "i = 0\n",
    "for j in dirtyNumerals:\n",
    "    if j == '':\n",
    "        emptyIdx.append(dirtyNumerals.index('', i))\n",
    "        i += 1\n",
    "    else:\n",
    "        i += 1"
   ]
  },
  {
   "cell_type": "code",
   "execution_count": 7,
   "metadata": {},
   "outputs": [],
   "source": [
    "#prints all elements inline with a comma\n",
    "def printInline(toPrint):\n",
    "    for i in toPrint:\n",
    "        print(str(i) + ', ', end = \" \")"
   ]
  },
  {
   "cell_type": "code",
   "execution_count": 8,
   "metadata": {},
   "outputs": [
    {
     "name": "stdout",
     "output_type": "stream",
     "text": [
      "1,  2,  5,  6,  9,  10,  13,  14,  17,  18,  21,  22,  25,  26,  29,  30,  33,  34,  37,  38,  41,  42,  45,  46,  49,  50,  53,  54,  57,  58,  61,  62,  65,  66,  69,  70,  73,  74,  77,  78,  81,  82,  85,  86,  89,  90,  93,  94,  97,  98,  101,  102,  "
     ]
    }
   ],
   "source": [
    "printInline(emptyIdx)"
   ]
  },
  {
   "cell_type": "code",
   "execution_count": 9,
   "metadata": {},
   "outputs": [],
   "source": [
    "#printInline(dirtyNumerals)"
   ]
  },
  {
   "cell_type": "code",
   "execution_count": 10,
   "metadata": {},
   "outputs": [],
   "source": [
    "def removeSpaces(listName):\n",
    "    filterLambda = filter(lambda x: x != '', listName)\n",
    "    cleanList = list(filterLambda)\n",
    "    return cleanList"
   ]
  },
  {
   "cell_type": "code",
   "execution_count": 11,
   "metadata": {},
   "outputs": [],
   "source": [
    "# #Printing dirtyNumerals\n",
    "# for i in dirtyNumerals:\n",
    "#     print(str(i) + ', ', end = \" \")"
   ]
  },
  {
   "cell_type": "code",
   "execution_count": 12,
   "metadata": {},
   "outputs": [
    {
     "name": "stdout",
     "output_type": "stream",
     "text": [
      "['1st', 'first', '2nd', 'second', '3rd', 'third', '4th', 'fourth', '5th', 'fifth', '6th', 'sixth', '7th', 'seventh', '8th', 'eighth', '9th', 'ninth', '10th', 'tenth', '11th', 'eleventh', '12th', 'twelfth', '13th', 'thirteenth', '14th', 'fourteenth', '15th', 'fifteenth', '16th', 'sixteenth', '17th', 'seventeenth', '18th', 'eighteenth', '19th', 'nineteenth', '20th', 'twentieth', '21st', 'twenty-first', '22nd', 'twenty-second', '23rd', 'twenty-third', '24th', 'twenty-fourth', '25th', 'twenty-fifth', '26th', 'twenty-sixth']\n"
     ]
    }
   ],
   "source": [
    "cleanNumerals = removeSpaces(dirtyNumerals)\n",
    "print(cleanNumerals)"
   ]
  },
  {
   "cell_type": "code",
   "execution_count": 13,
   "metadata": {},
   "outputs": [
    {
     "name": "stdout",
     "output_type": "stream",
     "text": [
      "0,  1,  2,  3,  4,  5,  6,  7,  8,  9,  <class 'str'>\n"
     ]
    }
   ],
   "source": [
    "#Setting up string list of numbers to match\n",
    "strNums = []\n",
    "for i in range(10):\n",
    "    strNums.append(str(i))\n",
    "printInline(strNums)\n",
    "print(type(strNums[0]))"
   ]
  },
  {
   "cell_type": "code",
   "execution_count": 19,
   "metadata": {},
   "outputs": [],
   "source": [
    "#Attempting to use itertools to create a while loop in a list comp\n",
    "# from itertools import accumulate, repeat, takewhile\n",
    "# list(takewhile(lambda x : x <= 20, accumulate(repeat(1)), lambda x, _: x + 10))"
   ]
  },
  {
   "cell_type": "code",
   "execution_count": 36,
   "metadata": {},
   "outputs": [
    {
     "data": {
      "text/plain": [
       "[5, 4, 3, 2, 1, 0]"
      ]
     },
     "execution_count": 36,
     "metadata": {},
     "output_type": "execute_result"
    }
   ],
   "source": [
    "def P(n):\n",
    "    while n >= 0:\n",
    "        yield n\n",
    "        n -=1\n",
    "n = 5\n",
    "list(P(n))"
   ]
  },
  {
   "cell_type": "code",
   "execution_count": 98,
   "metadata": {},
   "outputs": [
    {
     "data": {
      "text/plain": [
       "<generator object iterOne at 0x7fb247801f50>"
      ]
     },
     "execution_count": 98,
     "metadata": {},
     "output_type": "execute_result"
    }
   ],
   "source": [
    "i = 0\n",
    "iterOn = [1,3,4,5]\n",
    "def iterOne(i, iters):\n",
    "    while i < len(iters):\n",
    "        print(iters[i])\n",
    "        yield iters[i]\n",
    "        i += 1\n",
    "iterOne(i, iterOn)"
   ]
  },
  {
   "cell_type": "code",
   "execution_count": 106,
   "metadata": {},
   "outputs": [],
   "source": [
    "#Creating while loop generator for a list comp\n",
    "# i is the counter\n",
    "#Call func whileComprehension(someInteger, listToIterate)\n",
    "def whileComprehension(i, iterOne):\n",
    "    def whileGenerator(i, iterOne):\n",
    "        while i < len(iterOne):\n",
    "            print(iterOne[i])\n",
    "            yield iterOne[i]\n",
    "            i += 1\n",
    "    madeList = list(whileGenerator(i, iterOne))\n",
    "    #return madeList"
   ]
  },
  {
   "cell_type": "code",
   "execution_count": 117,
   "metadata": {},
   "outputs": [
    {
     "name": "stdout",
     "output_type": "stream",
     "text": [
      "1st\n",
      "1st\n"
     ]
    }
   ],
   "source": [
    "def tryWhile(i, listI):\n",
    "    while i < len(listI):\n",
    "        try:\n",
    "            newVar = listI[i]\n",
    "            yield newVar\n",
    "        except: \n",
    "            break\n",
    "print(next(tryWhile(0, cleanNumerals)))\n",
    "print(next(tryWhile(0, cleanNumerals)))"
   ]
  },
  {
   "cell_type": "code",
   "execution_count": 109,
   "metadata": {},
   "outputs": [],
   "source": [
    "#(whileComprehension(0, cleanNumerals))"
   ]
  },
  {
   "cell_type": "code",
   "execution_count": null,
   "metadata": {},
   "outputs": [],
   "source": [
    "#Matching List Comprehension\n",
    "#match = [doSomething if IConditional else otherIConditional for iterI in listToIter]\n",
    "match = []"
   ]
  },
  {
   "cell_type": "code",
   "execution_count": 47,
   "metadata": {},
   "outputs": [
    {
     "ename": "SyntaxError",
     "evalue": "invalid syntax (<ipython-input-47-f6b023866708>, line 1)",
     "output_type": "error",
     "traceback": [
      "\u001b[0;36m  File \u001b[0;32m\"<ipython-input-47-f6b023866708>\"\u001b[0;36m, line \u001b[0;32m1\u001b[0m\n\u001b[0;31m    i for i in cleanNumerals if i ==\u001b[0m\n\u001b[0m        ^\u001b[0m\n\u001b[0;31mSyntaxError\u001b[0m\u001b[0;31m:\u001b[0m invalid syntax\n"
     ]
    }
   ],
   "source": [
    "i for i in cleanNumerals if i == \n",
    "    "
   ]
  },
  {
   "cell_type": "code",
   "execution_count": 14,
   "metadata": {},
   "outputs": [],
   "source": [
    "#\"1\" in cleanNumerals[0]"
   ]
  },
  {
   "cell_type": "code",
   "execution_count": 15,
   "metadata": {},
   "outputs": [],
   "source": [
    "def getOrdinalsList(chrType, begin, end):\n",
    "    ordList = []\n",
    "    for i in range(begin, end):\n",
    "        ordList.append(i)\n",
    "    #print(ordList)\n",
    "    #print(type(ordList[0]))\n",
    "    print(f'The {chrType} ASCII begins with the number: {ordList[-len(ordList)]},'\\\n",
    "          + f' and the {chrType}: {chr(ordList[-len(ordList)])}')\n",
    "    print(f'Negative len: {-len(ordList)}')\n",
    "    print(f'End of list idx: {len(ordList)-1}')\n",
    "    print(f'The {chrType} ASCII ends with the number: {ordList[len(ordList)-1]},'\\\n",
    "          + f' and the {chrType}: {chr(ordList[len(ordList)-1])}')\n",
    "    return ordList"
   ]
  },
  {
   "cell_type": "code",
   "execution_count": 16,
   "metadata": {},
   "outputs": [],
   "source": [
    "# print(chr(33))\n",
    "# print(chr(126))"
   ]
  },
  {
   "cell_type": "code",
   "execution_count": 17,
   "metadata": {},
   "outputs": [
    {
     "name": "stdout",
     "output_type": "stream",
     "text": [
      "The Symbol ASCII begins with the number: 33, and the Symbol: !\n",
      "Negative len: -94\n",
      "End of list idx: 93\n",
      "The Symbol ASCII ends with the number: 126, and the Symbol: ~\n",
      "[33, 34, 35, 36, 37, 38, 39, 40, 41, 42, 43, 44, 45, 46, 47, 48, 49, 50, 51, 52, 53, 54, 55, 56, 57, 58, 59, 60, 61, 62, 63, 64, 65, 66, 67, 68, 69, 70, 71, 72, 73, 74, 75, 76, 77, 78, 79, 80, 81, 82, 83, 84, 85, 86, 87, 88, 89, 90, 91, 92, 93, 94, 95, 96, 97, 98, 99, 100, 101, 102, 103, 104, 105, 106, 107, 108, 109, 110, 111, 112, 113, 114, 115, 116, 117, 118, 119, 120, 121, 122, 123, 124, 125, 126]\n"
     ]
    }
   ],
   "source": [
    "symbolList = getOrdinalsList('Symbol', 33, 127)\n",
    "print(symbolList)"
   ]
  },
  {
   "cell_type": "code",
   "execution_count": 18,
   "metadata": {},
   "outputs": [],
   "source": [
    "# print(chr(48))\n",
    "# print(chr(57))"
   ]
  },
  {
   "cell_type": "code",
   "execution_count": 19,
   "metadata": {},
   "outputs": [
    {
     "name": "stdout",
     "output_type": "stream",
     "text": [
      "The Number ASCII begins with the number: 48, and the Number: 0\n",
      "Negative len: -10\n",
      "End of list idx: 9\n",
      "The Number ASCII ends with the number: 57, and the Number: 9\n",
      "[48, 49, 50, 51, 52, 53, 54, 55, 56, 57]\n"
     ]
    }
   ],
   "source": [
    "numsList = getOrdinalsList('Number', 48, 58)\n",
    "print(numsList)"
   ]
  },
  {
   "cell_type": "markdown",
   "metadata": {},
   "source": [
    "# Functions\n",
    "- preset functions to be used later"
   ]
  },
  {
   "cell_type": "code",
   "execution_count": 115,
   "metadata": {},
   "outputs": [],
   "source": [
    "import pandas as pd"
   ]
  },
  {
   "cell_type": "code",
   "execution_count": 116,
   "metadata": {},
   "outputs": [
    {
     "data": {
      "text/plain": [
       "\"vhfinmxkl atox kxgwxkxw tee hy maxlx hew vbiaxkl tl hulhexmx. px'ee atox mh kxteer lmxi ni hnk ztfx by px ptgm mh dxxi hnk fxlltzxl ltyx.\""
      ]
     },
     "execution_count": 116,
     "metadata": {},
     "output_type": "execute_result"
    }
   ],
   "source": [
    "strs"
   ]
  },
  {
   "cell_type": "code",
   "execution_count": 117,
   "metadata": {},
   "outputs": [
    {
     "data": {
      "text/plain": [
       "[9, 4, 8, 3, 2, 5, 3, 7, 2, 9, 5, 4, 2, 6, 4, 2, 3, 4, 2, 2, 4, 2, 4, 3, 8, 5]"
      ]
     },
     "execution_count": 117,
     "metadata": {},
     "output_type": "execute_result"
    }
   ],
   "source": [
    "splitStrs = strs.split(\" \")\n",
    "#print(splitStrs)\n",
    "wordLength = []\n",
    "for i in splitStrs:\n",
    "    wordLength.append(len(i))\n",
    "    #print(f'{i}, Length:{len(i)}')\n",
    "wordLength"
   ]
  },
  {
   "cell_type": "code",
   "execution_count": 118,
   "metadata": {},
   "outputs": [
    {
     "data": {
      "text/html": [
       "<div>\n",
       "<style scoped>\n",
       "    .dataframe tbody tr th:only-of-type {\n",
       "        vertical-align: middle;\n",
       "    }\n",
       "\n",
       "    .dataframe tbody tr th {\n",
       "        vertical-align: top;\n",
       "    }\n",
       "\n",
       "    .dataframe thead th {\n",
       "        text-align: right;\n",
       "    }\n",
       "</style>\n",
       "<table border=\"1\" class=\"dataframe\">\n",
       "  <thead>\n",
       "    <tr style=\"text-align: right;\">\n",
       "      <th></th>\n",
       "      <th>index</th>\n",
       "      <th>0</th>\n",
       "    </tr>\n",
       "  </thead>\n",
       "  <tbody>\n",
       "    <tr>\n",
       "      <th>0</th>\n",
       "      <td>vhfinmxkl</td>\n",
       "      <td>9</td>\n",
       "    </tr>\n",
       "    <tr>\n",
       "      <th>1</th>\n",
       "      <td>atox</td>\n",
       "      <td>4</td>\n",
       "    </tr>\n",
       "    <tr>\n",
       "      <th>2</th>\n",
       "      <td>kxgwxkxw</td>\n",
       "      <td>8</td>\n",
       "    </tr>\n",
       "    <tr>\n",
       "      <th>3</th>\n",
       "      <td>tee</td>\n",
       "      <td>3</td>\n",
       "    </tr>\n",
       "    <tr>\n",
       "      <th>4</th>\n",
       "      <td>hy</td>\n",
       "      <td>2</td>\n",
       "    </tr>\n",
       "    <tr>\n",
       "      <th>5</th>\n",
       "      <td>maxlx</td>\n",
       "      <td>5</td>\n",
       "    </tr>\n",
       "    <tr>\n",
       "      <th>6</th>\n",
       "      <td>hew</td>\n",
       "      <td>3</td>\n",
       "    </tr>\n",
       "    <tr>\n",
       "      <th>7</th>\n",
       "      <td>vbiaxkl</td>\n",
       "      <td>7</td>\n",
       "    </tr>\n",
       "    <tr>\n",
       "      <th>8</th>\n",
       "      <td>tl</td>\n",
       "      <td>2</td>\n",
       "    </tr>\n",
       "    <tr>\n",
       "      <th>9</th>\n",
       "      <td>hulhexmx.</td>\n",
       "      <td>9</td>\n",
       "    </tr>\n",
       "    <tr>\n",
       "      <th>10</th>\n",
       "      <td>px'ee</td>\n",
       "      <td>5</td>\n",
       "    </tr>\n",
       "    <tr>\n",
       "      <th>11</th>\n",
       "      <td>mh</td>\n",
       "      <td>2</td>\n",
       "    </tr>\n",
       "    <tr>\n",
       "      <th>12</th>\n",
       "      <td>kxteer</td>\n",
       "      <td>6</td>\n",
       "    </tr>\n",
       "    <tr>\n",
       "      <th>13</th>\n",
       "      <td>lmxi</td>\n",
       "      <td>4</td>\n",
       "    </tr>\n",
       "    <tr>\n",
       "      <th>14</th>\n",
       "      <td>ni</td>\n",
       "      <td>2</td>\n",
       "    </tr>\n",
       "    <tr>\n",
       "      <th>15</th>\n",
       "      <td>hnk</td>\n",
       "      <td>3</td>\n",
       "    </tr>\n",
       "    <tr>\n",
       "      <th>16</th>\n",
       "      <td>ztfx</td>\n",
       "      <td>4</td>\n",
       "    </tr>\n",
       "    <tr>\n",
       "      <th>17</th>\n",
       "      <td>by</td>\n",
       "      <td>2</td>\n",
       "    </tr>\n",
       "    <tr>\n",
       "      <th>18</th>\n",
       "      <td>px</td>\n",
       "      <td>2</td>\n",
       "    </tr>\n",
       "    <tr>\n",
       "      <th>19</th>\n",
       "      <td>ptgm</td>\n",
       "      <td>4</td>\n",
       "    </tr>\n",
       "    <tr>\n",
       "      <th>20</th>\n",
       "      <td>dxxi</td>\n",
       "      <td>4</td>\n",
       "    </tr>\n",
       "    <tr>\n",
       "      <th>21</th>\n",
       "      <td>fxlltzxl</td>\n",
       "      <td>8</td>\n",
       "    </tr>\n",
       "    <tr>\n",
       "      <th>22</th>\n",
       "      <td>ltyx.</td>\n",
       "      <td>5</td>\n",
       "    </tr>\n",
       "  </tbody>\n",
       "</table>\n",
       "</div>"
      ],
      "text/plain": [
       "        index  0\n",
       "0   vhfinmxkl  9\n",
       "1        atox  4\n",
       "2    kxgwxkxw  8\n",
       "3         tee  3\n",
       "4          hy  2\n",
       "5       maxlx  5\n",
       "6         hew  3\n",
       "7     vbiaxkl  7\n",
       "8          tl  2\n",
       "9   hulhexmx.  9\n",
       "10      px'ee  5\n",
       "11         mh  2\n",
       "12     kxteer  6\n",
       "13       lmxi  4\n",
       "14         ni  2\n",
       "15        hnk  3\n",
       "16       ztfx  4\n",
       "17         by  2\n",
       "18         px  2\n",
       "19       ptgm  4\n",
       "20       dxxi  4\n",
       "21   fxlltzxl  8\n",
       "22      ltyx.  5"
      ]
     },
     "execution_count": 118,
     "metadata": {},
     "output_type": "execute_result"
    }
   ],
   "source": [
    "wordNums = {}\n",
    "strsList = strs.split(\" \")\n",
    "for key in strsList:\n",
    "    for value in wordLength:\n",
    "        wordNums[key] = value\n",
    "        wordLength.remove(value)\n",
    "        break\n",
    "firstFrame = pd.DataFrame.from_dict(wordNums, orient=\"index\")\n",
    "firstFrame = firstFrame.reset_index()\n",
    "fristFrame = firstFrame.rename(columns={'index':'coded', '0':'len'})\n",
    "firstFrame"
   ]
  },
  {
   "cell_type": "code",
   "execution_count": 72,
   "metadata": {},
   "outputs": [
    {
     "ename": "TypeError",
     "evalue": "'dict_keys' object is not subscriptable",
     "output_type": "error",
     "traceback": [
      "\u001b[0;31m---------------------------------------------------------------------------\u001b[0m",
      "\u001b[0;31mTypeError\u001b[0m                                 Traceback (most recent call last)",
      "\u001b[0;32m<ipython-input-72-f6fcdd3fdbd2>\u001b[0m in \u001b[0;36m<module>\u001b[0;34m\u001b[0m\n\u001b[0;32m----> 1\u001b[0;31m \u001b[0mwordNums\u001b[0m\u001b[0;34m.\u001b[0m\u001b[0mkeys\u001b[0m\u001b[0;34m(\u001b[0m\u001b[0;34m)\u001b[0m\u001b[0;34m[\u001b[0m\u001b[0;36m0\u001b[0m\u001b[0;34m]\u001b[0m\u001b[0;34m\u001b[0m\u001b[0;34m\u001b[0m\u001b[0m\n\u001b[0m",
      "\u001b[0;31mTypeError\u001b[0m: 'dict_keys' object is not subscriptable"
     ]
    }
   ],
   "source": [
    ")"
   ]
  },
  {
   "cell_type": "code",
   "execution_count": 22,
   "metadata": {},
   "outputs": [],
   "source": [
    "squishedStr = \"computershaverenderedalloftheseoldciphersasobsoletewellhavetoreallystepupourgameifwewanttokeepourmessagessafe\""
   ]
  },
  {
   "cell_type": "code",
   "execution_count": 23,
   "metadata": {},
   "outputs": [
    {
     "data": {
      "text/plain": [
       "26"
      ]
     },
     "execution_count": 23,
     "metadata": {},
     "output_type": "execute_result"
    }
   ],
   "source": [
    "len(wordLength)"
   ]
  },
  {
   "cell_type": "code",
   "execution_count": 24,
   "metadata": {},
   "outputs": [
    {
     "data": {
      "text/plain": [
       "109"
      ]
     },
     "execution_count": 24,
     "metadata": {},
     "output_type": "execute_result"
    }
   ],
   "source": [
    "len(squishedStr)"
   ]
  },
  {
   "cell_type": "code",
   "execution_count": 25,
   "metadata": {},
   "outputs": [
    {
     "data": {
      "text/plain": [
       "135"
      ]
     },
     "execution_count": 25,
     "metadata": {},
     "output_type": "execute_result"
    }
   ],
   "source": [
    "#Should be adding 26 spaces into squishedStr\n",
    "109 + 26"
   ]
  },
  {
   "cell_type": "code",
   "execution_count": 26,
   "metadata": {},
   "outputs": [
    {
     "data": {
      "text/plain": [
       "21"
      ]
     },
     "execution_count": 26,
     "metadata": {},
     "output_type": "execute_result"
    }
   ],
   "source": [
    "9+4+8"
   ]
  },
  {
   "cell_type": "code",
   "execution_count": 27,
   "metadata": {},
   "outputs": [],
   "source": [
    "# withSpaces = []\n",
    "# ctr = 0\n",
    "# for i in spacesList:\n",
    "#     add = ' '\n",
    "#     #print(type(i))\n",
    "#     #print(squishedStr[i])\n",
    "#     print(i)\n",
    "#     index = i - ctr\n",
    "#     print(index)\n",
    "#     print(squishedStr[:index] + add)\n",
    "#     ctr += 1\n",
    "# #print(withSpaces)"
   ]
  },
  {
   "cell_type": "code",
   "execution_count": 28,
   "metadata": {},
   "outputs": [],
   "source": [
    "withSpaces = []\n",
    "counter = 0\n",
    "i = 0\n",
    "while i < (len(wordLength) - 1):\n",
    "    counter += wordLength[i] #+ wordLength[i + 1]\n",
    "    #print(wordLength[i])\n",
    "    #print(counter)\n",
    "    startIndex = counter - wordLength[i]\n",
    "    #print(startIndex)\n",
    "    withSpaces.append(squishedStr[startIndex : counter] + ' ')\n",
    "    i += 1\n",
    "    #print(squishedStr[i]"
   ]
  },
  {
   "cell_type": "code",
   "execution_count": 29,
   "metadata": {},
   "outputs": [],
   "source": [
    "withSpaces\n",
    "wordLengthSpaces = []\n",
    "for i in withSpaces:\n",
    "    wordLengthSpaces.append(len(i))\n",
    "    #print(f'{i}, Length:{len(i)}')\n"
   ]
  },
  {
   "cell_type": "code",
   "execution_count": 68,
   "metadata": {},
   "outputs": [],
   "source": [
    "# i = 0\n",
    "# while i < len(wordLengthSpaces):\n",
    "#     print(wordLengthSpaces[i])\n",
    "#     print(wordLength[i])\n",
    "#     i += 1"
   ]
  },
  {
   "cell_type": "code",
   "execution_count": null,
   "metadata": {},
   "outputs": [],
   "source": [
    "spacesList = [loc for loc, space in enumerate(strs) if space == ' ']\n",
    "print(spacesList)"
   ]
  },
  {
   "cell_type": "code",
   "execution_count": null,
   "metadata": {},
   "outputs": [],
   "source": [
    "squishedStr[0]\n",
    "spacesList[0]\n",
    "print(squishedStr[0 : spacesList[0] - 0])\n",
    "#print(squishedStr[spacesList[0] - 0 : spacesList[0] - 0])\n",
    "print(squishedStr[spacesList[0] - 0 : spacesList[1] - 1])\n",
    "print(squishedStr[spacesList[1] - 1 : spacesList[2] - 2])\n",
    "print(squishedStr[spacesList[2] - 2 : spacesList[3] - 3])"
   ]
  },
  {
   "cell_type": "code",
   "execution_count": null,
   "metadata": {},
   "outputs": [],
   "source": [
    "# for i in spacesList:\n",
    "#     print(f'{i} type: {type(i)}')"
   ]
  },
  {
   "cell_type": "code",
   "execution_count": null,
   "metadata": {},
   "outputs": [],
   "source": [
    "squisheStr = list(squishedStr)\n",
    "squishedStr"
   ]
  },
  {
   "cell_type": "code",
   "execution_count": null,
   "metadata": {},
   "outputs": [],
   "source": []
  },
  {
   "cell_type": "code",
   "execution_count": null,
   "metadata": {},
   "outputs": [],
   "source": [
    "withSpaces = []\n",
    "ctr = 0\n",
    "for i in spacesList:\n",
    "    add = ' '\n",
    "    #print(type(i))\n",
    "    #print(squishedStr[i])\n",
    "    print(i)\n",
    "    index = i - ctr\n",
    "    print(index)\n",
    "    print(squishedStr[:index] + add)\n",
    "    ctr += 1\n",
    "#print(withSpaces)"
   ]
  },
  {
   "cell_type": "code",
   "execution_count": null,
   "metadata": {},
   "outputs": [],
   "source": [
    "\n",
    "squishedStr.insert(9-1, ' ')"
   ]
  },
  {
   "cell_type": "code",
   "execution_count": null,
   "metadata": {},
   "outputs": [],
   "source": [
    "# counter = 0\n",
    "# while counter < len(spacesList):\n",
    "#     print(squishedStr[spacesList[(counter)]:spacesList[(counter + 1)]-(counter + 1)])\n",
    "#     counter += 1"
   ]
  },
  {
   "cell_type": "code",
   "execution_count": null,
   "metadata": {},
   "outputs": [],
   "source": [
    "withSpaces = []\n",
    "counter = 0\n",
    "for i in spacesList:\n",
    "    withSpaces.append(squishedStr[counter:i-counter])"
   ]
  },
  {
   "cell_type": "code",
   "execution_count": null,
   "metadata": {},
   "outputs": [],
   "source": [
    "spacesList = []\n",
    "i = 0\n",
    "for j in strs:\n",
    "    if j == ' ':\n",
    "        spacesList.append(strs.index(' ', i))\n",
    "        i += 1\n",
    "    else:\n",
    "        i += 1"
   ]
  },
  {
   "cell_type": "code",
   "execution_count": null,
   "metadata": {},
   "outputs": [],
   "source": [
    "printInline(spacesList)"
   ]
  },
  {
   "cell_type": "code",
   "execution_count": null,
   "metadata": {},
   "outputs": [],
   "source": [
    "#prints all elements inline with a comma\n",
    "def printInline(toPrint):\n",
    "    for i in toPrint:\n",
    "        print(str(i) + ', ', end = \" \")"
   ]
  },
  {
   "cell_type": "code",
   "execution_count": null,
   "metadata": {},
   "outputs": [],
   "source": [
    "#making index list of space locations\n",
    "def locatingSpaces(message):\n",
    "    spacesList = []\n",
    "    counter = 0\n",
    "    for i in message:\n",
    "        if i == ' ':\n",
    "            spacesList.append(counter)\n",
    "            counter += 1\n",
    "        else:\n",
    "            counter += 1\n",
    "    return spacesList"
   ]
  },
  {
   "cell_type": "code",
   "execution_count": null,
   "metadata": {},
   "outputs": [],
   "source": [
    "locatedSpaces = locatingSpaces(strs)\n",
    "printInline(locatedSpaces)"
   ]
  },
  {
   "cell_type": "markdown",
   "metadata": {},
   "source": [
    "# Working"
   ]
  },
  {
   "cell_type": "code",
   "execution_count": null,
   "metadata": {},
   "outputs": [],
   "source": [
    "# Symbols Location in ASCII\n",
    "# ord('!') = 33, ord('~') = 126\n",
    "printInline(symbolList)"
   ]
  },
  {
   "cell_type": "code",
   "execution_count": null,
   "metadata": {},
   "outputs": [],
   "source": [
    "# #Incomplete\n",
    "# def findSpecialChar(string):\n",
    "#     for i in string:\n",
    "#         if i == chr(j):\n"
   ]
  },
  {
   "cell_type": "code",
   "execution_count": null,
   "metadata": {},
   "outputs": [],
   "source": [
    "# Numbers location in ASCII\n",
    "# ord('0') = 48, ord('9') = 57\n",
    "printInline(numsList)"
   ]
  },
  {
   "cell_type": "code",
   "execution_count": null,
   "metadata": {},
   "outputs": [],
   "source": [
    "# def findNumbers(string):"
   ]
  },
  {
   "cell_type": "code",
   "execution_count": null,
   "metadata": {},
   "outputs": [],
   "source": [
    "int('s')"
   ]
  },
  {
   "cell_type": "markdown",
   "metadata": {},
   "source": [
    "# Next\n",
    "- pattern match the 1 in 1st etc to 26th and remove those values\n",
    "- maybe use try and accept.. or create a list of strs 1 - 26 and match on that\n",
    "- making newGlobals to hold the 26 strings that the vignere cipher will output"
   ]
  },
  {
   "cell_type": "code",
   "execution_count": null,
   "metadata": {},
   "outputs": [],
   "source": [
    "# newGlobals = ordList\n",
    "# for i in ordList:\n",
    "#     newGlobals = []\n",
    "#     #can do some homogenized code to all elements in list here\n",
    "#     globals()[i] = newGlobals"
   ]
  },
  {
   "cell_type": "code",
   "execution_count": null,
   "metadata": {},
   "outputs": [],
   "source": [
    "# strs = \"vhfinmxkl atox kxgwxkxw tee hy maxlx hew vbiaxkl tl hulhexmx. px'ee atox mh kxteer lmxi ni hnk ztfx by px ptgm mh dxxi hnk fxlltzxl ltyx.\"\n",
    "# alpha = \"abcdefghijklmnopqrstuvwxyz\"\n",
    "# def eTuBrute(message, offset):\n",
    "#     def eTuBrute(message, offset):\n",
    "#         cipher_text = \"\"\n",
    "#         for char in message:\n",
    "#             if char.isalpha():\n",
    "#                 stay_in_alpha = ord(char) + offset\n",
    "#                 if stay_in_alpha > ord('z'):\n",
    "#                     stay_in_alpha -= 26\n",
    "#                 final_letter = chr(stay_in_alpha)\n",
    "#                 cipher_text += final_letter           \n",
    "#         return cipher_text\n",
    "\n",
    "#     for i in range(26):\n",
    "#         print(str(i))\n",
    "#         print(\"\\t \" + eTuBrute(strs, i) + \"\\n\")"
   ]
  },
  {
   "cell_type": "code",
   "execution_count": null,
   "metadata": {},
   "outputs": [],
   "source": [
    "strs.index(' ', 0, len(strs))"
   ]
  },
  {
   "cell_type": "code",
   "execution_count": null,
   "metadata": {},
   "outputs": [],
   "source": [
    "#Finds the Index location of the inputted string\n",
    "def spacesIndex(strs):\n",
    "    spacesList = []\n",
    "    counter = 0\n",
    "    spacesList.append(strs.index(' ', 0, len(strs)))\n",
    "    for i in strs:\n",
    "        if i == ' ':\n",
    "            spacesList.append(counter - 1)\n",
    "            #print(f'Before adding in If: {(counter - 1)}')\n",
    "            counter += 1\n",
    "        else:\n",
    "            #print(f'Before adding in Else: {counter}')\n",
    "            counter += 1 \n",
    "    return spacesList[:len(spacesList)]"
   ]
  },
  {
   "cell_type": "code",
   "execution_count": null,
   "metadata": {},
   "outputs": [],
   "source": [
    "withSpaces = spacesIndex(strs)\n",
    "printInline(withSpaces)"
   ]
  },
  {
   "cell_type": "code",
   "execution_count": null,
   "metadata": {},
   "outputs": [],
   "source": [
    "del withSpaces[1:2]"
   ]
  },
  {
   "cell_type": "code",
   "execution_count": null,
   "metadata": {},
   "outputs": [],
   "source": [
    "printInline(withSpaces)"
   ]
  },
  {
   "cell_type": "code",
   "execution_count": null,
   "metadata": {},
   "outputs": [],
   "source": [
    "squishedStr = \"computershaverenderedalloftheseoldciphersasobsoletewellhavetoreallystepupourgameifwewanttokeepourmessagessafe\""
   ]
  },
  {
   "cell_type": "code",
   "execution_count": null,
   "metadata": {},
   "outputs": [],
   "source": [
    "def addingSpaces(string, integer):\n",
    "    return string[0:integer] + ' ' #+ string[integer:]"
   ]
  },
  {
   "cell_type": "code",
   "execution_count": null,
   "metadata": {},
   "outputs": [],
   "source": [
    "for i in withSpaces:\n",
    "    print(addingSpaces(squishedStr, i))"
   ]
  },
  {
   "cell_type": "code",
   "execution_count": null,
   "metadata": {},
   "outputs": [],
   "source": [
    "printInline(locatedSpaces)"
   ]
  },
  {
   "cell_type": "code",
   "execution_count": null,
   "metadata": {},
   "outputs": [],
   "source": [
    "for i in locatedSpaces:\n",
    "    print(addingSpaces(squishedStr, i))"
   ]
  },
  {
   "cell_type": "code",
   "execution_count": null,
   "metadata": {},
   "outputs": [],
   "source": []
  },
  {
   "cell_type": "code",
   "execution_count": null,
   "metadata": {},
   "outputs": [],
   "source": [
    "# squishedStr = \"computershaverenderedalloftheseoldciphersasobsoletewellhavetoreallystepupourgameifwewanttokeepourmessagessafe\"\n",
    "\n",
    "# withSpaces = []\n",
    "# for i in emptyIdx:\n",
    "#     withSpaces.append(addingSpaces(squishedStr, i))\n",
    "# withSpaces"
   ]
  },
  {
   "cell_type": "markdown",
   "metadata": {},
   "source": [
    "# Cipher Functions\n",
    "- Three Caesar functions:\n",
    "    - eTuBrute is a brute force Casesar decoder\n",
    "    - Caesar is a caesar coder\n",
    "    - decoder is a caesar decoder\n"
   ]
  },
  {
   "cell_type": "code",
   "execution_count": null,
   "metadata": {},
   "outputs": [],
   "source": [
    "def eTuBrute():\n",
    "    strs = input(\"What is the Coded Message?\\n\")\n",
    "    #offset = input(\"What is the offset?\")\n",
    "    #alpha = \"abcdefghijklmnopqrstuvwxyz\"\n",
    "    def decodeString(message, offset):\n",
    "        emptyIdx = []\n",
    "        i = 0\n",
    "        for j in dirtyOrds:\n",
    "            if j == '':\n",
    "            emptyIdx.append(message.index('', i))\n",
    "            i += 1\n",
    "        else:\n",
    "            i += 1\n",
    "        cipher_text = \"\"\n",
    "        for char in message:\n",
    "            if char.isalpha():\n",
    "                stay_in_alpha = ord(char) + offset\n",
    "                if stay_in_alpha > ord('z'):\n",
    "                    stay_in_alpha -= 26\n",
    "                final_letter = chr(stay_in_alpha)\n",
    "                cipher_text += final_letter\n",
    "        \n",
    "        return cipher_text\n",
    "    for i in range(26):\n",
    "        print(str(i))\n",
    "        \n",
    "        print(\"\\t \" + decodeString(strs, i) + \"\\n\")\n",
    "eTuBrute()"
   ]
  },
  {
   "cell_type": "code",
   "execution_count": null,
   "metadata": {},
   "outputs": [],
   "source": [
    "strs = \"vhfinmxkl atox kxgwxkxw tee hy maxlx hew vbiaxkl tl hulhexmx. px'ee atox mh kxteer lmxi ni hnk ztfx by px ptgm mh dxxi hnk fxlltzxl ltyx.\"\n",
    "alpha = \"abcdefghijklmnopqrstuvwxyz\"\n",
    "def eTuBrute(message, offset):\n",
    "    cipher_text = \"\"\n",
    "    for char in message:\n",
    "        if char.isalpha():\n",
    "            stay_in_alpha = ord(char) + offset\n",
    "            if stay_in_alpha > ord('z'):\n",
    "                stay_in_alpha -= 26\n",
    "            final_letter = chr(stay_in_alpha)\n",
    "            cipher_text += final_letter           \n",
    "    return cipher_text\n",
    "\n",
    "for i in range(26):\n",
    "    print(str(i))\n",
    "    print(\"\\t \" + eTuBrute(strs, i) + \"\\n\")"
   ]
  },
  {
   "cell_type": "code",
   "execution_count": null,
   "metadata": {},
   "outputs": [],
   "source": [
    "def decoder(coded, shift):\n",
    "    decoded = []\n",
    "    spacesIdx = []\n",
    "    nums = []\n",
    "    puncList = []\n",
    "    specialChar = []\n",
    "    counter = 0\n",
    "    for char in coded:\n",
    "        if char.isalpha():\n",
    "            char = char.lower()\n",
    "            limitAlpha = ord(char) - shift\n",
    "            if (limitAlpha < ord('a')) :\n",
    "                backshift = ord('a') - limitAlpha\n",
    "                backshift = ord('z') - backshift\n",
    "                backshift = chr(backshift)\n",
    "                #print(f'Backshift : {backshift}')\n",
    "                decoded.append(backshift)\n",
    "                counter += 1\n",
    "            else:\n",
    "                decoded.append(chr(limitAlpha))\n",
    "                counter += 1\n",
    "        elif char.isspace():\n",
    "            spacesIdx.append(counter)\n",
    "            print(f'Space index: {spacesIdx}')\n",
    "            counter += 1\n",
    "        elif (str(char)).isnumeric():\n",
    "            nums.append(counter)\n",
    "            #print(char)\n",
    "            #print(f'Number index: {counter}')\n",
    "            counter += 1\n",
    "        else:\n",
    "            print(f'Unknown character: {char}')\n",
    "            puncList.append(char)\n",
    "            counter += 1\n",
    "    return ''.join(decoded), spacesIdx, nums, puncList;"
   ]
  },
  {
   "cell_type": "code",
   "execution_count": null,
   "metadata": {},
   "outputs": [],
   "source": [
    "def caesar(uncoded, shift):\n",
    "    coded = []\n",
    "    for char in uncoded:\n",
    "        if char.isalpha():\n",
    "            char = char.lower()\n",
    "            limitAlpha = ord(char) + shift\n",
    "            if (limitAlpha >= ord('a')) & (limitAlpha <= ord('z')) :\n",
    "                limitAlpha = chr(limitAlpha)\n",
    "                #print(f'LimitAlpha: {limitAlpha}')\n",
    "                coded.append(limitAlpha)\n",
    "            else:\n",
    "                frontShift = ((limitAlpha % ord('z')) % 26) + ord('a')\n",
    "                #print(f'Frontshift: {frontShift}')\n",
    "                coded.append(chr(frontShift))\n",
    "                #coded.append(frontShift)\n",
    "    return ''.join(coded)"
   ]
  },
  {
   "cell_type": "code",
   "execution_count": null,
   "metadata": {},
   "outputs": [],
   "source": [
    "def askInput():\n",
    "    print('//////////////////////////////////////////////////////////////////////////////////')\n",
    "    query = input(\"Decode, or Code? \")\n",
    "    print('//////////////////////////////////////////////////////////////////////////////////')\n",
    "    query = query.lower()\n",
    "    if query == 'decode':\n",
    "        decodeMessage = input(\"Enter coded message:: \")\n",
    "        print('//////////////////////////////////////////////////////////////////////////////////')\n",
    "        print(f\"Message Recieved: {decodeMessage}\")\n",
    "        print('//////////////////////////////////////////////////////////////////////////////////')\n",
    "        shiftNum = int(input(\"Enter the shift:: \\n\"))\n",
    "        print('//////////////////////////////////////////////////////////////////////////////////')\n",
    "        print(f'Shift Entered: {shiftNum}')\n",
    "        print('//////////////////////////////////////////////////////////////////////////////////')\n",
    "        if shiftNum == 25:\n",
    "            print('Invalid shift, please choose again. ')\n",
    "            print('//////////////////////////////////////////////////////////////////////////////////')\n",
    "            shiftNum = int(input('Enter a different number: \\n'))\n",
    "            print('//////////////////////////////////////////////////////////////////////////////////')\n",
    "            print(f'Shift Entered: {shiftNum}')\n",
    "        initDecode = decoder(decodeMessage, shiftNum)\n",
    "        print('----------------------------------------------------------------------------------')\n",
    "        return print(f'This is your coded message:: {initDecode}\\n----------------------------------------------------------------------------------')\n",
    "    else:\n",
    "        toCode = input('Enter message to code:: ')\n",
    "        print('//////////////////////////////////////////////////////////////////////////////////')\n",
    "        print(f\"Message Recieved: {toCode}\")\n",
    "        print('//////////////////////////////////////////////////////////////////////////////////')\n",
    "        shiftNum = int(input('Enter the shift:'))\n",
    "        print('//////////////////////////////////////////////////////////////////////////////////')\n",
    "        print(f'Shift Entered: {shiftNum}')\n",
    "        print('//////////////////////////////////////////////////////////////////////////////////')\n",
    "        if shiftNum == 25:\n",
    "            print('Invalid shift, please choose again. ')\n",
    "            print('//////////////////////////////////////////////////////////////////////////////////')\n",
    "            shiftNum = int(input('Enter a different number: '))\n",
    "            print('//////////////////////////////////////////////////////////////////////////////////')\n",
    "            print(f'Shift Entered: {shiftNum}')\n",
    "        print('----------------------------------------------------------------------------------')\n",
    "        return print(f'This is your coded message:: {caesar(toCode, shiftNum)}\\n----------------------------------------------------------------------------------')\n",
    "        "
   ]
  },
  {
   "cell_type": "code",
   "execution_count": null,
   "metadata": {},
   "outputs": [],
   "source": [
    "askInput()"
   ]
  },
  {
   "cell_type": "code",
   "execution_count": null,
   "metadata": {},
   "outputs": [],
   "source": []
  }
 ],
 "metadata": {
  "kernelspec": {
   "display_name": "Python 3",
   "language": "python",
   "name": "python3"
  },
  "language_info": {
   "codemirror_mode": {
    "name": "ipython",
    "version": 3
   },
   "file_extension": ".py",
   "mimetype": "text/x-python",
   "name": "python",
   "nbconvert_exporter": "python",
   "pygments_lexer": "ipython3",
   "version": "3.7.7"
  }
 },
 "nbformat": 4,
 "nbformat_minor": 4
}
