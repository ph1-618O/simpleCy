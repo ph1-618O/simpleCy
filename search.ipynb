{
 "cells": [
  {
   "cell_type": "markdown",
   "metadata": {},
   "source": [
    "# cipherTwo\n",
    "- cipherTwo will expand on caesar.py incorporating a vignere cipher and options to search for words within the text to allow for punctuation and proper spacing. "
   ]
  },
  {
   "cell_type": "code",
   "execution_count": 1,
   "metadata": {},
   "outputs": [],
   "source": [
    "# def decoder(coded, shift):\n",
    "#     decoded = []\n",
    "#     for char in coded:\n",
    "#         if char.isalpha():\n",
    "#             char = char.lower()\n",
    "#             limitAlpha = ord(char) - shift\n",
    "#             if (limitAlpha < ord('a')) :\n",
    "#                 backshift = ord('a') - limitAlpha\n",
    "#                 backshift = ord('z') - backshift\n",
    "#                 backshift = chr(backshift)\n",
    "#                 #print(f'Backshift : {backshift}')\n",
    "#                 decoded.append(backshift)\n",
    "#             else:\n",
    "#                 decoded.append(chr(limitAlpha))\n",
    "#     return ''.join(decoded)"
   ]
  },
  {
   "cell_type": "markdown",
   "metadata": {},
   "source": [
    "# <! Notes\n",
    "- add isupper conditional, save location of isupper == true, upon joining list return indexes of isupper to \n",
    "uppercase\n",
    "- create a switch case statment for isalpha, isspace, isnumeric, is specialchar\n",
    "- create a nums cipher rotation +||- shift\n",
    "- create a punc cipher rotation +||- shift\n",
    "- upon joining list add spaces back in at spacesIdx locations\n",
    "- ordinal nums for punc begin with ord('!') = 33, ord('~') = 126\n",
    "- ordinal nums for numbers begin with ord('0') = 48 to ord('9') = 57, make sure to convert to str"
   ]
  },
  {
   "cell_type": "markdown",
   "metadata": {},
   "source": [
    "# Variables\n",
    "- Global variables for manipulation"
   ]
  },
  {
   "cell_type": "code",
   "execution_count": 2,
   "metadata": {},
   "outputs": [],
   "source": [
    "strs = \"vhfinmxkl atox kxgwxkxw tee hy maxlx hew vbiaxkl tl hulhexmx. px'ee atox mh kxteer lmxi ni hnk ztfx by px ptgm mh dxxi hnk fxlltzxl ltyx.\""
   ]
  },
  {
   "cell_type": "code",
   "execution_count": 3,
   "metadata": {},
   "outputs": [],
   "source": [
    "squishedStr = \"computershaverenderedalloftheseoldciphersasobsoletewellhavetoreallystepupourgameifwewanttokeepourmessagessafe\""
   ]
  },
  {
   "cell_type": "code",
   "execution_count": 4,
   "metadata": {},
   "outputs": [],
   "source": [
    "dirtyNumerals = \"\"\"1st – first\n",
    "2nd – second\n",
    "3rd – third\n",
    "4th – fourth\n",
    "5th – fifth\n",
    "6th – sixth\n",
    "7th – seventh\n",
    "8th – eighth\n",
    "9th – ninth\n",
    "10th – tenth\n",
    "11th – eleventh\n",
    "12th – twelfth\n",
    "13th – thirteenth\n",
    "14th – fourteenth\n",
    "15th – fifteenth\n",
    "16th – sixteenth\n",
    "17th – seventeenth\n",
    "18th – eighteenth\n",
    "19th – nineteenth\n",
    "20th – twentieth\n",
    "21st – twenty-first\n",
    "22nd – twenty-second\n",
    "23rd – twenty-third\n",
    "24th – twenty-fourth\n",
    "25th – twenty-fifth\n",
    "26th – twenty-sixth\"\"\""
   ]
  },
  {
   "cell_type": "code",
   "execution_count": 5,
   "metadata": {},
   "outputs": [],
   "source": [
    "#Cleaning dirtyNumerals\n",
    "#making oridinals list for globals(i)\n",
    "removeChars = ['–', '\\n']\n",
    "for i in removeChars:\n",
    "    dirtyNumerals = dirtyNumerals.replace(i, ' ')\n",
    "dirtyNumerals = dirtyNumerals.split(\" \")"
   ]
  },
  {
   "cell_type": "code",
   "execution_count": 6,
   "metadata": {},
   "outputs": [],
   "source": [
    "emptyIdx = []\n",
    "i = 0\n",
    "for j in dirtyNumerals:\n",
    "    if j == '':\n",
    "        emptyIdx.append(dirtyNumerals.index('', i))\n",
    "        i += 1\n",
    "    else:\n",
    "        i += 1"
   ]
  },
  {
   "cell_type": "code",
   "execution_count": 7,
   "metadata": {},
   "outputs": [],
   "source": [
    "#prints all elements inline with a comma\n",
    "def printInline(toPrint):\n",
    "    for i in toPrint:\n",
    "        print(str(i) + ', ', end = \" \")"
   ]
  },
  {
   "cell_type": "code",
   "execution_count": 8,
   "metadata": {},
   "outputs": [
    {
     "name": "stdout",
     "output_type": "stream",
     "text": [
      "1,  2,  5,  6,  9,  10,  13,  14,  17,  18,  21,  22,  25,  26,  29,  30,  33,  34,  37,  38,  41,  42,  45,  46,  49,  50,  53,  54,  57,  58,  61,  62,  65,  66,  69,  70,  73,  74,  77,  78,  81,  82,  85,  86,  89,  90,  93,  94,  97,  98,  101,  102,  "
     ]
    }
   ],
   "source": [
    "printInline(emptyIdx)"
   ]
  },
  {
   "cell_type": "code",
   "execution_count": 9,
   "metadata": {},
   "outputs": [],
   "source": [
    "#printInline(dirtyNumerals)"
   ]
  },
  {
   "cell_type": "code",
   "execution_count": 10,
   "metadata": {},
   "outputs": [],
   "source": [
    "def removeSpaces(listName):\n",
    "    filterLambda = filter(lambda x: x != '', listName)\n",
    "    cleanList = list(filterLambda)\n",
    "    return cleanList"
   ]
  },
  {
   "cell_type": "code",
   "execution_count": 11,
   "metadata": {},
   "outputs": [],
   "source": [
    "# #Printing dirtyNumerals\n",
    "# for i in dirtyNumerals:\n",
    "#     print(str(i) + ', ', end = \" \")"
   ]
  },
  {
   "cell_type": "code",
   "execution_count": 12,
   "metadata": {},
   "outputs": [
    {
     "name": "stdout",
     "output_type": "stream",
     "text": [
      "['1st', 'first', '2nd', 'second', '3rd', 'third', '4th', 'fourth', '5th', 'fifth', '6th', 'sixth', '7th', 'seventh', '8th', 'eighth', '9th', 'ninth', '10th', 'tenth', '11th', 'eleventh', '12th', 'twelfth', '13th', 'thirteenth', '14th', 'fourteenth', '15th', 'fifteenth', '16th', 'sixteenth', '17th', 'seventeenth', '18th', 'eighteenth', '19th', 'nineteenth', '20th', 'twentieth', '21st', 'twenty-first', '22nd', 'twenty-second', '23rd', 'twenty-third', '24th', 'twenty-fourth', '25th', 'twenty-fifth', '26th', 'twenty-sixth']\n"
     ]
    }
   ],
   "source": [
    "cleanNumerals = removeSpaces(dirtyNumerals)\n",
    "print(cleanNumerals)"
   ]
  },
  {
   "cell_type": "code",
   "execution_count": 13,
   "metadata": {},
   "outputs": [],
   "source": [
    "#Setting up string list of numbers to match\n",
    "strNums = []\n",
    "for i in range(10):\n",
    "    strNums.append(str(i))\n",
    "#printInline(strNums)\n",
    "#print(type(strNums[0]))"
   ]
  },
  {
   "cell_type": "code",
   "execution_count": 29,
   "metadata": {},
   "outputs": [],
   "source": [
    "#Creating a function to get the matches Needs work\n",
    "#Remove matching values and returns a tuple of two lists, one of matches, one unmatched\n",
    "def getMatching(list1, list2):\n",
    "    list2 = tuple(list2)\n",
    "    matches = [item for item in list1 if item.startswith(list2)]\n",
    "    unmatched = list(list1)\n",
    "    #print(matches)\n",
    "    #print(unmatched)\n",
    "    n = 0\n",
    "    while n < len(unmatched):\n",
    "        for match in matches:\n",
    "            if unmatched[n] == match:\n",
    "                unmatched.remove(unmatched[n])\n",
    "                n+=1\n",
    "            else:\n",
    "                n+=1\n",
    "    return matches, unmatched\n",
    "                \n",
    "    "
   ]
  },
  {
   "cell_type": "code",
   "execution_count": 32,
   "metadata": {},
   "outputs": [
    {
     "name": "stdout",
     "output_type": "stream",
     "text": [
      "['first', 'second', 'third', 'fourth', 'fifth', 'sixth', 'seventh', 'eighth', 'ninth', 'tenth', 'eleventh', 'twelfth', 'thirteenth', 'fourteenth', 'fifteenth', 'sixteenth', 'seventeenth', 'eighteenth', 'nineteenth', 'twentieth', 'twenty-first', 'twenty-second', 'twenty-third', 'twenty-fourth', 'twenty-fifth', 'twenty-sixth']\n"
     ]
    }
   ],
   "source": [
    "twoReturns = (getMatching(cleanNumerals, strNums))\n",
    "print(twoReturns[1])"
   ]
  },
  {
   "cell_type": "code",
   "execution_count": null,
   "metadata": {},
   "outputs": [],
   "source": [
    "#\"1\" in cleanNumerals[0]"
   ]
  },
  {
   "cell_type": "code",
   "execution_count": null,
   "metadata": {},
   "outputs": [],
   "source": [
    "def getOrdinalsList(chrType, begin, end):\n",
    "    ordList = []\n",
    "    for i in range(begin, end):\n",
    "        ordList.append(i)\n",
    "    #print(ordList)\n",
    "    #print(type(ordList[0]))\n",
    "    print(f'The {chrType} ASCII begins with the number: {ordList[-len(ordList)]},'\\\n",
    "          + f' and the {chrType}: {chr(ordList[-len(ordList)])}')\n",
    "    print(f'Negative len: {-len(ordList)}')\n",
    "    print(f'End of list idx: {len(ordList)-1}')\n",
    "    print(f'The {chrType} ASCII ends with the number: {ordList[len(ordList)-1]},'\\\n",
    "          + f' and the {chrType}: {chr(ordList[len(ordList)-1])}')\n",
    "    return ordList"
   ]
  },
  {
   "cell_type": "code",
   "execution_count": null,
   "metadata": {},
   "outputs": [],
   "source": [
    "# print(chr(33))\n",
    "# print(chr(126))"
   ]
  },
  {
   "cell_type": "code",
   "execution_count": null,
   "metadata": {},
   "outputs": [],
   "source": [
    "symbolList = getOrdinalsList('Symbol', 33, 127)\n",
    "print(symbolList)"
   ]
  },
  {
   "cell_type": "code",
   "execution_count": null,
   "metadata": {},
   "outputs": [],
   "source": [
    "# print(chr(48))\n",
    "# print(chr(57))"
   ]
  },
  {
   "cell_type": "code",
   "execution_count": null,
   "metadata": {},
   "outputs": [],
   "source": [
    "numsList = getOrdinalsList('Number', 48, 58)\n",
    "print(numsList)"
   ]
  },
  {
   "cell_type": "markdown",
   "metadata": {},
   "source": [
    "# Functions\n",
    "- preset functions to be used later"
   ]
  },
  {
   "cell_type": "code",
   "execution_count": null,
   "metadata": {},
   "outputs": [],
   "source": [
    "import pandas as pd"
   ]
  },
  {
   "cell_type": "code",
   "execution_count": null,
   "metadata": {},
   "outputs": [],
   "source": [
    "strs"
   ]
  },
  {
   "cell_type": "code",
   "execution_count": null,
   "metadata": {},
   "outputs": [],
   "source": [
    "splitStrs = strs.split(\" \")\n",
    "#print(splitStrs)\n",
    "wordLength = []\n",
    "for i in splitStrs:\n",
    "    wordLength.append(len(i))\n",
    "    #print(f'{i}, Length:{len(i)}')\n",
    "wordLength"
   ]
  },
  {
   "cell_type": "code",
   "execution_count": null,
   "metadata": {},
   "outputs": [],
   "source": [
    "wordNums = {}\n",
    "strsList = strs.split(\" \")\n",
    "for key in strsList:\n",
    "    for value in wordLength:\n",
    "        wordNums[key] = value\n",
    "        wordLength.remove(value)\n",
    "        break\n",
    "firstFrame = pd.DataFrame.from_dict(wordNums, orient=\"index\")\n",
    "firstFrame = firstFrame.reset_index()\n",
    "fristFrame = firstFrame.rename(columns={'index':'coded', '0':'len'})\n",
    "firstFrame"
   ]
  },
  {
   "cell_type": "code",
   "execution_count": null,
   "metadata": {},
   "outputs": [],
   "source": [
    ")"
   ]
  },
  {
   "cell_type": "code",
   "execution_count": null,
   "metadata": {},
   "outputs": [],
   "source": [
    "squishedStr = \"computershaverenderedalloftheseoldciphersasobsoletewellhavetoreallystepupourgameifwewanttokeepourmessagessafe\""
   ]
  },
  {
   "cell_type": "code",
   "execution_count": null,
   "metadata": {},
   "outputs": [],
   "source": [
    "len(wordLength)"
   ]
  },
  {
   "cell_type": "code",
   "execution_count": null,
   "metadata": {},
   "outputs": [],
   "source": [
    "len(squishedStr)"
   ]
  },
  {
   "cell_type": "code",
   "execution_count": null,
   "metadata": {},
   "outputs": [],
   "source": [
    "#Should be adding 26 spaces into squishedStr\n",
    "109 + 26"
   ]
  },
  {
   "cell_type": "code",
   "execution_count": null,
   "metadata": {},
   "outputs": [],
   "source": [
    "9+4+8"
   ]
  },
  {
   "cell_type": "code",
   "execution_count": null,
   "metadata": {},
   "outputs": [],
   "source": [
    "# withSpaces = []\n",
    "# ctr = 0\n",
    "# for i in spacesList:\n",
    "#     add = ' '\n",
    "#     #print(type(i))\n",
    "#     #print(squishedStr[i])\n",
    "#     print(i)\n",
    "#     index = i - ctr\n",
    "#     print(index)\n",
    "#     print(squishedStr[:index] + add)\n",
    "#     ctr += 1\n",
    "# #print(withSpaces)"
   ]
  },
  {
   "cell_type": "code",
   "execution_count": null,
   "metadata": {},
   "outputs": [],
   "source": [
    "withSpaces = []\n",
    "counter = 0\n",
    "i = 0\n",
    "while i < (len(wordLength) - 1):\n",
    "    counter += wordLength[i] #+ wordLength[i + 1]\n",
    "    #print(wordLength[i])\n",
    "    #print(counter)\n",
    "    startIndex = counter - wordLength[i]\n",
    "    #print(startIndex)\n",
    "    withSpaces.append(squishedStr[startIndex : counter] + ' ')\n",
    "    i += 1\n",
    "    #print(squishedStr[i]"
   ]
  },
  {
   "cell_type": "code",
   "execution_count": null,
   "metadata": {},
   "outputs": [],
   "source": [
    "withSpaces\n",
    "wordLengthSpaces = []\n",
    "for i in withSpaces:\n",
    "    wordLengthSpaces.append(len(i))\n",
    "    #print(f'{i}, Length:{len(i)}')\n"
   ]
  },
  {
   "cell_type": "code",
   "execution_count": null,
   "metadata": {},
   "outputs": [],
   "source": [
    "# i = 0\n",
    "# while i < len(wordLengthSpaces):\n",
    "#     print(wordLengthSpaces[i])\n",
    "#     print(wordLength[i])\n",
    "#     i += 1"
   ]
  },
  {
   "cell_type": "code",
   "execution_count": null,
   "metadata": {},
   "outputs": [],
   "source": [
    "spacesList = [loc for loc, space in enumerate(strs) if space == ' ']\n",
    "print(spacesList)"
   ]
  },
  {
   "cell_type": "code",
   "execution_count": null,
   "metadata": {},
   "outputs": [],
   "source": [
    "squishedStr[0]\n",
    "spacesList[0]\n",
    "print(squishedStr[0 : spacesList[0] - 0])\n",
    "#print(squishedStr[spacesList[0] - 0 : spacesList[0] - 0])\n",
    "print(squishedStr[spacesList[0] - 0 : spacesList[1] - 1])\n",
    "print(squishedStr[spacesList[1] - 1 : spacesList[2] - 2])\n",
    "print(squishedStr[spacesList[2] - 2 : spacesList[3] - 3])"
   ]
  },
  {
   "cell_type": "code",
   "execution_count": null,
   "metadata": {},
   "outputs": [],
   "source": [
    "# for i in spacesList:\n",
    "#     print(f'{i} type: {type(i)}')"
   ]
  },
  {
   "cell_type": "code",
   "execution_count": null,
   "metadata": {},
   "outputs": [],
   "source": [
    "squisheStr = list(squishedStr)\n",
    "squishedStr"
   ]
  },
  {
   "cell_type": "code",
   "execution_count": null,
   "metadata": {},
   "outputs": [],
   "source": []
  },
  {
   "cell_type": "code",
   "execution_count": null,
   "metadata": {},
   "outputs": [],
   "source": [
    "withSpaces = []\n",
    "ctr = 0\n",
    "for i in spacesList:\n",
    "    add = ' '\n",
    "    #print(type(i))\n",
    "    #print(squishedStr[i])\n",
    "    print(i)\n",
    "    index = i - ctr\n",
    "    print(index)\n",
    "    print(squishedStr[:index] + add)\n",
    "    ctr += 1\n",
    "#print(withSpaces)"
   ]
  },
  {
   "cell_type": "code",
   "execution_count": null,
   "metadata": {},
   "outputs": [],
   "source": [
    "\n",
    "squishedStr.insert(9-1, ' ')"
   ]
  },
  {
   "cell_type": "code",
   "execution_count": null,
   "metadata": {},
   "outputs": [],
   "source": [
    "# counter = 0\n",
    "# while counter < len(spacesList):\n",
    "#     print(squishedStr[spacesList[(counter)]:spacesList[(counter + 1)]-(counter + 1)])\n",
    "#     counter += 1"
   ]
  },
  {
   "cell_type": "code",
   "execution_count": null,
   "metadata": {},
   "outputs": [],
   "source": [
    "withSpaces = []\n",
    "counter = 0\n",
    "for i in spacesList:\n",
    "    withSpaces.append(squishedStr[counter:i-counter])"
   ]
  },
  {
   "cell_type": "code",
   "execution_count": null,
   "metadata": {},
   "outputs": [],
   "source": [
    "spacesList = []\n",
    "i = 0\n",
    "for j in strs:\n",
    "    if j == ' ':\n",
    "        spacesList.append(strs.index(' ', i))\n",
    "        i += 1\n",
    "    else:\n",
    "        i += 1"
   ]
  },
  {
   "cell_type": "code",
   "execution_count": null,
   "metadata": {},
   "outputs": [],
   "source": [
    "printInline(spacesList)"
   ]
  },
  {
   "cell_type": "code",
   "execution_count": null,
   "metadata": {},
   "outputs": [],
   "source": [
    "#prints all elements inline with a comma\n",
    "def printInline(toPrint):\n",
    "    for i in toPrint:\n",
    "        print(str(i) + ', ', end = \" \")"
   ]
  },
  {
   "cell_type": "code",
   "execution_count": null,
   "metadata": {},
   "outputs": [],
   "source": [
    "#making index list of space locations\n",
    "def locatingSpaces(message):\n",
    "    spacesList = []\n",
    "    counter = 0\n",
    "    for i in message:\n",
    "        if i == ' ':\n",
    "            spacesList.append(counter)\n",
    "            counter += 1\n",
    "        else:\n",
    "            counter += 1\n",
    "    return spacesList"
   ]
  },
  {
   "cell_type": "code",
   "execution_count": null,
   "metadata": {},
   "outputs": [],
   "source": [
    "locatedSpaces = locatingSpaces(strs)\n",
    "printInline(locatedSpaces)"
   ]
  },
  {
   "cell_type": "markdown",
   "metadata": {},
   "source": [
    "# Working"
   ]
  },
  {
   "cell_type": "code",
   "execution_count": null,
   "metadata": {},
   "outputs": [],
   "source": [
    "# Symbols Location in ASCII\n",
    "# ord('!') = 33, ord('~') = 126\n",
    "printInline(symbolList)"
   ]
  },
  {
   "cell_type": "code",
   "execution_count": null,
   "metadata": {},
   "outputs": [],
   "source": [
    "# #Incomplete\n",
    "# def findSpecialChar(string):\n",
    "#     for i in string:\n",
    "#         if i == chr(j):\n"
   ]
  },
  {
   "cell_type": "code",
   "execution_count": null,
   "metadata": {},
   "outputs": [],
   "source": [
    "# Numbers location in ASCII\n",
    "# ord('0') = 48, ord('9') = 57\n",
    "printInline(numsList)"
   ]
  },
  {
   "cell_type": "code",
   "execution_count": null,
   "metadata": {},
   "outputs": [],
   "source": [
    "# def findNumbers(string):"
   ]
  },
  {
   "cell_type": "code",
   "execution_count": null,
   "metadata": {},
   "outputs": [],
   "source": [
    "int('s')"
   ]
  },
  {
   "cell_type": "markdown",
   "metadata": {},
   "source": [
    "# Next\n",
    "- pattern match the 1 in 1st etc to 26th and remove those values\n",
    "- maybe use try and accept.. or create a list of strs 1 - 26 and match on that\n",
    "- making newGlobals to hold the 26 strings that the vignere cipher will output"
   ]
  },
  {
   "cell_type": "code",
   "execution_count": null,
   "metadata": {},
   "outputs": [],
   "source": [
    "# newGlobals = ordList\n",
    "# for i in ordList:\n",
    "#     newGlobals = []\n",
    "#     #can do some homogenized code to all elements in list here\n",
    "#     globals()[i] = newGlobals"
   ]
  },
  {
   "cell_type": "code",
   "execution_count": null,
   "metadata": {},
   "outputs": [],
   "source": [
    "# strs = \"vhfinmxkl atox kxgwxkxw tee hy maxlx hew vbiaxkl tl hulhexmx. px'ee atox mh kxteer lmxi ni hnk ztfx by px ptgm mh dxxi hnk fxlltzxl ltyx.\"\n",
    "# alpha = \"abcdefghijklmnopqrstuvwxyz\"\n",
    "# def eTuBrute(message, offset):\n",
    "#     def eTuBrute(message, offset):\n",
    "#         cipher_text = \"\"\n",
    "#         for char in message:\n",
    "#             if char.isalpha():\n",
    "#                 stay_in_alpha = ord(char) + offset\n",
    "#                 if stay_in_alpha > ord('z'):\n",
    "#                     stay_in_alpha -= 26\n",
    "#                 final_letter = chr(stay_in_alpha)\n",
    "#                 cipher_text += final_letter           \n",
    "#         return cipher_text\n",
    "\n",
    "#     for i in range(26):\n",
    "#         print(str(i))\n",
    "#         print(\"\\t \" + eTuBrute(strs, i) + \"\\n\")"
   ]
  },
  {
   "cell_type": "code",
   "execution_count": null,
   "metadata": {},
   "outputs": [],
   "source": [
    "strs.index(' ', 0, len(strs))"
   ]
  },
  {
   "cell_type": "code",
   "execution_count": null,
   "metadata": {},
   "outputs": [],
   "source": [
    "#Finds the Index location of the inputted string\n",
    "def spacesIndex(strs):\n",
    "    spacesList = []\n",
    "    counter = 0\n",
    "    spacesList.append(strs.index(' ', 0, len(strs)))\n",
    "    for i in strs:\n",
    "        if i == ' ':\n",
    "            spacesList.append(counter - 1)\n",
    "            #print(f'Before adding in If: {(counter - 1)}')\n",
    "            counter += 1\n",
    "        else:\n",
    "            #print(f'Before adding in Else: {counter}')\n",
    "            counter += 1 \n",
    "    return spacesList[:len(spacesList)]"
   ]
  },
  {
   "cell_type": "code",
   "execution_count": null,
   "metadata": {},
   "outputs": [],
   "source": [
    "withSpaces = spacesIndex(strs)\n",
    "printInline(withSpaces)"
   ]
  },
  {
   "cell_type": "code",
   "execution_count": null,
   "metadata": {},
   "outputs": [],
   "source": [
    "del withSpaces[1:2]"
   ]
  },
  {
   "cell_type": "code",
   "execution_count": null,
   "metadata": {},
   "outputs": [],
   "source": [
    "printInline(withSpaces)"
   ]
  },
  {
   "cell_type": "code",
   "execution_count": null,
   "metadata": {},
   "outputs": [],
   "source": [
    "squishedStr = \"computershaverenderedalloftheseoldciphersasobsoletewellhavetoreallystepupourgameifwewanttokeepourmessagessafe\""
   ]
  },
  {
   "cell_type": "code",
   "execution_count": null,
   "metadata": {},
   "outputs": [],
   "source": [
    "def addingSpaces(string, integer):\n",
    "    return string[0:integer] + ' ' #+ string[integer:]"
   ]
  },
  {
   "cell_type": "code",
   "execution_count": null,
   "metadata": {},
   "outputs": [],
   "source": [
    "for i in withSpaces:\n",
    "    print(addingSpaces(squishedStr, i))"
   ]
  },
  {
   "cell_type": "code",
   "execution_count": null,
   "metadata": {},
   "outputs": [],
   "source": [
    "printInline(locatedSpaces)"
   ]
  },
  {
   "cell_type": "code",
   "execution_count": null,
   "metadata": {},
   "outputs": [],
   "source": [
    "for i in locatedSpaces:\n",
    "    print(addingSpaces(squishedStr, i))"
   ]
  },
  {
   "cell_type": "code",
   "execution_count": null,
   "metadata": {},
   "outputs": [],
   "source": []
  },
  {
   "cell_type": "code",
   "execution_count": null,
   "metadata": {},
   "outputs": [],
   "source": [
    "# squishedStr = \"computershaverenderedalloftheseoldciphersasobsoletewellhavetoreallystepupourgameifwewanttokeepourmessagessafe\"\n",
    "\n",
    "# withSpaces = []\n",
    "# for i in emptyIdx:\n",
    "#     withSpaces.append(addingSpaces(squishedStr, i))\n",
    "# withSpaces"
   ]
  },
  {
   "cell_type": "markdown",
   "metadata": {},
   "source": [
    "# Cipher Functions\n",
    "- Three Caesar functions:\n",
    "    - eTuBrute is a brute force Casesar decoder\n",
    "    - Caesar is a caesar coder\n",
    "    - decoder is a caesar decoder\n"
   ]
  },
  {
   "cell_type": "code",
   "execution_count": null,
   "metadata": {},
   "outputs": [],
   "source": [
    "def eTuBrute():\n",
    "    strs = input(\"What is the Coded Message?\\n\")\n",
    "    #offset = input(\"What is the offset?\")\n",
    "    #alpha = \"abcdefghijklmnopqrstuvwxyz\"\n",
    "    def decodeString(message, offset):\n",
    "        emptyIdx = []\n",
    "        i = 0\n",
    "        for j in dirtyOrds:\n",
    "            if j == '':\n",
    "            emptyIdx.append(message.index('', i))\n",
    "            i += 1\n",
    "        else:\n",
    "            i += 1\n",
    "        cipher_text = \"\"\n",
    "        for char in message:\n",
    "            if char.isalpha():\n",
    "                stay_in_alpha = ord(char) + offset\n",
    "                if stay_in_alpha > ord('z'):\n",
    "                    stay_in_alpha -= 26\n",
    "                final_letter = chr(stay_in_alpha)\n",
    "                cipher_text += final_letter\n",
    "        \n",
    "        return cipher_text\n",
    "    for i in range(26):\n",
    "        print(str(i))\n",
    "        \n",
    "        print(\"\\t \" + decodeString(strs, i) + \"\\n\")\n",
    "eTuBrute()"
   ]
  },
  {
   "cell_type": "code",
   "execution_count": null,
   "metadata": {},
   "outputs": [],
   "source": [
    "strs = \"vhfinmxkl atox kxgwxkxw tee hy maxlx hew vbiaxkl tl hulhexmx. px'ee atox mh kxteer lmxi ni hnk ztfx by px ptgm mh dxxi hnk fxlltzxl ltyx.\"\n",
    "alpha = \"abcdefghijklmnopqrstuvwxyz\"\n",
    "def eTuBrute(message, offset):\n",
    "    cipher_text = \"\"\n",
    "    for char in message:\n",
    "        if char.isalpha():\n",
    "            stay_in_alpha = ord(char) + offset\n",
    "            if stay_in_alpha > ord('z'):\n",
    "                stay_in_alpha -= 26\n",
    "            final_letter = chr(stay_in_alpha)\n",
    "            cipher_text += final_letter           \n",
    "    return cipher_text\n",
    "\n",
    "for i in range(26):\n",
    "    print(str(i))\n",
    "    print(\"\\t \" + eTuBrute(strs, i) + \"\\n\")"
   ]
  },
  {
   "cell_type": "code",
   "execution_count": null,
   "metadata": {},
   "outputs": [],
   "source": [
    "def decoder(coded, shift):\n",
    "    decoded = []\n",
    "    spacesIdx = []\n",
    "    nums = []\n",
    "    puncList = []\n",
    "    specialChar = []\n",
    "    counter = 0\n",
    "    for char in coded:\n",
    "        if char.isalpha():\n",
    "            char = char.lower()\n",
    "            limitAlpha = ord(char) - shift\n",
    "            if (limitAlpha < ord('a')) :\n",
    "                backshift = ord('a') - limitAlpha\n",
    "                backshift = ord('z') - backshift\n",
    "                backshift = chr(backshift)\n",
    "                #print(f'Backshift : {backshift}')\n",
    "                decoded.append(backshift)\n",
    "                counter += 1\n",
    "            else:\n",
    "                decoded.append(chr(limitAlpha))\n",
    "                counter += 1\n",
    "        elif char.isspace():\n",
    "            spacesIdx.append(counter)\n",
    "            print(f'Space index: {spacesIdx}')\n",
    "            counter += 1\n",
    "        elif (str(char)).isnumeric():\n",
    "            nums.append(counter)\n",
    "            #print(char)\n",
    "            #print(f'Number index: {counter}')\n",
    "            counter += 1\n",
    "        else:\n",
    "            print(f'Unknown character: {char}')\n",
    "            puncList.append(char)\n",
    "            counter += 1\n",
    "    return ''.join(decoded), spacesIdx, nums, puncList;"
   ]
  },
  {
   "cell_type": "code",
   "execution_count": null,
   "metadata": {},
   "outputs": [],
   "source": [
    "def caesar(uncoded, shift):\n",
    "    coded = []\n",
    "    for char in uncoded:\n",
    "        if char.isalpha():\n",
    "            char = char.lower()\n",
    "            limitAlpha = ord(char) + shift\n",
    "            if (limitAlpha >= ord('a')) & (limitAlpha <= ord('z')) :\n",
    "                limitAlpha = chr(limitAlpha)\n",
    "                #print(f'LimitAlpha: {limitAlpha}')\n",
    "                coded.append(limitAlpha)\n",
    "            else:\n",
    "                frontShift = ((limitAlpha % ord('z')) % 26) + ord('a')\n",
    "                #print(f'Frontshift: {frontShift}')\n",
    "                coded.append(chr(frontShift))\n",
    "                #coded.append(frontShift)\n",
    "    return ''.join(coded)"
   ]
  },
  {
   "cell_type": "code",
   "execution_count": null,
   "metadata": {},
   "outputs": [],
   "source": [
    "def askInput():\n",
    "    print('//////////////////////////////////////////////////////////////////////////////////')\n",
    "    query = input(\"Decode, or Code? \")\n",
    "    print('//////////////////////////////////////////////////////////////////////////////////')\n",
    "    query = query.lower()\n",
    "    if query == 'decode':\n",
    "        decodeMessage = input(\"Enter coded message:: \")\n",
    "        print('//////////////////////////////////////////////////////////////////////////////////')\n",
    "        print(f\"Message Recieved: {decodeMessage}\")\n",
    "        print('//////////////////////////////////////////////////////////////////////////////////')\n",
    "        shiftNum = int(input(\"Enter the shift:: \\n\"))\n",
    "        print('//////////////////////////////////////////////////////////////////////////////////')\n",
    "        print(f'Shift Entered: {shiftNum}')\n",
    "        print('//////////////////////////////////////////////////////////////////////////////////')\n",
    "        if shiftNum == 25:\n",
    "            print('Invalid shift, please choose again. ')\n",
    "            print('//////////////////////////////////////////////////////////////////////////////////')\n",
    "            shiftNum = int(input('Enter a different number: \\n'))\n",
    "            print('//////////////////////////////////////////////////////////////////////////////////')\n",
    "            print(f'Shift Entered: {shiftNum}')\n",
    "        initDecode = decoder(decodeMessage, shiftNum)\n",
    "        print('----------------------------------------------------------------------------------')\n",
    "        return print(f'This is your coded message:: {initDecode}\\n----------------------------------------------------------------------------------')\n",
    "    else:\n",
    "        toCode = input('Enter message to code:: ')\n",
    "        print('//////////////////////////////////////////////////////////////////////////////////')\n",
    "        print(f\"Message Recieved: {toCode}\")\n",
    "        print('//////////////////////////////////////////////////////////////////////////////////')\n",
    "        shiftNum = int(input('Enter the shift:'))\n",
    "        print('//////////////////////////////////////////////////////////////////////////////////')\n",
    "        print(f'Shift Entered: {shiftNum}')\n",
    "        print('//////////////////////////////////////////////////////////////////////////////////')\n",
    "        if shiftNum == 25:\n",
    "            print('Invalid shift, please choose again. ')\n",
    "            print('//////////////////////////////////////////////////////////////////////////////////')\n",
    "            shiftNum = int(input('Enter a different number: '))\n",
    "            print('//////////////////////////////////////////////////////////////////////////////////')\n",
    "            print(f'Shift Entered: {shiftNum}')\n",
    "        print('----------------------------------------------------------------------------------')\n",
    "        return print(f'This is your coded message:: {caesar(toCode, shiftNum)}\\n----------------------------------------------------------------------------------')\n",
    "        "
   ]
  },
  {
   "cell_type": "code",
   "execution_count": null,
   "metadata": {},
   "outputs": [],
   "source": [
    "askInput()"
   ]
  },
  {
   "cell_type": "code",
   "execution_count": null,
   "metadata": {},
   "outputs": [],
   "source": []
  }
 ],
 "metadata": {
  "kernelspec": {
   "display_name": "Python 3",
   "language": "python",
   "name": "python3"
  },
  "language_info": {
   "codemirror_mode": {
    "name": "ipython",
    "version": 3
   },
   "file_extension": ".py",
   "mimetype": "text/x-python",
   "name": "python",
   "nbconvert_exporter": "python",
   "pygments_lexer": "ipython3",
   "version": "3.7.7"
  }
 },
 "nbformat": 4,
 "nbformat_minor": 4
}
