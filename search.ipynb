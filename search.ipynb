{
 "cells": [
  {
   "cell_type": "markdown",
   "metadata": {},
   "source": [
    "# cipherTwo\n",
    "- cipherTwo will expand on caesar.py incorporating a vignere cipher and options to search for words within the text to allow for punctuation and proper spacing. "
   ]
  },
  {
   "cell_type": "code",
   "execution_count": null,
   "metadata": {},
   "outputs": [],
   "source": [
    "# def decoder(coded, shift):\n",
    "#     decoded = []\n",
    "#     for char in coded:\n",
    "#         if char.isalpha():\n",
    "#             char = char.lower()\n",
    "#             limitAlpha = ord(char) - shift\n",
    "#             if (limitAlpha < ord('a')) :\n",
    "#                 backshift = ord('a') - limitAlpha\n",
    "#                 backshift = ord('z') - backshift\n",
    "#                 backshift = chr(backshift)\n",
    "#                 #print(f'Backshift : {backshift}')\n",
    "#                 decoded.append(backshift)\n",
    "#             else:\n",
    "#                 decoded.append(chr(limitAlpha))\n",
    "#     return ''.join(decoded)"
   ]
  },
  {
   "cell_type": "markdown",
   "metadata": {},
   "source": [
    "# <! Notes\n",
    "- add isupper conditional, save location of isupper == true, upon joining list return indexes of isupper to \n",
    "uppercase\n",
    "- create a switch case statment for isalpha, isspace, isnumeric, is specialchar\n",
    "- create a nums cipher rotation +||- shift\n",
    "- create a punc cipher rotation +||- shift\n",
    "- upon joining list add spaces back in at spacesIdx locations\n",
    "- ordinal nums for punc begin with ord('!') = 33, ord('~') = 126\n",
    "- ordinal nums for numbers begin with ord('0') = 48 to ord('9') = 57, make sure to convert to str"
   ]
  },
  {
   "cell_type": "code",
   "execution_count": 3,
   "metadata": {},
   "outputs": [
    {
     "name": "stdout",
     "output_type": "stream",
     "text": [
      "26\n"
     ]
    }
   ],
   "source": [
    "alpha = \"abcdefghijklmnopqrstuvwxyz\"\n",
    "print(len(alpha))"
   ]
  },
  {
   "cell_type": "code",
   "execution_count": 2,
   "metadata": {},
   "outputs": [
    {
     "name": "stdout",
     "output_type": "stream",
     "text": [
      "[9, 14, 23, 27, 30, 36, 40, 48, 51, 61, 67, 72, 75, 82, 87, 90, 94, 99, 102, 105, 110, 113, 118, 122, 131]\n"
     ]
    }
   ],
   "source": [
    "#making index list of space locations\n",
    "strs = \"vhfinmxkl atox kxgwxkxw tee hy maxlx hew vbiaxkl tl hulhexmx. px'ee atox mh kxteer lmxi ni hnk ztfx by px ptgm mh dxxi hnk fxlltzxl ltyx.\"\n",
    "spacesList = []\n",
    "counter = 0\n",
    "for i in strs:\n",
    "    if i == ' ':\n",
    "        spacesList.append(counter)\n",
    "        counter += 1\n",
    "    else:\n",
    "        counter += 1\n",
    "print(spacesList)"
   ]
  },
  {
   "cell_type": "code",
   "execution_count": 11,
   "metadata": {},
   "outputs": [],
   "source": [
    "#making oridinals list for globals(i)\n",
    "dirtyOrds = \"\"\"1st – first\n",
    "2nd – second\n",
    "3rd – third\n",
    "4th – fourth\n",
    "5th – fifth\n",
    "6th – sixth\n",
    "7th – seventh\n",
    "8th – eighth\n",
    "9th – ninth\n",
    "10th – tenth\n",
    "11th – eleventh\n",
    "12th – twelfth\n",
    "13th – thirteenth\n",
    "14th – fourteenth\n",
    "15th – fifteenth\n",
    "16th – sixteenth\n",
    "17th – seventeenth\n",
    "18th – eighteenth\n",
    "19th – nineteenth\n",
    "20th – twentieth\n",
    "21st – twenty-first\n",
    "22nd – twenty-second\n",
    "23rd – twenty-third\n",
    "24th – twenty-fourth\n",
    "25th – twenty-fifth\n",
    "26th – twenty-sixth\"\"\"\n",
    "#dirtyOrds = dirtyOrds.split(\" \")\n",
    "dirtyOrds2 = []\n",
    "removeChars = ['–', '\\n']\n",
    "for i in removeChars:\n",
    "    dirtyOrds = dirtyOrds.replace(i, '')\n",
    "# i = 0\n",
    "# while i < len(dirtyOrds):\n",
    "#     dirtyOrds2 = dirtyOrds.replace(i\"–\")\n",
    "#     #print (dirtyOrds[i])\n",
    "#     i += 1"
   ]
  },
  {
   "cell_type": "code",
   "execution_count": 12,
   "metadata": {},
   "outputs": [
    {
     "data": {
      "text/plain": [
       "'1st  first2nd  second3rd  third4th  fourth5th  fifth6th  sixth7th  seventh8th  eighth9th  ninth10th  tenth11th  eleventh12th  twelfth13th  thirteenth14th  fourteenth15th  fifteenth16th  sixteenth17th  seventeenth18th  eighteenth19th  nineteenth20th  twentieth21st  twenty-first22nd  twenty-second23rd  twenty-third24th  twenty-fourth25th  twenty-fifth26th  twenty-sixth'"
      ]
     },
     "execution_count": 12,
     "metadata": {},
     "output_type": "execute_result"
    }
   ],
   "source": [
    "dirtyOrds"
   ]
  },
  {
   "cell_type": "code",
   "execution_count": 4,
   "metadata": {},
   "outputs": [
    {
     "name": "stdout",
     "output_type": "stream",
     "text": [
      "0\n",
      "\t vhfinmxklatoxkxgwxkxwteehymaxlxhewvbiaxkltlhulhexmxpxeeatoxmhkxteerlmxinihnkztfxbypxptgmmhdxxihnkfxlltzxlltyx\n",
      "\n",
      "1\n",
      "\t wigjonylmbupylyhxylyxuffiznbymyifxwcjbylmumivmifynyqyffbupynilyuffsmnyjojiolaugyczqyquhnnieyyjiolgymmuaymmuzy\n",
      "\n",
      "2\n",
      "\t xjhkpozmncvqzmziyzmzyvggjaocznzjgyxdkczmnvnjwnjgzozrzggcvqzojmzvggtnozkpkjpmbvhzdarzrvioojfzzkjpmhznnvbznnvaz\n",
      "\n",
      "3\n",
      "\t ykilqpanodwranajzanazwhhkbpdaoakhzyeldanowokxokhapasahhdwrapknawhhuopalqlkqncwiaebsaswjppkgaalkqniaoowcaoowba\n",
      "\n",
      "4\n",
      "\t zljmrqbopexsbobkabobaxiilcqebpbliazfmebopxplyplibqbtbiiexsbqlobxiivpqbmrmlrodxjbfctbtxkqqlhbbmlrojbppxdbppxcb\n",
      "\n",
      "5\n",
      "\t amknsrcpqfytcpclbcpcbyjjmdrfcqcmjbagnfcpqyqmzqmjcrcucjjfytcrmpcyjjwqrcnsnmspeykcgducuylrrmiccnmspkcqqyecqqydc\n",
      "\n",
      "6\n",
      "\t bnlotsdqrgzudqdmcdqdczkknesgdrdnkcbhogdqrzrnarnkdsdvdkkgzudsnqdzkkxrsdotontqfzldhevdvzmssnjddontqldrrzfdrrzed\n",
      "\n",
      "7\n",
      "\t computershaverenderedalloftheseoldciphersasobsoletewellhavetoreallystepupourgameifwewanttokeepourmessagessafe\n",
      "\n",
      "8\n",
      "\t dpnqvufstibwfsfoefsfebmmpguiftfpmedjqifstbtpctpmfufxfmmibwfupsfbmmztufqvqpvshbnfjgxfxbouuplffqpvsnfttbhfttbgf\n",
      "\n",
      "9\n",
      "\t eqorwvgtujcxgtgpfgtgfcnnqhvjgugqnfekrjgtucuqduqngvgygnnjcxgvqtgcnnauvgrwrqwticogkhygycpvvqmggrqwtoguuciguuchg\n",
      "\n",
      "10\n",
      "\t frpsxwhuvkdyhuhqghuhgdooriwkhvhrogflskhuvdvrevrohwhzhookdyhwruhdoobvwhsxsrxujdphlizhzdqwwrnhhsrxuphvvdjhvvdih\n",
      "\n",
      "11\n",
      "\t gsqtyxivwlezivirhiviheppsjxliwisphgmtlivwewsfwspixiaipplezixsvieppcwxitytsyvkeqimjaiaerxxsoiitsyvqiwwekiwweji\n",
      "\n",
      "12\n",
      "\t htruzyjwxmfajwjsijwjifqqtkymjxjtqihnumjwxfxtgxtqjyjbjqqmfajytwjfqqdxyjuzutzwlfrjnkbjbfsyytpjjutzwrjxxfljxxfkj\n",
      "\n",
      "13\n",
      "\t iusvazkxyngbkxktjkxkjgrrulznkykurjiovnkxygyuhyurkzkckrrngbkzuxkgrreyzkvavuaxmgskolckcgtzzuqkkvuaxskyygmkyyglk\n",
      "\n",
      "14\n",
      "\t jvtwbalyzohclyluklylkhssvmaolzlvskjpwolyzhzvizvslaldlssohclavylhssfzalwbwvbynhtlpmdldhuaavrllwvbytlzzhnlzzhml\n",
      "\n",
      "15\n",
      "\t kwuxcbmzapidmzmvlmzmlittwnbpmamwtlkqxpmzaiawjawtmbmemttpidmbwzmittgabmxcxwczoiumqnemeivbbwsmmxwczumaaiomaainm\n",
      "\n",
      "16\n",
      "\t lxvydcnabqjenanwmnanmjuuxocqnbnxumlryqnabjbxkbxuncnfnuuqjencxanjuuhbcnydyxdapjvnrofnfjwccxtnnyxdavnbbjpnbbjon\n",
      "\n",
      "17\n",
      "\t mywzedobcrkfoboxnobonkvvypdrocoyvnmszrobckcylcyvodogovvrkfodybokvvicdozezyebqkwospgogkxddyuoozyebwocckqocckpo\n",
      "\n",
      "18\n",
      "\t nzxafepcdslgpcpyopcpolwwzqespdpzwontaspcdldzmdzwpephpwwslgpezcplwwjdepafazfcrlxptqhphlyeezvppazfcxpddlrpddlqp\n",
      "\n",
      "19\n",
      "\t oaybgfqdetmhqdqzpqdqpmxxarftqeqaxpoubtqdemeaneaxqfqiqxxtmhqfadqmxxkefqbgbagdsmyquriqimzffawqqbagdyqeemsqeemrq\n",
      "\n",
      "20\n",
      "\t pbzchgrefunireraqrerqnyybsgurfrbyqpvcurefnfbofbyrgrjryyunirgbernyylfgrchcbhetnzrvsjrjnaggbxrrcbhezrffntrffnsr\n",
      "\n",
      "21\n",
      "\t qcadihsfgvojsfsbrsfsrozzcthvsgsczrqwdvsfgogcpgczshskszzvojshcfsozzmghsdidcifuoaswtkskobhhcyssdcifasggousggots\n",
      "\n",
      "22\n",
      "\t rdbejitghwpktgtcstgtspaaduiwthtdasrxewtghphdqhdatitltaawpktidgtpaanhitejedjgvpbtxultlpciidzttedjgbthhpvthhput\n",
      "\n",
      "23\n",
      "\t secfkjuhixqluhudtuhutqbbevjxuiuebtsyfxuhiqieriebujumubbxqlujehuqbboijufkfekhwqcuyvmumqdjjeauufekhcuiiqwuiiqvu\n",
      "\n",
      "24\n",
      "\t tfdglkvijyrmviveuvivurccfwkyvjvfcutzgyvijrjfsjfcvkvnvccyrmvkfivrccpjkvglgflixrdvzwnvnrekkfbvvgflidvjjrxvjjrwv\n",
      "\n",
      "25\n",
      "\t ugehmlwjkzsnwjwfvwjwvsddgxlzwkwgdvuahzwjkskgtkgdwlwowddzsnwlgjwsddqklwhmhgmjysewaxowosfllgcwwhgmjewkksywkksxw\n",
      "\n"
     ]
    }
   ],
   "source": [
    "strs = \"vhfinmxkl atox kxgwxkxw tee hy maxlx hew vbiaxkl tl hulhexmx. px'ee atox mh kxteer lmxi ni hnk ztfx by px ptgm mh dxxi hnk fxlltzxl ltyx.\"\n",
    "alpha = \"abcdefghijklmnopqrstuvwxyz\"\n",
    "def eTuBrute(message, offset):\n",
    "    cipher_text = \"\"\n",
    "    for char in message:\n",
    "        if char.isalpha():\n",
    "            stay_in_alpha = ord(char) + offset\n",
    "            if stay_in_alpha > ord('z'):\n",
    "                stay_in_alpha -= 26\n",
    "            final_letter = chr(stay_in_alpha)\n",
    "            cipher_text += final_letter           \n",
    "    return cipher_text\n",
    "\n",
    "for i in range(26):\n",
    "    print(str(i))\n",
    "    print(\"\\t \" + eTuBrute(strs, i) + \"\\n\")\n"
   ]
  },
  {
   "cell_type": "code",
   "execution_count": 37,
   "metadata": {},
   "outputs": [],
   "source": [
    "def decoder(coded, shift):\n",
    "    decoded = []\n",
    "    spacesIdx = []\n",
    "    nums = []\n",
    "    puncList = []\n",
    "    specialChar = []\n",
    "    counter = 0\n",
    "    for char in coded:\n",
    "        if char.isalpha():\n",
    "            char = char.lower()\n",
    "            limitAlpha = ord(char) - shift\n",
    "            if (limitAlpha < ord('a')) :\n",
    "                backshift = ord('a') - limitAlpha\n",
    "                backshift = ord('z') - backshift\n",
    "                backshift = chr(backshift)\n",
    "                #print(f'Backshift : {backshift}')\n",
    "                decoded.append(backshift)\n",
    "                counter += 1\n",
    "            else:\n",
    "                decoded.append(chr(limitAlpha))\n",
    "                counter += 1\n",
    "        elif char.isspace():\n",
    "            spacesIdx.append(counter)\n",
    "            print(f'Space index: {spacesIdx}')\n",
    "            counter += 1\n",
    "        elif (str(char)).isnumeric():\n",
    "            nums.append(counter)\n",
    "            #print(char)\n",
    "            #print(f'Number index: {counter}')\n",
    "            counter += 1\n",
    "        else:\n",
    "            print(f'Unknown character: {char}')\n",
    "            puncList.append(char)\n",
    "            counter += 1\n",
    "    return ''.join(decoded), spacesIdx, nums, puncList;"
   ]
  },
  {
   "cell_type": "code",
   "execution_count": 38,
   "metadata": {},
   "outputs": [],
   "source": [
    "def caesar(uncoded, shift):\n",
    "    coded = []\n",
    "    for char in uncoded:\n",
    "        if char.isalpha():\n",
    "            char = char.lower()\n",
    "            limitAlpha = ord(char) + shift\n",
    "            if (limitAlpha >= ord('a')) & (limitAlpha <= ord('z')) :\n",
    "                limitAlpha = chr(limitAlpha)\n",
    "                #print(f'LimitAlpha: {limitAlpha}')\n",
    "                coded.append(limitAlpha)\n",
    "            else:\n",
    "                frontShift = ((limitAlpha % ord('z')) % 26) + ord('a')\n",
    "                #print(f'Frontshift: {frontShift}')\n",
    "                coded.append(chr(frontShift))\n",
    "                #coded.append(frontShift)\n",
    "    return ''.join(coded)"
   ]
  },
  {
   "cell_type": "code",
   "execution_count": 39,
   "metadata": {},
   "outputs": [],
   "source": [
    "def askInput():\n",
    "    print('//////////////////////////////////////////////////////////////////////////////////')\n",
    "    query = input(\"Decode, or Code? \")\n",
    "    print('//////////////////////////////////////////////////////////////////////////////////')\n",
    "    query = query.lower()\n",
    "    if query == 'decode':\n",
    "        decodeMessage = input(\"Enter coded message:: \")\n",
    "        print('//////////////////////////////////////////////////////////////////////////////////')\n",
    "        print(f\"Message Recieved: {decodeMessage}\")\n",
    "        print('//////////////////////////////////////////////////////////////////////////////////')\n",
    "        shiftNum = int(input(\"Enter the shift:: \\n\"))\n",
    "        print('//////////////////////////////////////////////////////////////////////////////////')\n",
    "        print(f'Shift Entered: {shiftNum}')\n",
    "        print('//////////////////////////////////////////////////////////////////////////////////')\n",
    "        if shiftNum == 25:\n",
    "            print('Invalid shift, please choose again. ')\n",
    "            print('//////////////////////////////////////////////////////////////////////////////////')\n",
    "            shiftNum = int(input('Enter a different number: \\n'))\n",
    "            print('//////////////////////////////////////////////////////////////////////////////////')\n",
    "            print(f'Shift Entered: {shiftNum}')\n",
    "        initDecode = decoder(decodeMessage, shiftNum)\n",
    "        print('----------------------------------------------------------------------------------')\n",
    "        return print(f'This is your coded message:: {initDecode}\\n----------------------------------------------------------------------------------')\n",
    "    else:\n",
    "        toCode = input('Enter message to code:: ')\n",
    "        print('//////////////////////////////////////////////////////////////////////////////////')\n",
    "        print(f\"Message Recieved: {toCode}\")\n",
    "        print('//////////////////////////////////////////////////////////////////////////////////')\n",
    "        shiftNum = int(input('Enter the shift:'))\n",
    "        print('//////////////////////////////////////////////////////////////////////////////////')\n",
    "        print(f'Shift Entered: {shiftNum}')\n",
    "        print('//////////////////////////////////////////////////////////////////////////////////')\n",
    "        if shiftNum == 25:\n",
    "            print('Invalid shift, please choose again. ')\n",
    "            print('//////////////////////////////////////////////////////////////////////////////////')\n",
    "            shiftNum = int(input('Enter a different number: '))\n",
    "            print('//////////////////////////////////////////////////////////////////////////////////')\n",
    "            print(f'Shift Entered: {shiftNum}')\n",
    "        print('----------------------------------------------------------------------------------')\n",
    "        return print(f'This is your coded message:: {caesar(toCode, shiftNum)}\\n----------------------------------------------------------------------------------')\n",
    "        "
   ]
  },
  {
   "cell_type": "code",
   "execution_count": 40,
   "metadata": {},
   "outputs": [
    {
     "name": "stdout",
     "output_type": "stream",
     "text": [
      "//////////////////////////////////////////////////////////////////////////////////\n",
      "Decode, or Code? decode\n",
      "//////////////////////////////////////////////////////////////////////////////////\n",
      "Enter coded message:: //what is it?\n",
      "//////////////////////////////////////////////////////////////////////////////////\n",
      "Message Recieved: //what is it?\n",
      "//////////////////////////////////////////////////////////////////////////////////\n",
      "Enter the shift:: \n",
      "14\n",
      "//////////////////////////////////////////////////////////////////////////////////\n",
      "Shift Entered: 14\n",
      "//////////////////////////////////////////////////////////////////////////////////\n",
      "Unknown character: /\n",
      "Unknown character: /\n",
      "Space index: [6]\n",
      "Space index: [6, 9]\n",
      "Unknown character: ?\n",
      "----------------------------------------------------------------------------------\n",
      "This is your coded message:: ('islftetf', [6, 9], [], ['/', '/', '?'])\n",
      "----------------------------------------------------------------------------------\n"
     ]
    }
   ],
   "source": [
    "askInput()"
   ]
  },
  {
   "cell_type": "code",
   "execution_count": null,
   "metadata": {},
   "outputs": [],
   "source": []
  }
 ],
 "metadata": {
  "kernelspec": {
   "display_name": "Python 3",
   "language": "python",
   "name": "python3"
  },
  "language_info": {
   "codemirror_mode": {
    "name": "ipython",
    "version": 3
   },
   "file_extension": ".py",
   "mimetype": "text/x-python",
   "name": "python",
   "nbconvert_exporter": "python",
   "pygments_lexer": "ipython3",
   "version": "3.7.7"
  }
 },
 "nbformat": 4,
 "nbformat_minor": 4
}
