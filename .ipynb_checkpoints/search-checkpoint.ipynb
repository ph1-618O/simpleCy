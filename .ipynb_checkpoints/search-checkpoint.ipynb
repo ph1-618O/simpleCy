{
 "cells": [
  {
   "cell_type": "markdown",
   "metadata": {},
   "source": [
    "# cipherTwo\n",
    "- cipherTwo will expand on caesar.py incorporating a vignere cipher and options to search for words within the text to allow for punctuation and proper spacing. "
   ]
  },
  {
   "cell_type": "code",
   "execution_count": null,
   "metadata": {},
   "outputs": [],
   "source": [
    "# def decoder(coded, shift):\n",
    "#     decoded = []\n",
    "#     for char in coded:\n",
    "#         if char.isalpha():\n",
    "#             char = char.lower()\n",
    "#             limitAlpha = ord(char) - shift\n",
    "#             if (limitAlpha < ord('a')) :\n",
    "#                 backshift = ord('a') - limitAlpha\n",
    "#                 backshift = ord('z') - backshift\n",
    "#                 backshift = chr(backshift)\n",
    "#                 #print(f'Backshift : {backshift}')\n",
    "#                 decoded.append(backshift)\n",
    "#             else:\n",
    "#                 decoded.append(chr(limitAlpha))\n",
    "#     return ''.join(decoded)"
   ]
  },
  {
   "cell_type": "markdown",
   "metadata": {},
   "source": [
    "# <! Notes\n",
    "- add isupper conditional, save location of isupper == true, upon joining list return indexes of isupper to \n",
    "uppercase\n",
    "- create a switch case statment for isalpha, isspace, isnumeric, is specialchar\n",
    "- create a nums cipher rotation +||- shift\n",
    "- create a punc cipher rotation +||- shift\n",
    "- upon joining list add spaces back in at spacesIdx locations\n",
    "- ordinal nums for punc begin with ord('!') = 33, ord('~') = 126\n",
    "- ordinal nums for numbers begin with ord('0') = 48 to ord('9') = 57, make sure to convert to str"
   ]
  },
  {
   "cell_type": "markdown",
   "metadata": {},
   "source": [
    "# Variables\n",
    "- Global variables for manipulation"
   ]
  },
  {
   "cell_type": "code",
   "execution_count": null,
   "metadata": {},
   "outputs": [],
   "source": [
    "strs = \"vhfinmxkl atox kxgwxkxw tee hy maxlx hew vbiaxkl tl hulhexmx. px'ee atox mh kxteer lmxi ni hnk ztfx by px ptgm mh dxxi hnk fxlltzxl ltyx.\""
   ]
  },
  {
   "cell_type": "code",
   "execution_count": null,
   "metadata": {},
   "outputs": [],
   "source": [
    "dirtyNumerals = \"\"\"1st – first\n",
    "2nd – second\n",
    "3rd – third\n",
    "4th – fourth\n",
    "5th – fifth\n",
    "6th – sixth\n",
    "7th – seventh\n",
    "8th – eighth\n",
    "9th – ninth\n",
    "10th – tenth\n",
    "11th – eleventh\n",
    "12th – twelfth\n",
    "13th – thirteenth\n",
    "14th – fourteenth\n",
    "15th – fifteenth\n",
    "16th – sixteenth\n",
    "17th – seventeenth\n",
    "18th – eighteenth\n",
    "19th – nineteenth\n",
    "20th – twentieth\n",
    "21st – twenty-first\n",
    "22nd – twenty-second\n",
    "23rd – twenty-third\n",
    "24th – twenty-fourth\n",
    "25th – twenty-fifth\n",
    "26th – twenty-sixth\"\"\""
   ]
  },
  {
   "cell_type": "code",
   "execution_count": 36,
   "metadata": {},
   "outputs": [],
   "source": [
    "#Cleaning dirtyNumerals\n",
    "#making oridinals list for globals(i)\n",
    "removeChars = ['–', '\\n']\n",
    "for i in removeChars:\n",
    "    dirtyOrds = dirtyNumerals.replace(i, ' ')\n",
    "dirtyOrds = dirtyNumerals.split(\" \")"
   ]
  },
  {
   "cell_type": "code",
   "execution_count": 153,
   "metadata": {},
   "outputs": [],
   "source": [
    "def getOrdinalsList(chrType, begin, end):\n",
    "    ordList = []\n",
    "    for i in range(begin, end):\n",
    "        ordList.append(i)\n",
    "    #print(ordList)\n",
    "    #print(type(ordList[0]))\n",
    "    print(f'The {chrType} ASCII begins with the number: {ordList[-len(ordList)]},'\\\n",
    "          + f' and the {chrType}: {chr(ordList[-len(ordList)])}')\n",
    "    print(f'Negative len: {-len(ordList)}')\n",
    "    print(f'End of list idx: {len(ordList)-1}')\n",
    "    print(f'The {chrType} ASCII ends with the number: {ordList[len(ordList)-1]},'\\\n",
    "          + f' and the {chrType}: {chr(ordList[len(ordList)-1])}')\n",
    "    return ordList"
   ]
  },
  {
   "cell_type": "code",
   "execution_count": 154,
   "metadata": {},
   "outputs": [],
   "source": [
    "# print(chr(33))\n",
    "# print(chr(126))"
   ]
  },
  {
   "cell_type": "code",
   "execution_count": 155,
   "metadata": {},
   "outputs": [
    {
     "name": "stdout",
     "output_type": "stream",
     "text": [
      "The Symbol ASCII begins with the number: 33, and the Symbol: !\n",
      "Negative len: -94\n",
      "End of list idx: 93\n",
      "The Symbol ASCII ends with the number: 126, and the Symbol: ~\n",
      "[33, 34, 35, 36, 37, 38, 39, 40, 41, 42, 43, 44, 45, 46, 47, 48, 49, 50, 51, 52, 53, 54, 55, 56, 57, 58, 59, 60, 61, 62, 63, 64, 65, 66, 67, 68, 69, 70, 71, 72, 73, 74, 75, 76, 77, 78, 79, 80, 81, 82, 83, 84, 85, 86, 87, 88, 89, 90, 91, 92, 93, 94, 95, 96, 97, 98, 99, 100, 101, 102, 103, 104, 105, 106, 107, 108, 109, 110, 111, 112, 113, 114, 115, 116, 117, 118, 119, 120, 121, 122, 123, 124, 125, 126]\n"
     ]
    }
   ],
   "source": [
    "symbolList = getOrdinalsList('Symbol', 33, 127)\n",
    "print(symbolList)"
   ]
  },
  {
   "cell_type": "code",
   "execution_count": 156,
   "metadata": {},
   "outputs": [],
   "source": [
    "# print(chr(48))\n",
    "# print(chr(57))"
   ]
  },
  {
   "cell_type": "code",
   "execution_count": 152,
   "metadata": {},
   "outputs": [
    {
     "name": "stdout",
     "output_type": "stream",
     "text": [
      "The Number ASCII begins with the number: 48, and the Number: 0\n",
      "Negative len: -10\n",
      "End of list idx: 9\n",
      "The Number ASCII ends with the number: 57, and the Number: 9\n",
      "[48, 49, 50, 51, 52, 53, 54, 55, 56, 57]\n"
     ]
    }
   ],
   "source": [
    "numsList = getOrdinalsList('Number', 48, 58)\n",
    "print(numsList)"
   ]
  },
  {
   "cell_type": "markdown",
   "metadata": {},
   "source": [
    "# Functions\n",
    "- preset functions to be used later"
   ]
  },
  {
   "cell_type": "code",
   "execution_count": 85,
   "metadata": {},
   "outputs": [],
   "source": [
    "#prints all elements inline with a comma\n",
    "def printInline(toPrint):\n",
    "    for i in toPrint:\n",
    "        print(str(i) + ', ', end = \" \")"
   ]
  },
  {
   "cell_type": "code",
   "execution_count": 79,
   "metadata": {},
   "outputs": [],
   "source": [
    "#making index list of space locations\n",
    "def locatingSpaces(message):\n",
    "    spacesList = []\n",
    "    counter = 0\n",
    "    for i in message:\n",
    "        if i == ' ':\n",
    "            spacesList.append(counter)\n",
    "            counter += 1\n",
    "        else:\n",
    "            counter += 1\n",
    "    return spacesList"
   ]
  },
  {
   "cell_type": "code",
   "execution_count": 87,
   "metadata": {},
   "outputs": [
    {
     "name": "stdout",
     "output_type": "stream",
     "text": [
      "9,  14,  23,  27,  30,  36,  40,  48,  51,  61,  67,  72,  75,  82,  87,  90,  94,  99,  102,  105,  110,  113,  118,  122,  131,  "
     ]
    }
   ],
   "source": [
    "locatedSpaces = locatingSpaces(strs)\n",
    "printInline(locatedSpaces)"
   ]
  },
  {
   "cell_type": "markdown",
   "metadata": {},
   "source": [
    "# Working"
   ]
  },
  {
   "cell_type": "code",
   "execution_count": 158,
   "metadata": {},
   "outputs": [
    {
     "name": "stdout",
     "output_type": "stream",
     "text": [
      "33,  34,  35,  36,  37,  38,  39,  40,  41,  42,  43,  44,  45,  46,  47,  48,  49,  50,  51,  52,  53,  54,  55,  56,  57,  58,  59,  60,  61,  62,  63,  64,  65,  66,  67,  68,  69,  70,  71,  72,  73,  74,  75,  76,  77,  78,  79,  80,  81,  82,  83,  84,  85,  86,  87,  88,  89,  90,  91,  92,  93,  94,  95,  96,  97,  98,  99,  100,  101,  102,  103,  104,  105,  106,  107,  108,  109,  110,  111,  112,  113,  114,  115,  116,  117,  118,  119,  120,  121,  122,  123,  124,  125,  126,  "
     ]
    }
   ],
   "source": [
    "# Symbols Location in ASCII\n",
    "# ord('!') = 33, ord('~') = 126\n",
    "printInline(symbolList)"
   ]
  },
  {
   "cell_type": "code",
   "execution_count": null,
   "metadata": {},
   "outputs": [],
   "source": [
    "def findSpecialChar(string):\n",
    "    for i in string:\n",
    "        if i == chr(j)    "
   ]
  },
  {
   "cell_type": "code",
   "execution_count": 159,
   "metadata": {},
   "outputs": [
    {
     "name": "stdout",
     "output_type": "stream",
     "text": [
      "48,  49,  50,  51,  52,  53,  54,  55,  56,  57,  "
     ]
    }
   ],
   "source": [
    "# Numbers location in ASCII\n",
    "# ord('0') = 48, ord('9') = 57\n",
    "printInline(numsList)"
   ]
  },
  {
   "cell_type": "code",
   "execution_count": null,
   "metadata": {},
   "outputs": [],
   "source": [
    "def findNumbers(string):"
   ]
  },
  {
   "cell_type": "code",
   "execution_count": 37,
   "metadata": {},
   "outputs": [],
   "source": [
    "emptyIdx = []\n",
    "i = 0\n",
    "for j in dirtyNumerals:\n",
    "    if j == '':\n",
    "        emptyIdx.append(dirtyNumerals.index('', i))\n",
    "        i += 1\n",
    "    else:\n",
    "        i += 1"
   ]
  },
  {
   "cell_type": "code",
   "execution_count": 38,
   "metadata": {},
   "outputs": [
    {
     "name": "stdout",
     "output_type": "stream",
     "text": [
      "1st,  ,  ,  first,  2nd,  ,  ,  second,  3rd,  ,  ,  third,  4th,  ,  ,  fourth,  5th,  ,  ,  fifth,  6th,  ,  ,  sixth,  7th,  ,  ,  seventh,  8th,  ,  ,  eighth,  9th,  ,  ,  ninth,  10th,  ,  ,  tenth,  11th,  ,  ,  eleventh,  12th,  ,  ,  twelfth,  13th,  ,  ,  thirteenth,  14th,  ,  ,  fourteenth,  15th,  ,  ,  fifteenth,  16th,  ,  ,  sixteenth,  17th,  ,  ,  seventeenth,  18th,  ,  ,  eighteenth,  19th,  ,  ,  nineteenth,  20th,  ,  ,  twentieth,  21st,  ,  ,  twenty-first,  22nd,  ,  ,  twenty-second,  23rd,  ,  ,  twenty-third,  24th,  ,  ,  twenty-fourth,  25th,  ,  ,  twenty-fifth,  26th,  ,  ,  twenty-sixth,  "
     ]
    }
   ],
   "source": [
    "#Printing dirtyNumerals\n",
    "for i in dirtyNumerals:\n",
    "    print(str(i) + ', ', end = \" \")"
   ]
  },
  {
   "cell_type": "code",
   "execution_count": 83,
   "metadata": {},
   "outputs": [],
   "source": []
  },
  {
   "cell_type": "code",
   "execution_count": 84,
   "metadata": {},
   "outputs": [
    {
     "name": "stdout",
     "output_type": "stream",
     "text": [
      "1,  2,  5,  6,  9,  10,  13,  14,  17,  18,  21,  22,  25,  26,  29,  30,  33,  34,  37,  38,  41,  42,  45,  46,  49,  50,  53,  54,  57,  58,  61,  62,  65,  66,  69,  70,  73,  74,  77,  78,  81,  82,  85,  86,  89,  90,  93,  94,  97,  98,  101,  102,  "
     ]
    }
   ],
   "source": [
    "printInline(emptyIdx)"
   ]
  },
  {
   "cell_type": "code",
   "execution_count": null,
   "metadata": {},
   "outputs": [],
   "source": []
  },
  {
   "cell_type": "code",
   "execution_count": 56,
   "metadata": {},
   "outputs": [],
   "source": [
    "#len(dirtyOrds)"
   ]
  },
  {
   "cell_type": "code",
   "execution_count": 54,
   "metadata": {},
   "outputs": [],
   "source": [
    "def removeSpaces(listName):\n",
    "    filterLambda = filter(lambda x: x != '', listName)\n",
    "    cleanList = list(filterLambda)\n",
    "    return cleanList"
   ]
  },
  {
   "cell_type": "code",
   "execution_count": 55,
   "metadata": {},
   "outputs": [
    {
     "name": "stdout",
     "output_type": "stream",
     "text": [
      "['1st', 'first', '2nd', 'second', '3rd', 'third', '4th', 'fourth', '5th', 'fifth', '6th', 'sixth', '7th', 'seventh', '8th', 'eighth', '9th', 'ninth', '10th', 'tenth', '11th', 'eleventh', '12th', 'twelfth', '13th', 'thirteenth', '14th', 'fourteenth', '15th', 'fifteenth', '16th', 'sixteenth', '17th', 'seventeenth', '18th', 'eighteenth', '19th', 'nineteenth', '20th', 'twentieth', '21st', 'twenty-first', '22nd', 'twenty-second', '23rd', 'twenty-third', '24th', 'twenty-fourth', '25th', 'twenty-fifth', '26th', 'twenty-sixth']\n"
     ]
    }
   ],
   "source": [
    "cleanNumerals = removeSpaces(dirtyNumerals)\n",
    "print(cleanNumerals)"
   ]
  },
  {
   "cell_type": "code",
   "execution_count": 61,
   "metadata": {},
   "outputs": [
    {
     "ename": "ValueError",
     "evalue": "invalid literal for int() with base 10: 's'",
     "output_type": "error",
     "traceback": [
      "\u001b[0;31m---------------------------------------------------------------------------\u001b[0m",
      "\u001b[0;31mValueError\u001b[0m                                Traceback (most recent call last)",
      "\u001b[0;32m<ipython-input-61-dc609df6bf7f>\u001b[0m in \u001b[0;36m<module>\u001b[0;34m\u001b[0m\n\u001b[0;32m----> 1\u001b[0;31m \u001b[0mint\u001b[0m\u001b[0;34m(\u001b[0m\u001b[0;34m's'\u001b[0m\u001b[0;34m)\u001b[0m\u001b[0;34m\u001b[0m\u001b[0;34m\u001b[0m\u001b[0m\n\u001b[0m",
      "\u001b[0;31mValueError\u001b[0m: invalid literal for int() with base 10: 's'"
     ]
    }
   ],
   "source": [
    "int('s')"
   ]
  },
  {
   "cell_type": "markdown",
   "metadata": {},
   "source": [
    "# Next\n",
    "- pattern match the 1 in 1st etc to 26th and remove those values\n",
    "- maybe use try and accept.. or create a list of strs 1 - 26 and match on that\n",
    "- making newGlobals to hold the 26 strings that the vignere cipher will output"
   ]
  },
  {
   "cell_type": "code",
   "execution_count": null,
   "metadata": {},
   "outputs": [],
   "source": [
    "newGlobals = ordList\n",
    "for i in ordList:\n",
    "    newGlobals = []\n",
    "    #can do some homogenized code to all elements in list here\n",
    "    globals()[i] = newGlobals"
   ]
  },
  {
   "cell_type": "code",
   "execution_count": null,
   "metadata": {},
   "outputs": [],
   "source": [
    "# strs = \"vhfinmxkl atox kxgwxkxw tee hy maxlx hew vbiaxkl tl hulhexmx. px'ee atox mh kxteer lmxi ni hnk ztfx by px ptgm mh dxxi hnk fxlltzxl ltyx.\"\n",
    "# alpha = \"abcdefghijklmnopqrstuvwxyz\"\n",
    "# def eTuBrute(message, offset):\n",
    "#     def eTuBrute(message, offset):\n",
    "#         cipher_text = \"\"\n",
    "#         for char in message:\n",
    "#             if char.isalpha():\n",
    "#                 stay_in_alpha = ord(char) + offset\n",
    "#                 if stay_in_alpha > ord('z'):\n",
    "#                     stay_in_alpha -= 26\n",
    "#                 final_letter = chr(stay_in_alpha)\n",
    "#                 cipher_text += final_letter           \n",
    "#         return cipher_text\n",
    "\n",
    "#     for i in range(26):\n",
    "#         print(str(i))\n",
    "#         print(\"\\t \" + eTuBrute(strs, i) + \"\\n\")"
   ]
  },
  {
   "cell_type": "code",
   "execution_count": 74,
   "metadata": {},
   "outputs": [
    {
     "ename": "NameError",
     "evalue": "name 'spacesList' is not defined",
     "output_type": "error",
     "traceback": [
      "\u001b[0;31m---------------------------------------------------------------------------\u001b[0m",
      "\u001b[0;31mNameError\u001b[0m                                 Traceback (most recent call last)",
      "\u001b[0;32m<ipython-input-74-a45a46370c53>\u001b[0m in \u001b[0;36m<module>\u001b[0;34m\u001b[0m\n\u001b[0;32m----> 1\u001b[0;31m \u001b[0mspacesList\u001b[0m\u001b[0;34m\u001b[0m\u001b[0;34m\u001b[0m\u001b[0m\n\u001b[0m",
      "\u001b[0;31mNameError\u001b[0m: name 'spacesList' is not defined"
     ]
    }
   ],
   "source": [
    "spacesList"
   ]
  },
  {
   "cell_type": "code",
   "execution_count": 73,
   "metadata": {},
   "outputs": [
    {
     "data": {
      "text/plain": [
       "[]"
      ]
     },
     "execution_count": 73,
     "metadata": {},
     "output_type": "execute_result"
    }
   ],
   "source": [
    "def spacesIndex(strs):\n",
    "    spacesList = []\n",
    "    counter = 0\n",
    "    for i in strs:\n",
    "        if i == ' ':\n",
    "            spacesList.append(counter)\n",
    "            counter += 1\n",
    "        else:\n",
    "            counter += 1\n",
    "    return spacesList\n",
    "\n",
    "squishedStr = \"computershaverenderedalloftheseoldciphersasobsoletewellhavetoreallystepupourgameifwewanttokeepourmessagessafe\"\n",
    "spacesIndex(squishedStr)"
   ]
  },
  {
   "cell_type": "code",
   "execution_count": 71,
   "metadata": {},
   "outputs": [
    {
     "data": {
      "text/plain": [
       "['c omputershaverenderedalloftheseoldciphersasobsoletewellhavetoreallystepupourgameifwewanttokeepourmessagessafe',\n",
       " 'co mputershaverenderedalloftheseoldciphersasobsoletewellhavetoreallystepupourgameifwewanttokeepourmessagessafe',\n",
       " 'compu tershaverenderedalloftheseoldciphersasobsoletewellhavetoreallystepupourgameifwewanttokeepourmessagessafe',\n",
       " 'comput ershaverenderedalloftheseoldciphersasobsoletewellhavetoreallystepupourgameifwewanttokeepourmessagessafe',\n",
       " 'computers haverenderedalloftheseoldciphersasobsoletewellhavetoreallystepupourgameifwewanttokeepourmessagessafe',\n",
       " 'computersh averenderedalloftheseoldciphersasobsoletewellhavetoreallystepupourgameifwewanttokeepourmessagessafe',\n",
       " 'computershave renderedalloftheseoldciphersasobsoletewellhavetoreallystepupourgameifwewanttokeepourmessagessafe',\n",
       " 'computershaver enderedalloftheseoldciphersasobsoletewellhavetoreallystepupourgameifwewanttokeepourmessagessafe',\n",
       " 'computershaverend eredalloftheseoldciphersasobsoletewellhavetoreallystepupourgameifwewanttokeepourmessagessafe',\n",
       " 'computershaverende redalloftheseoldciphersasobsoletewellhavetoreallystepupourgameifwewanttokeepourmessagessafe',\n",
       " 'computershaverendered alloftheseoldciphersasobsoletewellhavetoreallystepupourgameifwewanttokeepourmessagessafe',\n",
       " 'computershaverendereda lloftheseoldciphersasobsoletewellhavetoreallystepupourgameifwewanttokeepourmessagessafe',\n",
       " 'computershaverenderedallo ftheseoldciphersasobsoletewellhavetoreallystepupourgameifwewanttokeepourmessagessafe',\n",
       " 'computershaverenderedallof theseoldciphersasobsoletewellhavetoreallystepupourgameifwewanttokeepourmessagessafe',\n",
       " 'computershaverenderedallofthe seoldciphersasobsoletewellhavetoreallystepupourgameifwewanttokeepourmessagessafe',\n",
       " 'computershaverenderedallofthes eoldciphersasobsoletewellhavetoreallystepupourgameifwewanttokeepourmessagessafe',\n",
       " 'computershaverenderedalloftheseol dciphersasobsoletewellhavetoreallystepupourgameifwewanttokeepourmessagessafe',\n",
       " 'computershaverenderedalloftheseold ciphersasobsoletewellhavetoreallystepupourgameifwewanttokeepourmessagessafe',\n",
       " 'computershaverenderedalloftheseoldcip hersasobsoletewellhavetoreallystepupourgameifwewanttokeepourmessagessafe',\n",
       " 'computershaverenderedalloftheseoldciph ersasobsoletewellhavetoreallystepupourgameifwewanttokeepourmessagessafe',\n",
       " 'computershaverenderedalloftheseoldciphers asobsoletewellhavetoreallystepupourgameifwewanttokeepourmessagessafe',\n",
       " 'computershaverenderedalloftheseoldciphersa sobsoletewellhavetoreallystepupourgameifwewanttokeepourmessagessafe',\n",
       " 'computershaverenderedalloftheseoldciphersasob soletewellhavetoreallystepupourgameifwewanttokeepourmessagessafe',\n",
       " 'computershaverenderedalloftheseoldciphersasobs oletewellhavetoreallystepupourgameifwewanttokeepourmessagessafe',\n",
       " 'computershaverenderedalloftheseoldciphersasobsole tewellhavetoreallystepupourgameifwewanttokeepourmessagessafe',\n",
       " 'computershaverenderedalloftheseoldciphersasobsolet ewellhavetoreallystepupourgameifwewanttokeepourmessagessafe',\n",
       " 'computershaverenderedalloftheseoldciphersasobsoletewe llhavetoreallystepupourgameifwewanttokeepourmessagessafe',\n",
       " 'computershaverenderedalloftheseoldciphersasobsoletewel lhavetoreallystepupourgameifwewanttokeepourmessagessafe',\n",
       " 'computershaverenderedalloftheseoldciphersasobsoletewellha vetoreallystepupourgameifwewanttokeepourmessagessafe',\n",
       " 'computershaverenderedalloftheseoldciphersasobsoletewellhav etoreallystepupourgameifwewanttokeepourmessagessafe',\n",
       " 'computershaverenderedalloftheseoldciphersasobsoletewellhaveto reallystepupourgameifwewanttokeepourmessagessafe',\n",
       " 'computershaverenderedalloftheseoldciphersasobsoletewellhavetor eallystepupourgameifwewanttokeepourmessagessafe',\n",
       " 'computershaverenderedalloftheseoldciphersasobsoletewellhavetoreal lystepupourgameifwewanttokeepourmessagessafe',\n",
       " 'computershaverenderedalloftheseoldciphersasobsoletewellhavetoreall ystepupourgameifwewanttokeepourmessagessafe',\n",
       " 'computershaverenderedalloftheseoldciphersasobsoletewellhavetoreallyst epupourgameifwewanttokeepourmessagessafe',\n",
       " 'computershaverenderedalloftheseoldciphersasobsoletewellhavetoreallyste pupourgameifwewanttokeepourmessagessafe',\n",
       " 'computershaverenderedalloftheseoldciphersasobsoletewellhavetoreallystepup ourgameifwewanttokeepourmessagessafe',\n",
       " 'computershaverenderedalloftheseoldciphersasobsoletewellhavetoreallystepupo urgameifwewanttokeepourmessagessafe',\n",
       " 'computershaverenderedalloftheseoldciphersasobsoletewellhavetoreallystepupourg ameifwewanttokeepourmessagessafe',\n",
       " 'computershaverenderedalloftheseoldciphersasobsoletewellhavetoreallystepupourga meifwewanttokeepourmessagessafe',\n",
       " 'computershaverenderedalloftheseoldciphersasobsoletewellhavetoreallystepupourgamei fwewanttokeepourmessagessafe',\n",
       " 'computershaverenderedalloftheseoldciphersasobsoletewellhavetoreallystepupourgameif wewanttokeepourmessagessafe',\n",
       " 'computershaverenderedalloftheseoldciphersasobsoletewellhavetoreallystepupourgameifwew anttokeepourmessagessafe',\n",
       " 'computershaverenderedalloftheseoldciphersasobsoletewellhavetoreallystepupourgameifwewa nttokeepourmessagessafe',\n",
       " 'computershaverenderedalloftheseoldciphersasobsoletewellhavetoreallystepupourgameifwewantt okeepourmessagessafe',\n",
       " 'computershaverenderedalloftheseoldciphersasobsoletewellhavetoreallystepupourgameifwewantto keepourmessagessafe',\n",
       " 'computershaverenderedalloftheseoldciphersasobsoletewellhavetoreallystepupourgameifwewanttokee pourmessagessafe',\n",
       " 'computershaverenderedalloftheseoldciphersasobsoletewellhavetoreallystepupourgameifwewanttokeep ourmessagessafe',\n",
       " 'computershaverenderedalloftheseoldciphersasobsoletewellhavetoreallystepupourgameifwewanttokeepour messagessafe',\n",
       " 'computershaverenderedalloftheseoldciphersasobsoletewellhavetoreallystepupourgameifwewanttokeepourm essagessafe',\n",
       " 'computershaverenderedalloftheseoldciphersasobsoletewellhavetoreallystepupourgameifwewanttokeepourmess agessafe',\n",
       " 'computershaverenderedalloftheseoldciphersasobsoletewellhavetoreallystepupourgameifwewanttokeepourmessa gessafe']"
      ]
     },
     "execution_count": 71,
     "metadata": {},
     "output_type": "execute_result"
    }
   ],
   "source": [
    "def addingSpaces(string, integer):\n",
    "    return string[0:integer] + ' ' + string[integer:]\n",
    "squishedStr = \"computershaverenderedalloftheseoldciphersasobsoletewellhavetoreallystepupourgameifwewanttokeepourmessagessafe\"\n",
    "\n",
    "withSpaces = []\n",
    "for i in emptyIdx:\n",
    "    withSpaces.append(addingSpaces(squishedStr, i))\n",
    "withSpaces"
   ]
  },
  {
   "cell_type": "markdown",
   "metadata": {},
   "source": [
    "# Cipher Functions\n",
    "- Three Caesar functions:\n",
    "    - eTuBrute is a brute force Casesar decoder\n",
    "    - Caesar is a caesar coder\n",
    "    - decoder is a caesar decoder\n"
   ]
  },
  {
   "cell_type": "code",
   "execution_count": 68,
   "metadata": {},
   "outputs": [
    {
     "name": "stdout",
     "output_type": "stream",
     "text": [
      "What is the Coded Message?vhfinmxkl atox kxgwxkxw tee hy maxlx hew vbiaxkl tl hulhexmx. px'ee atox mh kxteer lmxi ni hnk ztfx by px ptgm mh dxxi hnk fxlltzxl ltyx.\n",
      "0\n",
      "\t vhfinmxklatoxkxgwxkxwteehymaxlxhewvbiaxkltlhulhexmxpxeeatoxmhkxteerlmxinihnkztfxbypxptgmmhdxxihnkfxlltzxlltyx\n",
      "\n",
      "1\n",
      "\t wigjonylmbupylyhxylyxuffiznbymyifxwcjbylmumivmifynyqyffbupynilyuffsmnyjojiolaugyczqyquhnnieyyjiolgymmuaymmuzy\n",
      "\n",
      "2\n",
      "\t xjhkpozmncvqzmziyzmzyvggjaocznzjgyxdkczmnvnjwnjgzozrzggcvqzojmzvggtnozkpkjpmbvhzdarzrvioojfzzkjpmhznnvbznnvaz\n",
      "\n",
      "3\n",
      "\t ykilqpanodwranajzanazwhhkbpdaoakhzyeldanowokxokhapasahhdwrapknawhhuopalqlkqncwiaebsaswjppkgaalkqniaoowcaoowba\n",
      "\n",
      "4\n",
      "\t zljmrqbopexsbobkabobaxiilcqebpbliazfmebopxplyplibqbtbiiexsbqlobxiivpqbmrmlrodxjbfctbtxkqqlhbbmlrojbppxdbppxcb\n",
      "\n",
      "5\n",
      "\t amknsrcpqfytcpclbcpcbyjjmdrfcqcmjbagnfcpqyqmzqmjcrcucjjfytcrmpcyjjwqrcnsnmspeykcgducuylrrmiccnmspkcqqyecqqydc\n",
      "\n",
      "6\n",
      "\t bnlotsdqrgzudqdmcdqdczkknesgdrdnkcbhogdqrzrnarnkdsdvdkkgzudsnqdzkkxrsdotontqfzldhevdvzmssnjddontqldrrzfdrrzed\n",
      "\n",
      "7\n",
      "\t computershaverenderedalloftheseoldciphersasobsoletewellhavetoreallystepupourgameifwewanttokeepourmessagessafe\n",
      "\n",
      "8\n",
      "\t dpnqvufstibwfsfoefsfebmmpguiftfpmedjqifstbtpctpmfufxfmmibwfupsfbmmztufqvqpvshbnfjgxfxbouuplffqpvsnfttbhfttbgf\n",
      "\n",
      "9\n",
      "\t eqorwvgtujcxgtgpfgtgfcnnqhvjgugqnfekrjgtucuqduqngvgygnnjcxgvqtgcnnauvgrwrqwticogkhygycpvvqmggrqwtoguuciguuchg\n",
      "\n",
      "10\n",
      "\t frpsxwhuvkdyhuhqghuhgdooriwkhvhrogflskhuvdvrevrohwhzhookdyhwruhdoobvwhsxsrxujdphlizhzdqwwrnhhsrxuphvvdjhvvdih\n",
      "\n",
      "11\n",
      "\t gsqtyxivwlezivirhiviheppsjxliwisphgmtlivwewsfwspixiaipplezixsvieppcwxitytsyvkeqimjaiaerxxsoiitsyvqiwwekiwweji\n",
      "\n",
      "12\n",
      "\t htruzyjwxmfajwjsijwjifqqtkymjxjtqihnumjwxfxtgxtqjyjbjqqmfajytwjfqqdxyjuzutzwlfrjnkbjbfsyytpjjutzwrjxxfljxxfkj\n",
      "\n",
      "13\n",
      "\t iusvazkxyngbkxktjkxkjgrrulznkykurjiovnkxygyuhyurkzkckrrngbkzuxkgrreyzkvavuaxmgskolckcgtzzuqkkvuaxskyygmkyyglk\n",
      "\n",
      "14\n",
      "\t jvtwbalyzohclyluklylkhssvmaolzlvskjpwolyzhzvizvslaldlssohclavylhssfzalwbwvbynhtlpmdldhuaavrllwvbytlzzhnlzzhml\n",
      "\n",
      "15\n",
      "\t kwuxcbmzapidmzmvlmzmlittwnbpmamwtlkqxpmzaiawjawtmbmemttpidmbwzmittgabmxcxwczoiumqnemeivbbwsmmxwczumaaiomaainm\n",
      "\n",
      "16\n",
      "\t lxvydcnabqjenanwmnanmjuuxocqnbnxumlryqnabjbxkbxuncnfnuuqjencxanjuuhbcnydyxdapjvnrofnfjwccxtnnyxdavnbbjpnbbjon\n",
      "\n",
      "17\n",
      "\t mywzedobcrkfoboxnobonkvvypdrocoyvnmszrobckcylcyvodogovvrkfodybokvvicdozezyebqkwospgogkxddyuoozyebwocckqocckpo\n",
      "\n",
      "18\n",
      "\t nzxafepcdslgpcpyopcpolwwzqespdpzwontaspcdldzmdzwpephpwwslgpezcplwwjdepafazfcrlxptqhphlyeezvppazfcxpddlrpddlqp\n",
      "\n",
      "19\n",
      "\t oaybgfqdetmhqdqzpqdqpmxxarftqeqaxpoubtqdemeaneaxqfqiqxxtmhqfadqmxxkefqbgbagdsmyquriqimzffawqqbagdyqeemsqeemrq\n",
      "\n",
      "20\n",
      "\t pbzchgrefunireraqrerqnyybsgurfrbyqpvcurefnfbofbyrgrjryyunirgbernyylfgrchcbhetnzrvsjrjnaggbxrrcbhezrffntrffnsr\n",
      "\n",
      "21\n",
      "\t qcadihsfgvojsfsbrsfsrozzcthvsgsczrqwdvsfgogcpgczshskszzvojshcfsozzmghsdidcifuoaswtkskobhhcyssdcifasggousggots\n",
      "\n",
      "22\n",
      "\t rdbejitghwpktgtcstgtspaaduiwthtdasrxewtghphdqhdatitltaawpktidgtpaanhitejedjgvpbtxultlpciidzttedjgbthhpvthhput\n",
      "\n",
      "23\n",
      "\t secfkjuhixqluhudtuhutqbbevjxuiuebtsyfxuhiqieriebujumubbxqlujehuqbboijufkfekhwqcuyvmumqdjjeauufekhcuiiqwuiiqvu\n",
      "\n",
      "24\n",
      "\t tfdglkvijyrmviveuvivurccfwkyvjvfcutzgyvijrjfsjfcvkvnvccyrmvkfivrccpjkvglgflixrdvzwnvnrekkfbvvgflidvjjrxvjjrwv\n",
      "\n",
      "25\n",
      "\t ugehmlwjkzsnwjwfvwjwvsddgxlzwkwgdvuahzwjkskgtkgdwlwowddzsnwlgjwsddqklwhmhgmjysewaxowosfllgcwwhgmjewkksywkksxw\n",
      "\n"
     ]
    }
   ],
   "source": [
    "def eTuBrute():\n",
    "    strs = input(\"What is the Coded Message?\\n\")\n",
    "    #offset = input(\"What is the offset?\")\n",
    "    #alpha = \"abcdefghijklmnopqrstuvwxyz\"\n",
    "    def decodeString(message, offset):\n",
    "        emptyIdx = []\n",
    "        i = 0\n",
    "        for j in dirtyOrds:\n",
    "            if j == '':\n",
    "            emptyIdx.append(message.index('', i))\n",
    "            i += 1\n",
    "        else:\n",
    "            i += 1\n",
    "        cipher_text = \"\"\n",
    "        for char in message:\n",
    "            if char.isalpha():\n",
    "                stay_in_alpha = ord(char) + offset\n",
    "                if stay_in_alpha > ord('z'):\n",
    "                    stay_in_alpha -= 26\n",
    "                final_letter = chr(stay_in_alpha)\n",
    "                cipher_text += final_letter\n",
    "        \n",
    "        return cipher_text\n",
    "    for i in range(26):\n",
    "        print(str(i))\n",
    "        \n",
    "        print(\"\\t \" + decodeString(strs, i) + \"\\n\")\n",
    "eTuBrute()"
   ]
  },
  {
   "cell_type": "code",
   "execution_count": null,
   "metadata": {},
   "outputs": [],
   "source": [
    "strs = \"vhfinmxkl atox kxgwxkxw tee hy maxlx hew vbiaxkl tl hulhexmx. px'ee atox mh kxteer lmxi ni hnk ztfx by px ptgm mh dxxi hnk fxlltzxl ltyx.\"\n",
    "alpha = \"abcdefghijklmnopqrstuvwxyz\"\n",
    "def eTuBrute(message, offset):\n",
    "    cipher_text = \"\"\n",
    "    for char in message:\n",
    "        if char.isalpha():\n",
    "            stay_in_alpha = ord(char) + offset\n",
    "            if stay_in_alpha > ord('z'):\n",
    "                stay_in_alpha -= 26\n",
    "            final_letter = chr(stay_in_alpha)\n",
    "            cipher_text += final_letter           \n",
    "    return cipher_text\n",
    "\n",
    "for i in range(26):\n",
    "    print(str(i))\n",
    "    print(\"\\t \" + eTuBrute(strs, i) + \"\\n\")"
   ]
  },
  {
   "cell_type": "code",
   "execution_count": null,
   "metadata": {},
   "outputs": [],
   "source": [
    "def decoder(coded, shift):\n",
    "    decoded = []\n",
    "    spacesIdx = []\n",
    "    nums = []\n",
    "    puncList = []\n",
    "    specialChar = []\n",
    "    counter = 0\n",
    "    for char in coded:\n",
    "        if char.isalpha():\n",
    "            char = char.lower()\n",
    "            limitAlpha = ord(char) - shift\n",
    "            if (limitAlpha < ord('a')) :\n",
    "                backshift = ord('a') - limitAlpha\n",
    "                backshift = ord('z') - backshift\n",
    "                backshift = chr(backshift)\n",
    "                #print(f'Backshift : {backshift}')\n",
    "                decoded.append(backshift)\n",
    "                counter += 1\n",
    "            else:\n",
    "                decoded.append(chr(limitAlpha))\n",
    "                counter += 1\n",
    "        elif char.isspace():\n",
    "            spacesIdx.append(counter)\n",
    "            print(f'Space index: {spacesIdx}')\n",
    "            counter += 1\n",
    "        elif (str(char)).isnumeric():\n",
    "            nums.append(counter)\n",
    "            #print(char)\n",
    "            #print(f'Number index: {counter}')\n",
    "            counter += 1\n",
    "        else:\n",
    "            print(f'Unknown character: {char}')\n",
    "            puncList.append(char)\n",
    "            counter += 1\n",
    "    return ''.join(decoded), spacesIdx, nums, puncList;"
   ]
  },
  {
   "cell_type": "code",
   "execution_count": null,
   "metadata": {},
   "outputs": [],
   "source": [
    "def caesar(uncoded, shift):\n",
    "    coded = []\n",
    "    for char in uncoded:\n",
    "        if char.isalpha():\n",
    "            char = char.lower()\n",
    "            limitAlpha = ord(char) + shift\n",
    "            if (limitAlpha >= ord('a')) & (limitAlpha <= ord('z')) :\n",
    "                limitAlpha = chr(limitAlpha)\n",
    "                #print(f'LimitAlpha: {limitAlpha}')\n",
    "                coded.append(limitAlpha)\n",
    "            else:\n",
    "                frontShift = ((limitAlpha % ord('z')) % 26) + ord('a')\n",
    "                #print(f'Frontshift: {frontShift}')\n",
    "                coded.append(chr(frontShift))\n",
    "                #coded.append(frontShift)\n",
    "    return ''.join(coded)"
   ]
  },
  {
   "cell_type": "code",
   "execution_count": null,
   "metadata": {},
   "outputs": [],
   "source": [
    "def askInput():\n",
    "    print('//////////////////////////////////////////////////////////////////////////////////')\n",
    "    query = input(\"Decode, or Code? \")\n",
    "    print('//////////////////////////////////////////////////////////////////////////////////')\n",
    "    query = query.lower()\n",
    "    if query == 'decode':\n",
    "        decodeMessage = input(\"Enter coded message:: \")\n",
    "        print('//////////////////////////////////////////////////////////////////////////////////')\n",
    "        print(f\"Message Recieved: {decodeMessage}\")\n",
    "        print('//////////////////////////////////////////////////////////////////////////////////')\n",
    "        shiftNum = int(input(\"Enter the shift:: \\n\"))\n",
    "        print('//////////////////////////////////////////////////////////////////////////////////')\n",
    "        print(f'Shift Entered: {shiftNum}')\n",
    "        print('//////////////////////////////////////////////////////////////////////////////////')\n",
    "        if shiftNum == 25:\n",
    "            print('Invalid shift, please choose again. ')\n",
    "            print('//////////////////////////////////////////////////////////////////////////////////')\n",
    "            shiftNum = int(input('Enter a different number: \\n'))\n",
    "            print('//////////////////////////////////////////////////////////////////////////////////')\n",
    "            print(f'Shift Entered: {shiftNum}')\n",
    "        initDecode = decoder(decodeMessage, shiftNum)\n",
    "        print('----------------------------------------------------------------------------------')\n",
    "        return print(f'This is your coded message:: {initDecode}\\n----------------------------------------------------------------------------------')\n",
    "    else:\n",
    "        toCode = input('Enter message to code:: ')\n",
    "        print('//////////////////////////////////////////////////////////////////////////////////')\n",
    "        print(f\"Message Recieved: {toCode}\")\n",
    "        print('//////////////////////////////////////////////////////////////////////////////////')\n",
    "        shiftNum = int(input('Enter the shift:'))\n",
    "        print('//////////////////////////////////////////////////////////////////////////////////')\n",
    "        print(f'Shift Entered: {shiftNum}')\n",
    "        print('//////////////////////////////////////////////////////////////////////////////////')\n",
    "        if shiftNum == 25:\n",
    "            print('Invalid shift, please choose again. ')\n",
    "            print('//////////////////////////////////////////////////////////////////////////////////')\n",
    "            shiftNum = int(input('Enter a different number: '))\n",
    "            print('//////////////////////////////////////////////////////////////////////////////////')\n",
    "            print(f'Shift Entered: {shiftNum}')\n",
    "        print('----------------------------------------------------------------------------------')\n",
    "        return print(f'This is your coded message:: {caesar(toCode, shiftNum)}\\n----------------------------------------------------------------------------------')\n",
    "        "
   ]
  },
  {
   "cell_type": "code",
   "execution_count": null,
   "metadata": {},
   "outputs": [],
   "source": [
    "askInput()"
   ]
  },
  {
   "cell_type": "code",
   "execution_count": null,
   "metadata": {},
   "outputs": [],
   "source": []
  }
 ],
 "metadata": {
  "kernelspec": {
   "display_name": "Python 3",
   "language": "python",
   "name": "python3"
  },
  "language_info": {
   "codemirror_mode": {
    "name": "ipython",
    "version": 3
   },
   "file_extension": ".py",
   "mimetype": "text/x-python",
   "name": "python",
   "nbconvert_exporter": "python",
   "pygments_lexer": "ipython3",
   "version": "3.7.7"
  }
 },
 "nbformat": 4,
 "nbformat_minor": 4
}
