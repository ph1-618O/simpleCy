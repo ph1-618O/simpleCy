{
 "cells": [
  {
   "cell_type": "markdown",
   "metadata": {},
   "source": [
    "# cipherTwo\n",
    "- cipherTwo will expand on caesar.py incorporating a vignere cipher and options to search for words within the text to allow for punctuation and proper spacing. "
   ]
  },
  {
   "cell_type": "code",
   "execution_count": null,
   "metadata": {},
   "outputs": [],
   "source": [
    "# def decoder(coded, shift):\n",
    "#     decoded = []\n",
    "#     for char in coded:\n",
    "#         if char.isalpha():\n",
    "#             char = char.lower()\n",
    "#             limitAlpha = ord(char) - shift\n",
    "#             if (limitAlpha < ord('a')) :\n",
    "#                 backshift = ord('a') - limitAlpha\n",
    "#                 backshift = ord('z') - backshift\n",
    "#                 backshift = chr(backshift)\n",
    "#                 #print(f'Backshift : {backshift}')\n",
    "#                 decoded.append(backshift)\n",
    "#             else:\n",
    "#                 decoded.append(chr(limitAlpha))\n",
    "#     return ''.join(decoded)"
   ]
  },
  {
   "cell_type": "markdown",
   "metadata": {},
   "source": [
    "# <! Notes\n",
    "- add isupper conditional, save location of isupper == true, upon joining list return indexes of isupper to \n",
    "uppercase\n",
    "- create a switch case statment for isalpha, isspace, isnumeric, is specialchar\n",
    "- create a nums cipher rotation +||- shift\n",
    "- create a punc cipher rotation +||- shift\n",
    "- upon joining list add spaces back in at spacesIdx locations\n",
    "- ordinal nums for punc begin with ord('!') = 33, ord('~') = 126\n",
    "- ordinal nums for numbers begin with ord('0') = 48 to ord('9') = 57, make sure to convert to str"
   ]
  },
  {
   "cell_type": "markdown",
   "metadata": {},
   "source": [
    "# Variables\n",
    "- Global variables for manipulation"
   ]
  },
  {
   "cell_type": "code",
   "execution_count": null,
   "metadata": {},
   "outputs": [],
   "source": [
    "strs = \"vhfinmxkl atox kxgwxkxw tee hy maxlx hew vbiaxkl tl hulhexmx. px'ee atox mh kxteer lmxi ni hnk ztfx by px ptgm mh dxxi hnk fxlltzxl ltyx.\""
   ]
  },
  {
   "cell_type": "code",
   "execution_count": null,
   "metadata": {},
   "outputs": [],
   "source": [
    "squishedStr = \"computershaverenderedalloftheseoldciphersasobsoletewellhavetoreallystepupourgameifwewanttokeepourmessagessafe\""
   ]
  },
  {
   "cell_type": "code",
   "execution_count": null,
   "metadata": {},
   "outputs": [],
   "source": [
    "#Adds a space to the end of the list\n",
    "if strs[(len(strs)-1)] != ' ':\n",
    "    strs = list(strs)\n",
    "    strs.append(' ')\n",
    "newStr = ''\n",
    "for ele in strs:\n",
    "    newStr += ele\n",
    "strs = newStr"
   ]
  },
  {
   "cell_type": "markdown",
   "metadata": {},
   "source": [
    "# Working\n",
    "- write function to find the ordinal num for punctuation/special char in strs\n",
    "- find the index location of the ordinal num\n",
    "- return the correct punctuation/special chars to proper idx"
   ]
  },
  {
   "cell_type": "code",
   "execution_count": null,
   "metadata": {},
   "outputs": [],
   "source": [
    "#Find punctuation and special chars\n",
    "i = 0\n",
    "spaceCounter = 0\n",
    "while i < len(strs):\n",
    "    if strs[i] == '.':\n",
    "        print(f'there is a period at {i}')\n",
    "        i += 1\n",
    "    elif strs[i] == \"'\" :\n",
    "        print(f' apostraphy at {i}')\n",
    "        i += 1\n",
    "    elif (i < 60) & (strs[i] == ' '):\n",
    "        spaceCounter+= 1\n",
    "        i += 1\n",
    "    else:\n",
    "        i += 1\n",
    "print(spaceCounter)"
   ]
  },
  {
   "cell_type": "code",
   "execution_count": null,
   "metadata": {},
   "outputs": [],
   "source": [
    "squishedStr = list(squishedStr)\n",
    "squishedStr.insert(51,'.')\n",
    "squishedStr.insert(137, '.')\n",
    "squishedStr.insert(63-9, \"'\")\n",
    "squishedStr = ''.join(squishedStr)\n",
    "squishedStr"
   ]
  },
  {
   "cell_type": "code",
   "execution_count": null,
   "metadata": {},
   "outputs": [],
   "source": [
    "i = 0\n",
    "while i < len(squishedStr):\n",
    "    if strs[i] == '.':\n",
    "        print(i)\n",
    "        i += 1\n",
    "    else:\n",
    "        i += 1"
   ]
  },
  {
   "cell_type": "code",
   "execution_count": null,
   "metadata": {},
   "outputs": [],
   "source": [
    "dirtyNumerals = \"\"\"1st – first\n",
    "2nd – second\n",
    "3rd – third\n",
    "4th – fourth\n",
    "5th – fifth\n",
    "6th – sixth\n",
    "7th – seventh\n",
    "8th – eighth\n",
    "9th – ninth\n",
    "10th – tenth\n",
    "11th – eleventh\n",
    "12th – twelfth\n",
    "13th – thirteenth\n",
    "14th – fourteenth\n",
    "15th – fifteenth\n",
    "16th – sixteenth\n",
    "17th – seventeenth\n",
    "18th – eighteenth\n",
    "19th – nineteenth\n",
    "20th – twentieth\n",
    "21st – twenty-first\n",
    "22nd – twenty-second\n",
    "23rd – twenty-third\n",
    "24th – twenty-fourth\n",
    "25th – twenty-fifth\n",
    "26th – twenty-sixth\"\"\""
   ]
  },
  {
   "cell_type": "code",
   "execution_count": null,
   "metadata": {},
   "outputs": [],
   "source": [
    "#Cleaning dirtyNumerals\n",
    "#making oridinals list for globals(i)\n",
    "removeChars = ['–', '\\n']\n",
    "for i in removeChars:\n",
    "    dirtyNumerals = dirtyNumerals.replace(i, ' ')\n",
    "dirtyNumerals = dirtyNumerals.split(\" \")"
   ]
  },
  {
   "cell_type": "code",
   "execution_count": null,
   "metadata": {},
   "outputs": [],
   "source": [
    "emptyIdx = []\n",
    "i = 0\n",
    "for j in dirtyNumerals:\n",
    "    if j == '':\n",
    "        emptyIdx.append(dirtyNumerals.index('', i))\n",
    "        i += 1\n",
    "    else:\n",
    "        i += 1"
   ]
  },
  {
   "cell_type": "code",
   "execution_count": null,
   "metadata": {},
   "outputs": [],
   "source": [
    "#prints all elements inline with a comma\n",
    "def printInline(toPrint):\n",
    "    for i in toPrint:\n",
    "        print(str(i) + ', ', end = \" \")"
   ]
  },
  {
   "cell_type": "code",
   "execution_count": null,
   "metadata": {},
   "outputs": [],
   "source": [
    "printInline(emptyIdx)"
   ]
  },
  {
   "cell_type": "code",
   "execution_count": null,
   "metadata": {},
   "outputs": [],
   "source": [
    "#printInline(dirtyNumerals)"
   ]
  },
  {
   "cell_type": "code",
   "execution_count": null,
   "metadata": {},
   "outputs": [],
   "source": [
    "def removeSpaces(listName):\n",
    "    filterLambda = filter(lambda x: x != '', listName)\n",
    "    cleanList = list(filterLambda)\n",
    "    return cleanList"
   ]
  },
  {
   "cell_type": "code",
   "execution_count": null,
   "metadata": {},
   "outputs": [],
   "source": [
    "cleanNumerals = removeSpaces(dirtyNumerals)\n",
    "print(cleanNumerals)"
   ]
  },
  {
   "cell_type": "code",
   "execution_count": null,
   "metadata": {},
   "outputs": [],
   "source": [
    "#Globals[]i can not use variables that start with nums\n",
    "#Setting up string list of numbers to match and remove to get word numerals list\n",
    "strNums = []\n",
    "for i in range(10):\n",
    "    strNums.append(str(i))"
   ]
  },
  {
   "cell_type": "code",
   "execution_count": null,
   "metadata": {},
   "outputs": [],
   "source": [
    "#Creating a function to get the matches\n",
    "#Remove matching values and returns a tuple of two lists, one of matches, one unmatched\n",
    "def getMatching(list1, list2):\n",
    "    list2 = tuple(list2)\n",
    "    matches = [item for item in list1 if item.startswith(list2)]\n",
    "    unmatched = list(list1)\n",
    "    #print(matches)\n",
    "    #print(unmatched)\n",
    "    n = 0\n",
    "    while n < len(unmatched):\n",
    "        for match in matches:\n",
    "            if unmatched[n] == match:\n",
    "                unmatched.remove(unmatched[n])\n",
    "                n+=1\n",
    "            else:\n",
    "                n+=1\n",
    "    return matches, unmatched"
   ]
  },
  {
   "cell_type": "code",
   "execution_count": null,
   "metadata": {},
   "outputs": [],
   "source": [
    "twoReturns = (getMatching(cleanNumerals, strNums))\n",
    "print(twoReturns[1])"
   ]
  },
  {
   "cell_type": "code",
   "execution_count": 5,
   "metadata": {},
   "outputs": [],
   "source": [
    "def getOrdinalsList(chrType, begin, end):\n",
    "    ordList = []\n",
    "    for i in range(begin, end):\n",
    "        ordList.append(i)\n",
    "    #print(ordList)\n",
    "    #print(type(ordList[0]))\n",
    "    print(f'The {chrType} ASCII begins with the number: {ordList[-len(ordList)]},'\\\n",
    "          + f' and the {chrType}: {chr(ordList[-len(ordList)])}')\n",
    "    print(f'Negative len: {-len(ordList)}')\n",
    "    print(f'End of list idx: {len(ordList)-1}')\n",
    "    print(f'The {chrType} ASCII ends with the number: {ordList[len(ordList)-1]},'\\\n",
    "          + f' and the {chrType}: {chr(ordList[len(ordList)-1])}')\n",
    "    return ordList"
   ]
  },
  {
   "cell_type": "code",
   "execution_count": null,
   "metadata": {},
   "outputs": [],
   "source": [
    "# print(chr(33))\n",
    "# print(chr(126))"
   ]
  },
  {
   "cell_type": "code",
   "execution_count": null,
   "metadata": {},
   "outputs": [],
   "source": [
    "alphaLowerList = getOrdinals('Alpha')"
   ]
  },
  {
   "cell_type": "code",
   "execution_count": 25,
   "metadata": {},
   "outputs": [],
   "source": [
    "#Symbol Ordinals\n",
    "# for i in range(33, 48):\n",
    "#     print(chr(i))\n",
    "# for i in range(58, 65):\n",
    "#     print(chr(i))\n",
    "# for i in range(91, 97):\n",
    "#     print(chr(i))\n",
    "# for i in range(123, 126):\n",
    "#     print(chr(i))"
   ]
  },
  {
   "cell_type": "code",
   "execution_count": 26,
   "metadata": {},
   "outputs": [],
   "source": [
    "# #Number Ordinals\n",
    "# for i in range(48, 58):\n",
    "#     print(chr(i))"
   ]
  },
  {
   "cell_type": "code",
   "execution_count": 22,
   "metadata": {},
   "outputs": [],
   "source": [
    "#Upper Alpha Ordinals\n",
    "# for i in range(65, 91):\n",
    "#     print(chr(i))"
   ]
  },
  {
   "cell_type": "code",
   "execution_count": 23,
   "metadata": {},
   "outputs": [],
   "source": [
    "# #Lower Alpha Ordinals\n",
    "# for i in range(97, 123):\n",
    "#     print(chr(i))"
   ]
  },
  {
   "cell_type": "code",
   "execution_count": 13,
   "metadata": {},
   "outputs": [],
   "source": [
    "symbolNumDict = {\n",
    "    '33':48,\n",
    "    '58':65,\n",
    "    '91':97,\n",
    "    '123':126\n",
    "}"
   ]
  },
  {
   "cell_type": "code",
   "execution_count": 27,
   "metadata": {},
   "outputs": [
    {
     "name": "stdout",
     "output_type": "stream",
     "text": [
      "The Symbol ASCII begins with the number: 33, and the Symbol: !\n",
      "Negative len: -15\n",
      "End of list idx: 14\n",
      "The Symbol ASCII ends with the number: 47, and the Symbol: /\n",
      "The Symbol ASCII begins with the number: 58, and the Symbol: :\n",
      "Negative len: -7\n",
      "End of list idx: 6\n",
      "The Symbol ASCII ends with the number: 64, and the Symbol: @\n",
      "The Symbol ASCII begins with the number: 91, and the Symbol: [\n",
      "Negative len: -6\n",
      "End of list idx: 5\n",
      "The Symbol ASCII ends with the number: 96, and the Symbol: `\n",
      "The Symbol ASCII begins with the number: 123, and the Symbol: {\n",
      "Negative len: -3\n",
      "End of list idx: 2\n",
      "The Symbol ASCII ends with the number: 125, and the Symbol: }\n"
     ]
    }
   ],
   "source": [
    "#Patching together all the Ordinal Numeral Locations of Symbols\n",
    "symbolList2 = []\n",
    "for key, value in symbolNumDict.items():\n",
    "    symbolList2.append(getOrdinalsList('Symbol', int(key), value))\n",
    "symbolList2\n",
    "symbolList = []\n",
    "for i in symbolList2:\n",
    "    for j in i:\n",
    "        symbolList.append(j)\n",
    "#symbolList"
   ]
  },
  {
   "cell_type": "code",
   "execution_count": null,
   "metadata": {},
   "outputs": [],
   "source": [
    "# symbolList = getOrdinalsList('Symbol', 33, 127)\n",
    "# print(symbolList)"
   ]
  },
  {
   "cell_type": "code",
   "execution_count": null,
   "metadata": {},
   "outputs": [],
   "source": [
    "# print(chr(48))\n",
    "# print(chr(57))"
   ]
  },
  {
   "cell_type": "code",
   "execution_count": null,
   "metadata": {},
   "outputs": [],
   "source": [
    "numsList = getOrdinalsList('Number', 48, 58)\n",
    "print(numsList)"
   ]
  },
  {
   "cell_type": "markdown",
   "metadata": {},
   "source": [
    "# Functions\n",
    "- preset functions to be used later"
   ]
  },
  {
   "cell_type": "code",
   "execution_count": null,
   "metadata": {},
   "outputs": [],
   "source": [
    "import pandas as pd"
   ]
  },
  {
   "cell_type": "code",
   "execution_count": null,
   "metadata": {},
   "outputs": [],
   "source": [
    "codedMessage = strs"
   ]
  },
  {
   "cell_type": "code",
   "execution_count": null,
   "metadata": {},
   "outputs": [],
   "source": [
    "for k in output:\n",
    "    splitStrs = k.split(\" \")\n",
    "    #print(splitStrs)\n",
    "    wordLength = []\n",
    "    for i in splitStrs:\n",
    "        wordLength.append(len(i))\n",
    "        #print(f'{i}, Length:{len(i)}')\n",
    "    #wordLength\n",
    "    wordNums = {}\n",
    "    strsList = strs.split(\" \")\n",
    "    for key in strsList:\n",
    "        for value in wordLength:\n",
    "            wordNums[key] = value\n",
    "            wordLength.remove(value)\n",
    "            break\n",
    "    firstFrame = pd.DataFrame.from_dict(wordNums, orient=\"index\")\n",
    "    firstFrame = firstFrame.reset_index()\n",
    "    fristFrame = firstFrame.rename(columns={'index':'coded', '0':'len'})\n",
    "    firstFrame"
   ]
  },
  {
   "cell_type": "code",
   "execution_count": null,
   "metadata": {},
   "outputs": [],
   "source": []
  },
  {
   "cell_type": "code",
   "execution_count": null,
   "metadata": {},
   "outputs": [],
   "source": [
    "splitStrs = strs.split(\" \")\n",
    "#print(splitStrs)\n",
    "wordLength = []\n",
    "for i in splitStrs:\n",
    "    wordLength.append(len(i))\n",
    "    #print(f'{i}, Length:{len(i)}')\n",
    "#wordLength"
   ]
  },
  {
   "cell_type": "code",
   "execution_count": null,
   "metadata": {},
   "outputs": [],
   "source": [
    "#Making the first dataFrame to compare all 26 options returned from brutCaesar\n",
    "wordNums = {}\n",
    "strsList = strs.split(\" \")\n",
    "for key in strsList:\n",
    "    for value in wordLength:\n",
    "        wordNums[key] = value\n",
    "        wordLength.remove(value)\n",
    "        break\n",
    "firstFrame = pd.DataFrame.from_dict(wordNums, orient=\"index\")\n",
    "firstFrame = firstFrame.reset_index()\n",
    "fristFrame = firstFrame.rename(columns={'index':'coded', '0':'len'})\n",
    "firstFrame"
   ]
  },
  {
   "cell_type": "code",
   "execution_count": null,
   "metadata": {},
   "outputs": [],
   "source": [
    "print(squishedStr)"
   ]
  },
  {
   "cell_type": "code",
   "execution_count": null,
   "metadata": {},
   "outputs": [],
   "source": [
    "spacesList = [loc for loc, space in enumerate(strs) if space == ' ']\n",
    "print(spacesList)"
   ]
  },
  {
   "cell_type": "markdown",
   "metadata": {},
   "source": [
    "# Working\n",
    "- putting spaces back into string\n",
    "- missing last string 'safe'...\n",
    "- debug\n",
    "- additionally turn this into a function"
   ]
  },
  {
   "cell_type": "code",
   "execution_count": null,
   "metadata": {},
   "outputs": [],
   "source": [
    "def addSpaces(spacesList, squishedStr):\n",
    "    withSpaces1 = []\n",
    "    ctr = 0\n",
    "    for i in spacesList:\n",
    "        add = ' '\n",
    "        index = i - ctr\n",
    "        if ctr == 25:\n",
    "            withSpaces1.append(squishedStr[:index+1] + add)\n",
    "            ctr += 1\n",
    "        else:\n",
    "            withSpaces1.append(squishedStr[:index] + add)\n",
    "            ctr += 1\n",
    "    newList = []\n",
    "    counter = 0\n",
    "    for i in withSpaces1:\n",
    "        lastI =  len(withSpaces1)\n",
    "        if len(i) > len(withSpaces1[0]):\n",
    "            sliceNum = len(withSpaces1[counter]) - len(withSpaces1[counter - 1])\n",
    "            newList.append(withSpaces1[counter][-sliceNum-1:])\n",
    "            counter += 1\n",
    "        else: \n",
    "            newList.append(i)\n",
    "            counter += 1\n",
    "    return newList"
   ]
  },
  {
   "cell_type": "code",
   "execution_count": null,
   "metadata": {},
   "outputs": [],
   "source": [
    "withSpaces = addSpaces(spacesList, squishedStr)\n",
    "print(withSpaces)"
   ]
  },
  {
   "cell_type": "code",
   "execution_count": null,
   "metadata": {},
   "outputs": [],
   "source": [
    "# #Creates list and inserts spaces at correct index\n",
    "# withSpaces1 = []\n",
    "# ctr = 0\n",
    "# for i in spacesList:\n",
    "#     add = ' '\n",
    "#     index = i - ctr\n",
    "#     #print(f'I-ctr: {i} - {ctr}, Idx: {index}, {squishedStr[:index]}')\n",
    "#     if ctr == 25:\n",
    "#         withSpaces1.append(squishedStr[:index+1] + add)\n",
    "#         ctr += 1\n",
    "#     else:\n",
    "#         withSpaces1.append(squishedStr[:index] + add)\n",
    "#         ctr += 1\n",
    "# newList = []\n",
    "# counter = 0\n",
    "# for i in withSpaces1:\n",
    "#     lastI =  len(withSpaces1)\n",
    "#     if len(i) > len(withSpaces1[0]):\n",
    "#         sliceNum = len(withSpaces1[counter]) - len(withSpaces1[counter - 1])\n",
    "#         #print(sliceNum)\n",
    "#         newList.append(withSpaces1[counter][-sliceNum-1:])\n",
    "#         counter += 1\n",
    "#     #elif i == len(withSpaces1):\n",
    "#         #newList.append(i )\n",
    "#     else: \n",
    "#         newList.append(i)\n",
    "#         counter += 1\n",
    "# newList"
   ]
  },
  {
   "cell_type": "code",
   "execution_count": null,
   "metadata": {},
   "outputs": [],
   "source": [
    "#Working code\n",
    "newList = []\n",
    "counter = 0\n",
    "for i in withSpaces:\n",
    "    lastI =  len(withSpaces)\n",
    "    if len(i) > len(withSpaces[0]):\n",
    "        sliceNum = len(withSpaces[counter]) - len(withSpaces[counter - 1])\n",
    "        #print(sliceNum)\n",
    "        newList.append(withSpaces[counter][-sliceNum-1:])\n",
    "        counter += 1\n",
    "    #elif i == len(withSpaces1):\n",
    "        #newList.append(i )\n",
    "    else: \n",
    "        newList.append(i)\n",
    "        counter += 1\n",
    "newList\n",
    "        "
   ]
  },
  {
   "cell_type": "code",
   "execution_count": null,
   "metadata": {},
   "outputs": [],
   "source": [
    "spacesList = []\n",
    "i = 0\n",
    "for j in strs:\n",
    "    if j == ' ':\n",
    "        spacesList.append(strs.index(' ', i))\n",
    "        i += 1\n",
    "    else:\n",
    "        i += 1"
   ]
  },
  {
   "cell_type": "code",
   "execution_count": null,
   "metadata": {},
   "outputs": [],
   "source": [
    "printInline(spacesList)"
   ]
  },
  {
   "cell_type": "code",
   "execution_count": null,
   "metadata": {},
   "outputs": [],
   "source": [
    "#prints all elements inline with a comma\n",
    "def printInline(toPrint):\n",
    "    for i in toPrint:\n",
    "        print(str(i) + ', ', end = \" \")"
   ]
  },
  {
   "cell_type": "code",
   "execution_count": null,
   "metadata": {},
   "outputs": [],
   "source": [
    "#making index list of space locations\n",
    "def locatingSpaces(message):\n",
    "    spacesList = []\n",
    "    counter = 0\n",
    "    for i in message:\n",
    "        if i == ' ':\n",
    "            spacesList.append(counter)\n",
    "            counter += 1\n",
    "        else:\n",
    "            counter += 1\n",
    "    return spacesList"
   ]
  },
  {
   "cell_type": "code",
   "execution_count": null,
   "metadata": {},
   "outputs": [],
   "source": [
    "#Calls locatedSpaces to make a list of index nums where spaces\n",
    "locatedSpaces = locatingSpaces(strs)\n",
    "printInline(locatedSpaces)"
   ]
  },
  {
   "cell_type": "markdown",
   "metadata": {},
   "source": [
    "# Working"
   ]
  },
  {
   "cell_type": "markdown",
   "metadata": {},
   "source": [
    "# Next\n",
    "- pattern match the 1 in 1st etc to 26th and remove those values\n",
    "- maybe use try and accept.. or create a list of strs 1 - 26 and match on that\n",
    "- making newGlobals to hold the 26 strings that the vignere cipher will output"
   ]
  },
  {
   "cell_type": "code",
   "execution_count": null,
   "metadata": {},
   "outputs": [],
   "source": [
    "# Symbols Location in ASCII\n",
    "# ord('!') = 33, ord('~') = 126\n",
    "printInline(symbolList)"
   ]
  },
  {
   "cell_type": "code",
   "execution_count": null,
   "metadata": {},
   "outputs": [],
   "source": [
    "# #Incomplete\n",
    "# def findSpecialChar(string):\n",
    "#     for i in string:\n",
    "#         if i == chr(j):\n"
   ]
  },
  {
   "cell_type": "code",
   "execution_count": null,
   "metadata": {},
   "outputs": [],
   "source": [
    "# Numbers location in ASCII\n",
    "# ord('0') = 48, ord('9') = 57\n",
    "printInline(numsList)"
   ]
  },
  {
   "cell_type": "code",
   "execution_count": null,
   "metadata": {},
   "outputs": [],
   "source": [
    "# def findNumbers(string):"
   ]
  },
  {
   "cell_type": "code",
   "execution_count": null,
   "metadata": {},
   "outputs": [],
   "source": [
    "#int('s')"
   ]
  },
  {
   "cell_type": "code",
   "execution_count": null,
   "metadata": {},
   "outputs": [],
   "source": [
    "# newGlobals = ordList\n",
    "# for i in ordList:\n",
    "#     newGlobals = []\n",
    "#     #can do some homogenized code to all elements in list here\n",
    "#     globals()[i] = newGlobals"
   ]
  },
  {
   "cell_type": "code",
   "execution_count": null,
   "metadata": {},
   "outputs": [],
   "source": [
    "# strs = \"vhfinmxkl atox kxgwxkxw tee hy maxlx hew vbiaxkl tl hulhexmx. px'ee atox mh kxteer lmxi ni hnk ztfx by px ptgm mh dxxi hnk fxlltzxl ltyx.\"\n",
    "# alpha = \"abcdefghijklmnopqrstuvwxyz\"\n",
    "# def eTuBrute(message, offset):\n",
    "#     def eTuBrute(message, offset):\n",
    "#         cipher_text = \"\"\n",
    "#         for char in message:\n",
    "#             if char.isalpha():\n",
    "#                 stay_in_alpha = ord(char) + offset\n",
    "#                 if stay_in_alpha > ord('z'):\n",
    "#                     stay_in_alpha -= 26\n",
    "#                 final_letter = chr(stay_in_alpha)\n",
    "#                 cipher_text += final_letter           \n",
    "#         return cipher_text\n",
    "\n",
    "#     for i in range(26):\n",
    "#         print(str(i))\n",
    "#         print(\"\\t \" + eTuBrute(strs, i) + \"\\n\")"
   ]
  },
  {
   "cell_type": "code",
   "execution_count": null,
   "metadata": {},
   "outputs": [],
   "source": [
    "strs.index(' ', 0, len(strs))"
   ]
  },
  {
   "cell_type": "code",
   "execution_count": null,
   "metadata": {},
   "outputs": [],
   "source": [
    "#Finds the Index location of the inputted string\n",
    "def spacesIndex(strs):\n",
    "    spacesList = []\n",
    "    counter = 0\n",
    "    spacesList.append(strs.index(' ', 0, len(strs)))\n",
    "    for i in strs:\n",
    "        if i == ' ':\n",
    "            spacesList.append(counter - 1)\n",
    "            #print(f'Before adding in If: {(counter - 1)}')\n",
    "            counter += 1\n",
    "        else:\n",
    "            #print(f'Before adding in Else: {counter}')\n",
    "            counter += 1 \n",
    "    return spacesList[:len(spacesList)]"
   ]
  },
  {
   "cell_type": "code",
   "execution_count": null,
   "metadata": {},
   "outputs": [],
   "source": [
    "withSpaces = spacesIndex(strs)\n",
    "printInline(withSpaces)"
   ]
  },
  {
   "cell_type": "code",
   "execution_count": null,
   "metadata": {},
   "outputs": [],
   "source": [
    "del withSpaces[1:2]"
   ]
  },
  {
   "cell_type": "code",
   "execution_count": null,
   "metadata": {},
   "outputs": [],
   "source": [
    "printInline(withSpaces)"
   ]
  },
  {
   "cell_type": "code",
   "execution_count": null,
   "metadata": {},
   "outputs": [],
   "source": [
    "print(squishedStr)"
   ]
  },
  {
   "cell_type": "code",
   "execution_count": null,
   "metadata": {},
   "outputs": [],
   "source": [
    "def addingSpaces(string, integer):\n",
    "    return string[0:integer] + ' ' #+ string[integer:]"
   ]
  },
  {
   "cell_type": "code",
   "execution_count": null,
   "metadata": {},
   "outputs": [],
   "source": [
    "# for i in withSpaces:\n",
    "#     print(addingSpaces(squishedStr, i))"
   ]
  },
  {
   "cell_type": "code",
   "execution_count": null,
   "metadata": {},
   "outputs": [],
   "source": [
    "printInline(locatedSpaces)"
   ]
  },
  {
   "cell_type": "code",
   "execution_count": null,
   "metadata": {},
   "outputs": [],
   "source": [
    "for i in locatedSpaces:\n",
    "    wrongList = addingSpaces(squishedStr, i)\n",
    "#prints computers \n",
    "#computershaver \n",
    "#computershaverenderedal..."
   ]
  },
  {
   "cell_type": "code",
   "execution_count": null,
   "metadata": {},
   "outputs": [],
   "source": []
  },
  {
   "cell_type": "code",
   "execution_count": null,
   "metadata": {},
   "outputs": [],
   "source": [
    "# squishedStr = \"computershaverenderedalloftheseoldciphersasobsoletewellhavetoreallystepupourgameifwewanttokeepourmessagessafe\"\n",
    "\n",
    "# withSpaces = []\n",
    "# for i in emptyIdx:\n",
    "#     withSpaces.append(addingSpaces(squishedStr, i))\n",
    "# withSpaces"
   ]
  },
  {
   "cell_type": "markdown",
   "metadata": {},
   "source": [
    "# Cipher Functions\n",
    "- Three Caesar functions:\n",
    "    - eTuBrute is a brute force Casesar decoder\n",
    "    - Caesar is a caesar coder\n",
    "    - decoder is a caesar decoder\n"
   ]
  },
  {
   "cell_type": "code",
   "execution_count": null,
   "metadata": {},
   "outputs": [],
   "source": [
    "# def eTuBrute():\n",
    "#     if codedMessage:\n",
    "#         strs = codedMessage\n",
    "#     else:\n",
    "#         strs = input(\"What is the Coded Message?\\n\")\n",
    "#     #offset = input(\"What is the offset?\")\n",
    "#     #alpha = \"abcdefghijklmnopqrstuvwxyz\"\n",
    "#     def decodeString(message, offset):\n",
    "#         emptyIdx = []\n",
    "#         i = 0\n",
    "#         for j in dirtyOrds:\n",
    "#             if j == '':\n",
    "#                 emptyIdx.append(message.index('', i))\n",
    "#                 i += 1\n",
    "#         else:\n",
    "#             i += 1\n",
    "#         cipher_text = \"\"\n",
    "#         for char in message:\n",
    "#             if char.isalpha():\n",
    "#                 stay_in_alpha = ord(char) + offset\n",
    "#                 if stay_in_alpha > ord('z'):\n",
    "#                     stay_in_alpha -= 26\n",
    "#                 final_letter = chr(stay_in_alpha)\n",
    "#                 cipher_text += final_letter\n",
    "        \n",
    "#         return cipher_text\n",
    "#     for i in range(26):\n",
    "#         print(str(i))\n",
    "        \n",
    "#         print(\"\\t \" + decodeString(strs, i) + \"\\n\")\n",
    "# eTuBrute()"
   ]
  },
  {
   "cell_type": "code",
   "execution_count": null,
   "metadata": {},
   "outputs": [],
   "source": [
    "def eTuBrute(message, offset):\n",
    "    if bool(message) == True & bool(offset) == True:\n",
    "        cipher_text = \"\"\n",
    "        for char in message:\n",
    "            if char.isalpha():\n",
    "                stay_in_alpha = ord(char) + offset\n",
    "                if stay_in_alpha > ord('z'):\n",
    "                    stay_in_alpha -= 26\n",
    "                final_letter = chr(stay_in_alpha)\n",
    "                cipher_text += final_letter           \n",
    "        return cipher_text\n",
    "    else:\n",
    "        strs = input(\"What is the Coded Message?\\n\")\n",
    "        offset = input(\"What is the offset?\")\n",
    "        for char in message:\n",
    "            if char.isalpha():\n",
    "                stay_in_alpha = ord(char) + offset\n",
    "                if stay_in_alpha > ord('z'):\n",
    "                    stay_in_alpha -= 26\n",
    "                final_letter = chr(stay_in_alpha)\n",
    "                cipher_text += final_letter           \n",
    "        return cipher_text\n",
    "\n",
    "for i in range(26):\n",
    "    print(str(i))\n",
    "    print(\"\\t \" + eTuBrute(strs, i) + \"\\n\")"
   ]
  },
  {
   "cell_type": "code",
   "execution_count": null,
   "metadata": {},
   "outputs": [],
   "source": [
    "strs = \"vhfinmxkl atox kxgwxkxw tee hy maxlx hew vbiaxkl tl hulhexmx. px'ee atox mh kxteer lmxi ni hnk ztfx by px ptgm mh dxxi hnk fxlltzxl ltyx.\"\n",
    "alpha = \"abcdefghijklmnopqrstuvwxyz\"\n",
    "def eTuBrute(message, offset):\n",
    "    cipher_text = \"\"\n",
    "    for char in message:\n",
    "        if char.isalpha():\n",
    "            stay_in_alpha = ord(char) + offset\n",
    "            if stay_in_alpha > ord('z'):\n",
    "                stay_in_alpha -= 26\n",
    "            final_letter = chr(stay_in_alpha)\n",
    "            cipher_text += final_letter           \n",
    "    return cipher_text\n",
    "output = []\n",
    "for i in range(26):\n",
    "    print(str(i))\n",
    "    print(\"\\t \" + eTuBrute(strs, i) + \"\\n\")\n",
    "    output.append(eTuBrute(strs, i))"
   ]
  },
  {
   "cell_type": "code",
   "execution_count": null,
   "metadata": {},
   "outputs": [],
   "source": [
    "#output"
   ]
  },
  {
   "cell_type": "code",
   "execution_count": null,
   "metadata": {},
   "outputs": [],
   "source": [
    "columnList = []\n",
    "for k in range(len(output)):\n",
    "    holdingVar = (str(k))\n",
    "    columnList.append(holdingVar)"
   ]
  },
  {
   "cell_type": "code",
   "execution_count": null,
   "metadata": {},
   "outputs": [],
   "source": [
    "#Trying to take all the outputs of Brut Caesar and put into dataframe"
   ]
  },
  {
   "cell_type": "code",
   "execution_count": null,
   "metadata": {},
   "outputs": [],
   "source": [
    "for k in output:\n",
    "    for j in columnList:\n",
    "        splitStrs = k.split(\" \")\n",
    "        #print(splitStrs)\n",
    "        wordLength = []\n",
    "        for i in splitStrs:\n",
    "            wordLength.append(len(i))\n",
    "            #print(f'{i}, Length:{len(i)}')\n",
    "        #wordLength\n",
    "        wordNums = {}\n",
    "        strsList = k.split(\" \")\n",
    "        for key in strsList:\n",
    "            for value in wordLength:\n",
    "                wordNums[key] = value\n",
    "                wordLength.remove(value)\n",
    "                break\n",
    "        firstFrame = pd.DataFrame.from_dict(wordNums, orient=\"index\")\n",
    "        firstFrame = firstFrame.reset_index()\n",
    "        firstFrame = firstFrame.rename(columns={'index':'coded', '0':'len'})\n",
    "        firstFrame"
   ]
  },
  {
   "cell_type": "code",
   "execution_count": null,
   "metadata": {},
   "outputs": [],
   "source": [
    "splitStrs = strs.split(\" \")\n",
    "#print(splitStrs)\n",
    "wordLength = []\n",
    "for i in splitStrs:\n",
    "    wordLength.append(len(i))\n",
    "    #print(f'{i}, Length:{len(i)}')\n",
    "#wordLength\n",
    "wordNums = {}\n",
    "strsList = strs.split(\" \")\n",
    "for key in strsList:\n",
    "    for value in wordLength:\n",
    "        wordNums[key] = value\n",
    "        wordLength.remove(value)\n",
    "        break\n",
    "firstFrame = pd.DataFrame.from_dict(wordNums, orient=\"index\")\n",
    "firstFrame = firstFrame.reset_index()\n",
    "firstFrame = firstFrame.rename(columns={'index':'coded', '0':'len'})\n",
    "firstFrame"
   ]
  },
  {
   "cell_type": "code",
   "execution_count": null,
   "metadata": {},
   "outputs": [],
   "source": [
    "firstFrame"
   ]
  },
  {
   "cell_type": "code",
   "execution_count": null,
   "metadata": {},
   "outputs": [],
   "source": [
    "def decoder(coded, shift):\n",
    "    decoded = []\n",
    "    spacesIdx = []\n",
    "    nums = []\n",
    "    puncList = []\n",
    "    specialChar = []\n",
    "    counter = 0\n",
    "    for char in coded:\n",
    "        if char.isalpha():\n",
    "            char = char.lower()\n",
    "            limitAlpha = ord(char) - shift\n",
    "            if (limitAlpha < ord('a')) :\n",
    "                backshift = ord('a') - limitAlpha\n",
    "                backshift = ord('z') - backshift\n",
    "                backshift = chr(backshift)\n",
    "                #print(f'Backshift : {backshift}')\n",
    "                decoded.append(backshift)\n",
    "                counter += 1\n",
    "            else:\n",
    "                decoded.append(chr(limitAlpha))\n",
    "                counter += 1\n",
    "        elif char.isspace():\n",
    "            spacesIdx.append(counter)\n",
    "            print(f'Space index: {spacesIdx}')\n",
    "            counter += 1\n",
    "        elif (str(char)).isnumeric():\n",
    "            nums.append(counter)\n",
    "            #print(char)\n",
    "            #print(f'Number index: {counter}')\n",
    "            counter += 1\n",
    "        else:\n",
    "            print(f'Unknown character: {char}')\n",
    "            puncList.append(char)\n",
    "            counter += 1\n",
    "    return ''.join(decoded), spacesIdx, nums, puncList;"
   ]
  },
  {
   "cell_type": "code",
   "execution_count": null,
   "metadata": {},
   "outputs": [],
   "source": [
    "def caesar(uncoded, shift):\n",
    "    coded = []\n",
    "    for char in uncoded:\n",
    "        if char.isalpha():\n",
    "            char = char.lower()\n",
    "            limitAlpha = ord(char) + shift\n",
    "            if (limitAlpha >= ord('a')) & (limitAlpha <= ord('z')) :\n",
    "                limitAlpha = chr(limitAlpha)\n",
    "                #print(f'LimitAlpha: {limitAlpha}')\n",
    "                coded.append(limitAlpha)\n",
    "            else:\n",
    "                frontShift = ((limitAlpha % ord('z')) % 26) + ord('a')\n",
    "                #print(f'Frontshift: {frontShift}')\n",
    "                coded.append(chr(frontShift))\n",
    "                #coded.append(frontShift)\n",
    "    return ''.join(coded)"
   ]
  },
  {
   "cell_type": "code",
   "execution_count": null,
   "metadata": {},
   "outputs": [],
   "source": [
    "def askInput():\n",
    "    print('//////////////////////////////////////////////////////////////////////////////////')\n",
    "    query = input(\"Decode, or Code? \")\n",
    "    print('//////////////////////////////////////////////////////////////////////////////////')\n",
    "    query = query.lower()\n",
    "    if query == 'decode':\n",
    "        decodeMessage = input(\"Enter coded message:: \")\n",
    "        print('//////////////////////////////////////////////////////////////////////////////////')\n",
    "        print(f\"Message Recieved: {decodeMessage}\")\n",
    "        print('//////////////////////////////////////////////////////////////////////////////////')\n",
    "        shiftNum = int(input(\"Enter the shift:: \\n\"))\n",
    "        print('//////////////////////////////////////////////////////////////////////////////////')\n",
    "        print(f'Shift Entered: {shiftNum}')\n",
    "        print('//////////////////////////////////////////////////////////////////////////////////')\n",
    "        if shiftNum == 25:\n",
    "            print('Invalid shift, please choose again. ')\n",
    "            print('//////////////////////////////////////////////////////////////////////////////////')\n",
    "            shiftNum = int(input('Enter a different number: \\n'))\n",
    "            print('//////////////////////////////////////////////////////////////////////////////////')\n",
    "            print(f'Shift Entered: {shiftNum}')\n",
    "        initDecode = decoder(decodeMessage, shiftNum)\n",
    "        print('----------------------------------------------------------------------------------')\n",
    "        return print(f'This is your coded message:: {initDecode}\\n----------------------------------------------------------------------------------')\n",
    "    else:\n",
    "        toCode = input('Enter message to code:: ')\n",
    "        print('//////////////////////////////////////////////////////////////////////////////////')\n",
    "        print(f\"Message Recieved: {toCode}\")\n",
    "        print('//////////////////////////////////////////////////////////////////////////////////')\n",
    "        shiftNum = int(input('Enter the shift:'))\n",
    "        print('//////////////////////////////////////////////////////////////////////////////////')\n",
    "        print(f'Shift Entered: {shiftNum}')\n",
    "        print('//////////////////////////////////////////////////////////////////////////////////')\n",
    "        if shiftNum == 25:\n",
    "            print('Invalid shift, please choose again. ')\n",
    "            print('//////////////////////////////////////////////////////////////////////////////////')\n",
    "            shiftNum = int(input('Enter a different number: '))\n",
    "            print('//////////////////////////////////////////////////////////////////////////////////')\n",
    "            print(f'Shift Entered: {shiftNum}')\n",
    "        print('----------------------------------------------------------------------------------')\n",
    "        return print(f'This is your coded message:: {caesar(toCode, shiftNum)}\\n----------------------------------------------------------------------------------')\n",
    "        "
   ]
  },
  {
   "cell_type": "code",
   "execution_count": null,
   "metadata": {},
   "outputs": [],
   "source": [
    "askInput()"
   ]
  },
  {
   "cell_type": "code",
   "execution_count": null,
   "metadata": {},
   "outputs": [],
   "source": []
  }
 ],
 "metadata": {
  "kernelspec": {
   "display_name": "Python 3",
   "language": "python",
   "name": "python3"
  },
  "language_info": {
   "codemirror_mode": {
    "name": "ipython",
    "version": 3
   },
   "file_extension": ".py",
   "mimetype": "text/x-python",
   "name": "python",
   "nbconvert_exporter": "python",
   "pygments_lexer": "ipython3",
   "version": "3.7.7"
  }
 },
 "nbformat": 4,
 "nbformat_minor": 4
}
