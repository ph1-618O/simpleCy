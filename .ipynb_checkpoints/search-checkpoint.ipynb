{
 "cells": [
  {
   "cell_type": "markdown",
   "metadata": {},
   "source": [
    "# cipherTwo\n",
    "- cipherTwo will expand on caesar.py incorporating a vignere cipher and options to search for words within the text to allow for punctuation and proper spacing. "
   ]
  },
  {
   "cell_type": "code",
   "execution_count": 1,
   "metadata": {},
   "outputs": [],
   "source": [
    "# def decoder(coded, shift):\n",
    "#     decoded = []\n",
    "#     for char in coded:\n",
    "#         if char.isalpha():\n",
    "#             char = char.lower()\n",
    "#             limitAlpha = ord(char) - shift\n",
    "#             if (limitAlpha < ord('a')) :\n",
    "#                 backshift = ord('a') - limitAlpha\n",
    "#                 backshift = ord('z') - backshift\n",
    "#                 backshift = chr(backshift)\n",
    "#                 #print(f'Backshift : {backshift}')\n",
    "#                 decoded.append(backshift)\n",
    "#             else:\n",
    "#                 decoded.append(chr(limitAlpha))\n",
    "#     return ''.join(decoded)"
   ]
  },
  {
   "cell_type": "markdown",
   "metadata": {},
   "source": [
    "# <! Notes\n",
    "- add isupper conditional, save location of isupper == true, upon joining list return indexes of isupper to \n",
    "uppercase\n",
    "- create a switch case statment for isalpha, isspace, isnumeric, is specialchar\n",
    "- create a nums cipher rotation +||- shift\n",
    "- create a punc cipher rotation +||- shift\n",
    "- upon joining list add spaces back in at spacesIdx locations\n",
    "- ordinal nums for punc begin with ord('!') = 33, ord('~') = 126\n",
    "- ordinal nums for numbers begin with ord('0') = 48 to ord('9') = 57, make sure to convert to str"
   ]
  },
  {
   "cell_type": "markdown",
   "metadata": {},
   "source": [
    "# Variables\n",
    "- Global variables for manipulation"
   ]
  },
  {
   "cell_type": "code",
   "execution_count": 2,
   "metadata": {},
   "outputs": [],
   "source": [
    "strs = \"vhfinmxkl atox kxgwxkxw tee hy maxlx hew vbiaxkl tl hulhexmx. px'ee atox mh kxteer lmxi ni hnk ztfx by px ptgm mh dxxi hnk fxlltzxl ltyx.\""
   ]
  },
  {
   "cell_type": "code",
   "execution_count": 3,
   "metadata": {},
   "outputs": [],
   "source": [
    "squishedStr = \"computershaverenderedalloftheseoldciphersasobsoletewellhavetoreallystepupourgameifwewanttokeepourmessagessafe\""
   ]
  },
  {
   "cell_type": "markdown",
   "metadata": {},
   "source": [
    "# Working\n",
    "- write function to find the ordinal num for punctuation/special char in strs\n",
    "- find the index location of the ordinal num\n",
    "- return the correct punctuation/special chars to proper idx"
   ]
  },
  {
   "cell_type": "code",
   "execution_count": 4,
   "metadata": {},
   "outputs": [
    {
     "name": "stdout",
     "output_type": "stream",
     "text": [
      "there is a period at 60\n",
      " apostraphy at 64\n",
      "there is a period at 136\n",
      "9\n"
     ]
    }
   ],
   "source": [
    "i = 0\n",
    "spaceCounter = 0\n",
    "while i < len(strs):\n",
    "    if strs[i] == '.':\n",
    "        print(f'there is a period at {i}')\n",
    "        i += 1\n",
    "    elif strs[i] == \"'\" :\n",
    "        print(f' apostraphy at {i}')\n",
    "        i += 1\n",
    "    elif (i < 60) & (strs[i] == ' '):\n",
    "        spaceCounter+= 1\n",
    "        i += 1\n",
    "    else:\n",
    "        i += 1\n",
    "print(spaceCounter)"
   ]
  },
  {
   "cell_type": "code",
   "execution_count": 5,
   "metadata": {},
   "outputs": [
    {
     "data": {
      "text/plain": [
       "\"computershaverenderedalloftheseoldciphersasobsolete.we'llhavetoreallystepupourgameifwewanttokeepourmessagessafe.\""
      ]
     },
     "execution_count": 5,
     "metadata": {},
     "output_type": "execute_result"
    }
   ],
   "source": [
    "squishedStr = list(squishedStr)\n",
    "squishedStr.insert(51,'.')\n",
    "squishedStr.insert(137, '.')\n",
    "squishedStr.insert(63-9, \"'\")\n",
    "squishedStr = ''.join(squishedStr)\n",
    "squishedStr"
   ]
  },
  {
   "cell_type": "code",
   "execution_count": 6,
   "metadata": {},
   "outputs": [
    {
     "name": "stdout",
     "output_type": "stream",
     "text": [
      "60\n"
     ]
    }
   ],
   "source": [
    "i = 0\n",
    "while i < len(squishedStr):\n",
    "    if strs[i] == '.':\n",
    "        print(i)\n",
    "        i += 1\n",
    "    else:\n",
    "        i += 1"
   ]
  },
  {
   "cell_type": "code",
   "execution_count": 7,
   "metadata": {},
   "outputs": [],
   "source": [
    "dirtyNumerals = \"\"\"1st – first\n",
    "2nd – second\n",
    "3rd – third\n",
    "4th – fourth\n",
    "5th – fifth\n",
    "6th – sixth\n",
    "7th – seventh\n",
    "8th – eighth\n",
    "9th – ninth\n",
    "10th – tenth\n",
    "11th – eleventh\n",
    "12th – twelfth\n",
    "13th – thirteenth\n",
    "14th – fourteenth\n",
    "15th – fifteenth\n",
    "16th – sixteenth\n",
    "17th – seventeenth\n",
    "18th – eighteenth\n",
    "19th – nineteenth\n",
    "20th – twentieth\n",
    "21st – twenty-first\n",
    "22nd – twenty-second\n",
    "23rd – twenty-third\n",
    "24th – twenty-fourth\n",
    "25th – twenty-fifth\n",
    "26th – twenty-sixth\"\"\""
   ]
  },
  {
   "cell_type": "code",
   "execution_count": 8,
   "metadata": {},
   "outputs": [],
   "source": [
    "#Cleaning dirtyNumerals\n",
    "#making oridinals list for globals(i)\n",
    "removeChars = ['–', '\\n']\n",
    "for i in removeChars:\n",
    "    dirtyNumerals = dirtyNumerals.replace(i, ' ')\n",
    "dirtyNumerals = dirtyNumerals.split(\" \")"
   ]
  },
  {
   "cell_type": "code",
   "execution_count": 9,
   "metadata": {},
   "outputs": [],
   "source": [
    "emptyIdx = []\n",
    "i = 0\n",
    "for j in dirtyNumerals:\n",
    "    if j == '':\n",
    "        emptyIdx.append(dirtyNumerals.index('', i))\n",
    "        i += 1\n",
    "    else:\n",
    "        i += 1"
   ]
  },
  {
   "cell_type": "code",
   "execution_count": 10,
   "metadata": {},
   "outputs": [],
   "source": [
    "#prints all elements inline with a comma\n",
    "def printInline(toPrint):\n",
    "    for i in toPrint:\n",
    "        print(str(i) + ', ', end = \" \")"
   ]
  },
  {
   "cell_type": "code",
   "execution_count": 11,
   "metadata": {},
   "outputs": [
    {
     "name": "stdout",
     "output_type": "stream",
     "text": [
      "1,  2,  5,  6,  9,  10,  13,  14,  17,  18,  21,  22,  25,  26,  29,  30,  33,  34,  37,  38,  41,  42,  45,  46,  49,  50,  53,  54,  57,  58,  61,  62,  65,  66,  69,  70,  73,  74,  77,  78,  81,  82,  85,  86,  89,  90,  93,  94,  97,  98,  101,  102,  "
     ]
    }
   ],
   "source": [
    "printInline(emptyIdx)"
   ]
  },
  {
   "cell_type": "code",
   "execution_count": 12,
   "metadata": {},
   "outputs": [],
   "source": [
    "#printInline(dirtyNumerals)"
   ]
  },
  {
   "cell_type": "code",
   "execution_count": 13,
   "metadata": {},
   "outputs": [],
   "source": [
    "def removeSpaces(listName):\n",
    "    filterLambda = filter(lambda x: x != '', listName)\n",
    "    cleanList = list(filterLambda)\n",
    "    return cleanList"
   ]
  },
  {
   "cell_type": "code",
   "execution_count": 14,
   "metadata": {},
   "outputs": [
    {
     "name": "stdout",
     "output_type": "stream",
     "text": [
      "['1st', 'first', '2nd', 'second', '3rd', 'third', '4th', 'fourth', '5th', 'fifth', '6th', 'sixth', '7th', 'seventh', '8th', 'eighth', '9th', 'ninth', '10th', 'tenth', '11th', 'eleventh', '12th', 'twelfth', '13th', 'thirteenth', '14th', 'fourteenth', '15th', 'fifteenth', '16th', 'sixteenth', '17th', 'seventeenth', '18th', 'eighteenth', '19th', 'nineteenth', '20th', 'twentieth', '21st', 'twenty-first', '22nd', 'twenty-second', '23rd', 'twenty-third', '24th', 'twenty-fourth', '25th', 'twenty-fifth', '26th', 'twenty-sixth']\n"
     ]
    }
   ],
   "source": [
    "cleanNumerals = removeSpaces(dirtyNumerals)\n",
    "print(cleanNumerals)"
   ]
  },
  {
   "cell_type": "code",
   "execution_count": 15,
   "metadata": {},
   "outputs": [],
   "source": [
    "#Globals[]i can not use variables that start with nums\n",
    "#Setting up string list of numbers to match and remove to get word numerals list\n",
    "strNums = []\n",
    "for i in range(10):\n",
    "    strNums.append(str(i))"
   ]
  },
  {
   "cell_type": "code",
   "execution_count": 16,
   "metadata": {},
   "outputs": [],
   "source": [
    "#Creating a function to get the matches\n",
    "#Remove matching values and returns a tuple of two lists, one of matches, one unmatched\n",
    "def getMatching(list1, list2):\n",
    "    list2 = tuple(list2)\n",
    "    matches = [item for item in list1 if item.startswith(list2)]\n",
    "    unmatched = list(list1)\n",
    "    #print(matches)\n",
    "    #print(unmatched)\n",
    "    n = 0\n",
    "    while n < len(unmatched):\n",
    "        for match in matches:\n",
    "            if unmatched[n] == match:\n",
    "                unmatched.remove(unmatched[n])\n",
    "                n+=1\n",
    "            else:\n",
    "                n+=1\n",
    "    return matches, unmatched"
   ]
  },
  {
   "cell_type": "code",
   "execution_count": 17,
   "metadata": {},
   "outputs": [
    {
     "name": "stdout",
     "output_type": "stream",
     "text": [
      "['first', 'second', 'third', 'fourth', 'fifth', 'sixth', 'seventh', 'eighth', 'ninth', 'tenth', 'eleventh', 'twelfth', 'thirteenth', 'fourteenth', 'fifteenth', 'sixteenth', 'seventeenth', 'eighteenth', 'nineteenth', 'twentieth', 'twenty-first', 'twenty-second', 'twenty-third', 'twenty-fourth', 'twenty-fifth', 'twenty-sixth']\n"
     ]
    }
   ],
   "source": [
    "twoReturns = (getMatching(cleanNumerals, strNums))\n",
    "print(twoReturns[1])"
   ]
  },
  {
   "cell_type": "code",
   "execution_count": 18,
   "metadata": {},
   "outputs": [],
   "source": [
    "def getOrdinalsList(chrType, begin, end):\n",
    "    ordList = []\n",
    "    for i in range(begin, end):\n",
    "        ordList.append(i)\n",
    "    #print(ordList)\n",
    "    #print(type(ordList[0]))\n",
    "    print(f'The {chrType} ASCII begins with the number: {ordList[-len(ordList)]},'\\\n",
    "          + f' and the {chrType}: {chr(ordList[-len(ordList)])}')\n",
    "    print(f'Negative len: {-len(ordList)}')\n",
    "    print(f'End of list idx: {len(ordList)-1}')\n",
    "    print(f'The {chrType} ASCII ends with the number: {ordList[len(ordList)-1]},'\\\n",
    "          + f' and the {chrType}: {chr(ordList[len(ordList)-1])}')\n",
    "    return ordList"
   ]
  },
  {
   "cell_type": "code",
   "execution_count": 19,
   "metadata": {},
   "outputs": [],
   "source": [
    "# print(chr(33))\n",
    "# print(chr(126))"
   ]
  },
  {
   "cell_type": "code",
   "execution_count": 20,
   "metadata": {},
   "outputs": [
    {
     "name": "stdout",
     "output_type": "stream",
     "text": [
      "The Symbol ASCII begins with the number: 33, and the Symbol: !\n",
      "Negative len: -94\n",
      "End of list idx: 93\n",
      "The Symbol ASCII ends with the number: 126, and the Symbol: ~\n",
      "[33, 34, 35, 36, 37, 38, 39, 40, 41, 42, 43, 44, 45, 46, 47, 48, 49, 50, 51, 52, 53, 54, 55, 56, 57, 58, 59, 60, 61, 62, 63, 64, 65, 66, 67, 68, 69, 70, 71, 72, 73, 74, 75, 76, 77, 78, 79, 80, 81, 82, 83, 84, 85, 86, 87, 88, 89, 90, 91, 92, 93, 94, 95, 96, 97, 98, 99, 100, 101, 102, 103, 104, 105, 106, 107, 108, 109, 110, 111, 112, 113, 114, 115, 116, 117, 118, 119, 120, 121, 122, 123, 124, 125, 126]\n"
     ]
    }
   ],
   "source": [
    "symbolList = getOrdinalsList('Symbol', 33, 127)\n",
    "print(symbolList)"
   ]
  },
  {
   "cell_type": "code",
   "execution_count": 21,
   "metadata": {},
   "outputs": [],
   "source": [
    "# print(chr(48))\n",
    "# print(chr(57))"
   ]
  },
  {
   "cell_type": "code",
   "execution_count": 22,
   "metadata": {},
   "outputs": [
    {
     "name": "stdout",
     "output_type": "stream",
     "text": [
      "The Number ASCII begins with the number: 48, and the Number: 0\n",
      "Negative len: -10\n",
      "End of list idx: 9\n",
      "The Number ASCII ends with the number: 57, and the Number: 9\n",
      "[48, 49, 50, 51, 52, 53, 54, 55, 56, 57]\n"
     ]
    }
   ],
   "source": [
    "numsList = getOrdinalsList('Number', 48, 58)\n",
    "print(numsList)"
   ]
  },
  {
   "cell_type": "markdown",
   "metadata": {},
   "source": [
    "# Functions\n",
    "- preset functions to be used later"
   ]
  },
  {
   "cell_type": "code",
   "execution_count": 23,
   "metadata": {},
   "outputs": [],
   "source": [
    "import pandas as pd"
   ]
  },
  {
   "cell_type": "code",
   "execution_count": 24,
   "metadata": {},
   "outputs": [
    {
     "data": {
      "text/plain": [
       "\"vhfinmxkl atox kxgwxkxw tee hy maxlx hew vbiaxkl tl hulhexmx. px'ee atox mh kxteer lmxi ni hnk ztfx by px ptgm mh dxxi hnk fxlltzxl ltyx.\""
      ]
     },
     "execution_count": 24,
     "metadata": {},
     "output_type": "execute_result"
    }
   ],
   "source": [
    "strs"
   ]
  },
  {
   "cell_type": "code",
   "execution_count": 25,
   "metadata": {},
   "outputs": [
    {
     "data": {
      "text/plain": [
       "[9, 4, 8, 3, 2, 5, 3, 7, 2, 9, 5, 4, 2, 6, 4, 2, 3, 4, 2, 2, 4, 2, 4, 3, 8, 5]"
      ]
     },
     "execution_count": 25,
     "metadata": {},
     "output_type": "execute_result"
    }
   ],
   "source": [
    "splitStrs = strs.split(\" \")\n",
    "#print(splitStrs)\n",
    "wordLength = []\n",
    "for i in splitStrs:\n",
    "    wordLength.append(len(i))\n",
    "    #print(f'{i}, Length:{len(i)}')\n",
    "wordLength"
   ]
  },
  {
   "cell_type": "code",
   "execution_count": 26,
   "metadata": {},
   "outputs": [
    {
     "data": {
      "text/html": [
       "<div>\n",
       "<style scoped>\n",
       "    .dataframe tbody tr th:only-of-type {\n",
       "        vertical-align: middle;\n",
       "    }\n",
       "\n",
       "    .dataframe tbody tr th {\n",
       "        vertical-align: top;\n",
       "    }\n",
       "\n",
       "    .dataframe thead th {\n",
       "        text-align: right;\n",
       "    }\n",
       "</style>\n",
       "<table border=\"1\" class=\"dataframe\">\n",
       "  <thead>\n",
       "    <tr style=\"text-align: right;\">\n",
       "      <th></th>\n",
       "      <th>index</th>\n",
       "      <th>0</th>\n",
       "    </tr>\n",
       "  </thead>\n",
       "  <tbody>\n",
       "    <tr>\n",
       "      <th>0</th>\n",
       "      <td>vhfinmxkl</td>\n",
       "      <td>9</td>\n",
       "    </tr>\n",
       "    <tr>\n",
       "      <th>1</th>\n",
       "      <td>atox</td>\n",
       "      <td>4</td>\n",
       "    </tr>\n",
       "    <tr>\n",
       "      <th>2</th>\n",
       "      <td>kxgwxkxw</td>\n",
       "      <td>8</td>\n",
       "    </tr>\n",
       "    <tr>\n",
       "      <th>3</th>\n",
       "      <td>tee</td>\n",
       "      <td>3</td>\n",
       "    </tr>\n",
       "    <tr>\n",
       "      <th>4</th>\n",
       "      <td>hy</td>\n",
       "      <td>2</td>\n",
       "    </tr>\n",
       "    <tr>\n",
       "      <th>5</th>\n",
       "      <td>maxlx</td>\n",
       "      <td>5</td>\n",
       "    </tr>\n",
       "    <tr>\n",
       "      <th>6</th>\n",
       "      <td>hew</td>\n",
       "      <td>3</td>\n",
       "    </tr>\n",
       "    <tr>\n",
       "      <th>7</th>\n",
       "      <td>vbiaxkl</td>\n",
       "      <td>7</td>\n",
       "    </tr>\n",
       "    <tr>\n",
       "      <th>8</th>\n",
       "      <td>tl</td>\n",
       "      <td>2</td>\n",
       "    </tr>\n",
       "    <tr>\n",
       "      <th>9</th>\n",
       "      <td>hulhexmx.</td>\n",
       "      <td>9</td>\n",
       "    </tr>\n",
       "    <tr>\n",
       "      <th>10</th>\n",
       "      <td>px'ee</td>\n",
       "      <td>5</td>\n",
       "    </tr>\n",
       "    <tr>\n",
       "      <th>11</th>\n",
       "      <td>mh</td>\n",
       "      <td>2</td>\n",
       "    </tr>\n",
       "    <tr>\n",
       "      <th>12</th>\n",
       "      <td>kxteer</td>\n",
       "      <td>6</td>\n",
       "    </tr>\n",
       "    <tr>\n",
       "      <th>13</th>\n",
       "      <td>lmxi</td>\n",
       "      <td>4</td>\n",
       "    </tr>\n",
       "    <tr>\n",
       "      <th>14</th>\n",
       "      <td>ni</td>\n",
       "      <td>2</td>\n",
       "    </tr>\n",
       "    <tr>\n",
       "      <th>15</th>\n",
       "      <td>hnk</td>\n",
       "      <td>3</td>\n",
       "    </tr>\n",
       "    <tr>\n",
       "      <th>16</th>\n",
       "      <td>ztfx</td>\n",
       "      <td>4</td>\n",
       "    </tr>\n",
       "    <tr>\n",
       "      <th>17</th>\n",
       "      <td>by</td>\n",
       "      <td>2</td>\n",
       "    </tr>\n",
       "    <tr>\n",
       "      <th>18</th>\n",
       "      <td>px</td>\n",
       "      <td>2</td>\n",
       "    </tr>\n",
       "    <tr>\n",
       "      <th>19</th>\n",
       "      <td>ptgm</td>\n",
       "      <td>4</td>\n",
       "    </tr>\n",
       "    <tr>\n",
       "      <th>20</th>\n",
       "      <td>dxxi</td>\n",
       "      <td>4</td>\n",
       "    </tr>\n",
       "    <tr>\n",
       "      <th>21</th>\n",
       "      <td>fxlltzxl</td>\n",
       "      <td>8</td>\n",
       "    </tr>\n",
       "    <tr>\n",
       "      <th>22</th>\n",
       "      <td>ltyx.</td>\n",
       "      <td>5</td>\n",
       "    </tr>\n",
       "  </tbody>\n",
       "</table>\n",
       "</div>"
      ],
      "text/plain": [
       "        index  0\n",
       "0   vhfinmxkl  9\n",
       "1        atox  4\n",
       "2    kxgwxkxw  8\n",
       "3         tee  3\n",
       "4          hy  2\n",
       "5       maxlx  5\n",
       "6         hew  3\n",
       "7     vbiaxkl  7\n",
       "8          tl  2\n",
       "9   hulhexmx.  9\n",
       "10      px'ee  5\n",
       "11         mh  2\n",
       "12     kxteer  6\n",
       "13       lmxi  4\n",
       "14         ni  2\n",
       "15        hnk  3\n",
       "16       ztfx  4\n",
       "17         by  2\n",
       "18         px  2\n",
       "19       ptgm  4\n",
       "20       dxxi  4\n",
       "21   fxlltzxl  8\n",
       "22      ltyx.  5"
      ]
     },
     "execution_count": 26,
     "metadata": {},
     "output_type": "execute_result"
    }
   ],
   "source": [
    "#Making the first dataFrame to compare all 26 options returned from brutCaesar\n",
    "wordNums = {}\n",
    "strsList = strs.split(\" \")\n",
    "for key in strsList:\n",
    "    for value in wordLength:\n",
    "        wordNums[key] = value\n",
    "        wordLength.remove(value)\n",
    "        break\n",
    "firstFrame = pd.DataFrame.from_dict(wordNums, orient=\"index\")\n",
    "firstFrame = firstFrame.reset_index()\n",
    "fristFrame = firstFrame.rename(columns={'index':'coded', '0':'len'})\n",
    "firstFrame"
   ]
  },
  {
   "cell_type": "code",
   "execution_count": 27,
   "metadata": {},
   "outputs": [
    {
     "name": "stdout",
     "output_type": "stream",
     "text": [
      "computershaverenderedalloftheseoldciphersasobsolete.we'llhavetoreallystepupourgameifwewanttokeepourmessagessafe.\n"
     ]
    }
   ],
   "source": [
    "print(squishedStr)"
   ]
  },
  {
   "cell_type": "code",
   "execution_count": 28,
   "metadata": {},
   "outputs": [
    {
     "data": {
      "text/plain": [
       "0"
      ]
     },
     "execution_count": 28,
     "metadata": {},
     "output_type": "execute_result"
    }
   ],
   "source": [
    "len(wordLength)"
   ]
  },
  {
   "cell_type": "code",
   "execution_count": 29,
   "metadata": {},
   "outputs": [
    {
     "data": {
      "text/plain": [
       "112"
      ]
     },
     "execution_count": 29,
     "metadata": {},
     "output_type": "execute_result"
    }
   ],
   "source": [
    "len(squishedStr)"
   ]
  },
  {
   "cell_type": "code",
   "execution_count": 30,
   "metadata": {},
   "outputs": [
    {
     "data": {
      "text/plain": [
       "135"
      ]
     },
     "execution_count": 30,
     "metadata": {},
     "output_type": "execute_result"
    }
   ],
   "source": [
    "#Should be adding 26 spaces into squishedStr\n",
    "109 + 26"
   ]
  },
  {
   "cell_type": "code",
   "execution_count": 31,
   "metadata": {},
   "outputs": [
    {
     "data": {
      "text/plain": [
       "21"
      ]
     },
     "execution_count": 31,
     "metadata": {},
     "output_type": "execute_result"
    }
   ],
   "source": [
    "9+4+8"
   ]
  },
  {
   "cell_type": "code",
   "execution_count": 32,
   "metadata": {},
   "outputs": [
    {
     "name": "stdout",
     "output_type": "stream",
     "text": [
      "[9, 14, 23, 27, 30, 36, 40, 48, 51, 61, 67, 72, 75, 82, 87, 90, 94, 99, 102, 105, 110, 113, 118, 122, 131]\n"
     ]
    }
   ],
   "source": [
    "anotherIdx = []\n",
    "i = 0\n",
    "for j in strs:\n",
    "    if j == ' ':\n",
    "        anotherIdx.append(strs.index(' ', i))\n",
    "        i += 1\n",
    "    else:\n",
    "        i += 1\n",
    "print(anotherIdx)"
   ]
  },
  {
   "cell_type": "code",
   "execution_count": 33,
   "metadata": {},
   "outputs": [
    {
     "name": "stdout",
     "output_type": "stream",
     "text": [
      "[9, 14, 23, 27, 30, 36, 40, 48, 51, 61, 67, 72, 75, 82, 87, 90, 94, 99, 102, 105, 110, 113, 118, 122, 131]\n"
     ]
    }
   ],
   "source": [
    "spacesList = [loc for loc, space in enumerate(strs) if space == ' ']\n",
    "print(spacesList)"
   ]
  },
  {
   "cell_type": "code",
   "execution_count": 49,
   "metadata": {},
   "outputs": [
    {
     "name": "stdout",
     "output_type": "stream",
     "text": [
      "computers\n",
      "have\n",
      "rendered\n",
      "all\n"
     ]
    },
    {
     "ename": "IndexError",
     "evalue": "list index out of range",
     "output_type": "error",
     "traceback": [
      "\u001b[0;31m---------------------------------------------------------------------------\u001b[0m",
      "\u001b[0;31mIndexError\u001b[0m                                Traceback (most recent call last)",
      "\u001b[0;32m<ipython-input-49-bfdd6dd9557a>\u001b[0m in \u001b[0;36m<module>\u001b[0;34m\u001b[0m\n\u001b[1;32m      6\u001b[0m \u001b[0mprint\u001b[0m\u001b[0;34m(\u001b[0m\u001b[0msquishedStr\u001b[0m\u001b[0;34m[\u001b[0m\u001b[0mspacesList\u001b[0m\u001b[0;34m[\u001b[0m\u001b[0;36m1\u001b[0m\u001b[0;34m]\u001b[0m \u001b[0;34m-\u001b[0m \u001b[0;36m1\u001b[0m \u001b[0;34m:\u001b[0m \u001b[0mspacesList\u001b[0m\u001b[0;34m[\u001b[0m\u001b[0;36m2\u001b[0m\u001b[0;34m]\u001b[0m \u001b[0;34m-\u001b[0m \u001b[0;36m2\u001b[0m\u001b[0;34m]\u001b[0m\u001b[0;34m)\u001b[0m\u001b[0;34m\u001b[0m\u001b[0;34m\u001b[0m\u001b[0m\n\u001b[1;32m      7\u001b[0m \u001b[0mprint\u001b[0m\u001b[0;34m(\u001b[0m\u001b[0msquishedStr\u001b[0m\u001b[0;34m[\u001b[0m\u001b[0mspacesList\u001b[0m\u001b[0;34m[\u001b[0m\u001b[0;36m2\u001b[0m\u001b[0;34m]\u001b[0m \u001b[0;34m-\u001b[0m \u001b[0;36m2\u001b[0m \u001b[0;34m:\u001b[0m \u001b[0mspacesList\u001b[0m\u001b[0;34m[\u001b[0m\u001b[0;36m3\u001b[0m\u001b[0;34m]\u001b[0m \u001b[0;34m-\u001b[0m \u001b[0;36m3\u001b[0m\u001b[0;34m]\u001b[0m\u001b[0;34m)\u001b[0m\u001b[0;34m\u001b[0m\u001b[0;34m\u001b[0m\u001b[0m\n\u001b[0;32m----> 8\u001b[0;31m \u001b[0mprint\u001b[0m\u001b[0;34m(\u001b[0m\u001b[0msquishedStr\u001b[0m\u001b[0;34m[\u001b[0m\u001b[0mspacesList\u001b[0m\u001b[0;34m[\u001b[0m\u001b[0;36m24\u001b[0m\u001b[0;34m]\u001b[0m \u001b[0;34m-\u001b[0m \u001b[0;36m24\u001b[0m\u001b[0;34m:\u001b[0m \u001b[0mspacesList\u001b[0m\u001b[0;34m[\u001b[0m\u001b[0;36m25\u001b[0m\u001b[0;34m]\u001b[0m\u001b[0;34m-\u001b[0m\u001b[0;36m25\u001b[0m\u001b[0;34m]\u001b[0m\u001b[0;34m)\u001b[0m\u001b[0;34m\u001b[0m\u001b[0;34m\u001b[0m\u001b[0m\n\u001b[0m",
      "\u001b[0;31mIndexError\u001b[0m: list index out of range"
     ]
    }
   ],
   "source": [
    "squishedStr[0]\n",
    "spacesList[0]\n",
    "print(squishedStr[0 : spacesList[0] - 0])\n",
    "#print(squishedStr[spacesList[0] - 0 : spacesList[0] - 0])\n",
    "print(squishedStr[spacesList[0] - 0 : spacesList[1] - 1])\n",
    "print(squishedStr[spacesList[1] - 1 : spacesList[2] - 2])\n",
    "print(squishedStr[spacesList[2] - 2 : spacesList[3] - 3])\n",
    "print(squishedStr[spacesList[24] - 24: spacesList[25]-25])"
   ]
  },
  {
   "cell_type": "code",
   "execution_count": 35,
   "metadata": {},
   "outputs": [
    {
     "data": {
      "text/plain": [
       "\"computershaverenderedalloftheseoldciphersasobsolete.we'llhavetoreallystepupourgameifwewanttokeepourmessagessafe.\""
      ]
     },
     "execution_count": 35,
     "metadata": {},
     "output_type": "execute_result"
    }
   ],
   "source": [
    "squishedStr"
   ]
  },
  {
   "cell_type": "code",
   "execution_count": 36,
   "metadata": {},
   "outputs": [
    {
     "name": "stdout",
     "output_type": "stream",
     "text": [
      "9,  14,  23,  27,  30,  36,  40,  48,  51,  61,  67,  72,  75,  82,  87,  90,  94,  99,  102,  105,  110,  113,  118,  122,  131,  "
     ]
    }
   ],
   "source": [
    "printInline(spacesList)"
   ]
  },
  {
   "cell_type": "markdown",
   "metadata": {},
   "source": [
    "# Working\n",
    "- putting spaces back into string\n",
    "- missing last string 'safe'...\n",
    "- debug\n",
    "- additionally turn this into a function"
   ]
  },
  {
   "cell_type": "code",
   "execution_count": 44,
   "metadata": {},
   "outputs": [
    {
     "data": {
      "text/plain": [
       "\"computershaverenderedalloftheseoldciphersasobsolete.we'llhavetoreallystepupourgameifwewanttokeepourmessages \""
      ]
     },
     "execution_count": 44,
     "metadata": {},
     "output_type": "execute_result"
    }
   ],
   "source": [
    "withSpaces1[-1]"
   ]
  },
  {
   "cell_type": "code",
   "execution_count": 47,
   "metadata": {},
   "outputs": [
    {
     "data": {
      "text/plain": [
       "['computers ',\n",
       " 'have ',\n",
       " 'rendered ',\n",
       " 'all ',\n",
       " 'of ',\n",
       " 'these ',\n",
       " 'old ',\n",
       " 'ciphers ',\n",
       " 'as ',\n",
       " 'obsolete. ',\n",
       " \"we'll \",\n",
       " 'have ',\n",
       " 'to ',\n",
       " 'really ',\n",
       " 'step ',\n",
       " 'up ',\n",
       " 'our ',\n",
       " 'game ',\n",
       " 'if ',\n",
       " 'we ',\n",
       " 'want ',\n",
       " 'to ',\n",
       " 'keep ',\n",
       " 'our ',\n",
       " 'messages ']"
      ]
     },
     "execution_count": 47,
     "metadata": {},
     "output_type": "execute_result"
    }
   ],
   "source": [
    "withSpaces1 = []\n",
    "ctr = 0\n",
    "for i in spacesList:\n",
    "    add = ' '\n",
    "    #print(type(i))\n",
    "    #print(squishedStr[i])\n",
    "    #print(i)\n",
    "    index = i - ctr\n",
    "    #print(index)\n",
    "    withSpaces1.append(squishedStr[:index] + add)\n",
    "    ctr += 1\n",
    "#print(withSpaces1)\n",
    "#print(withSpaces1[9])\n",
    "newList = []\n",
    "counter = 0\n",
    "for i in withSpaces1:\n",
    "    if len(i) > len(withSpaces1[0]):\n",
    "        sliceNum = len(withSpaces1[counter]) - len(withSpaces1[counter - 1])\n",
    "        #print(sliceNum)\n",
    "        newList.append(withSpaces1[counter][-sliceNum-1:])\n",
    "        counter += 1\n",
    "#        othercounter = len(withSpaces1[counter]) - len(withSpaces1[counter - 1])\n",
    "#         if i == withSpaces1[20]:\n",
    "#             break\n",
    "#    elif len(i) == len(withSpaces1[-1])\n",
    "    else: \n",
    "        newList.append(i)\n",
    "        counter += 1\n",
    "newList\n",
    "        "
   ]
  },
  {
   "cell_type": "code",
   "execution_count": 39,
   "metadata": {},
   "outputs": [],
   "source": [
    "#squishedStr.insert(9-1, ' ')"
   ]
  },
  {
   "cell_type": "code",
   "execution_count": null,
   "metadata": {},
   "outputs": [],
   "source": [
    "# counter = 0\n",
    "# while counter < len(spacesList):\n",
    "#     print(squishedStr[spacesList[(counter)]:spacesList[(counter + 1)]-(counter + 1)])\n",
    "#     counter += 1"
   ]
  },
  {
   "cell_type": "code",
   "execution_count": null,
   "metadata": {},
   "outputs": [],
   "source": [
    "# #Needs work\n",
    "# withSpaces = []\n",
    "# counter = 0\n",
    "# for i in spacesList:\n",
    "#     withSpaces.append(squishedStr[counter:i-counter])\n",
    "# #print(withSpaces)\n",
    "# #['computers', 'computershaver', 'computershaverenderedal', 'computershaverenderedalloft', 'computershaverenderedallofthes', 'computershaverenderedalloftheseoldci', 'computershaverendered"
   ]
  },
  {
   "cell_type": "code",
   "execution_count": null,
   "metadata": {},
   "outputs": [],
   "source": [
    "spacesList = []\n",
    "i = 0\n",
    "for j in strs:\n",
    "    if j == ' ':\n",
    "        spacesList.append(strs.index(' ', i))\n",
    "        i += 1\n",
    "    else:\n",
    "        i += 1"
   ]
  },
  {
   "cell_type": "code",
   "execution_count": null,
   "metadata": {},
   "outputs": [],
   "source": [
    "printInline(spacesList)"
   ]
  },
  {
   "cell_type": "code",
   "execution_count": null,
   "metadata": {},
   "outputs": [],
   "source": [
    "#prints all elements inline with a comma\n",
    "def printInline(toPrint):\n",
    "    for i in toPrint:\n",
    "        print(str(i) + ', ', end = \" \")"
   ]
  },
  {
   "cell_type": "code",
   "execution_count": null,
   "metadata": {},
   "outputs": [],
   "source": [
    "#making index list of space locations\n",
    "def locatingSpaces(message):\n",
    "    spacesList = []\n",
    "    counter = 0\n",
    "    for i in message:\n",
    "        if i == ' ':\n",
    "            spacesList.append(counter)\n",
    "            counter += 1\n",
    "        else:\n",
    "            counter += 1\n",
    "    return spacesList"
   ]
  },
  {
   "cell_type": "code",
   "execution_count": null,
   "metadata": {},
   "outputs": [],
   "source": [
    "#Calls locatedSpaces to make a list of index nums where spaces\n",
    "locatedSpaces = locatingSpaces(strs)\n",
    "printInline(locatedSpaces)"
   ]
  },
  {
   "cell_type": "markdown",
   "metadata": {},
   "source": [
    "# Working"
   ]
  },
  {
   "cell_type": "markdown",
   "metadata": {},
   "source": [
    "# Next\n",
    "- pattern match the 1 in 1st etc to 26th and remove those values\n",
    "- maybe use try and accept.. or create a list of strs 1 - 26 and match on that\n",
    "- making newGlobals to hold the 26 strings that the vignere cipher will output"
   ]
  },
  {
   "cell_type": "code",
   "execution_count": null,
   "metadata": {},
   "outputs": [],
   "source": [
    "# Symbols Location in ASCII\n",
    "# ord('!') = 33, ord('~') = 126\n",
    "printInline(symbolList)"
   ]
  },
  {
   "cell_type": "code",
   "execution_count": null,
   "metadata": {},
   "outputs": [],
   "source": [
    "# #Incomplete\n",
    "# def findSpecialChar(string):\n",
    "#     for i in string:\n",
    "#         if i == chr(j):\n"
   ]
  },
  {
   "cell_type": "code",
   "execution_count": null,
   "metadata": {},
   "outputs": [],
   "source": [
    "# Numbers location in ASCII\n",
    "# ord('0') = 48, ord('9') = 57\n",
    "printInline(numsList)"
   ]
  },
  {
   "cell_type": "code",
   "execution_count": null,
   "metadata": {},
   "outputs": [],
   "source": [
    "# def findNumbers(string):"
   ]
  },
  {
   "cell_type": "code",
   "execution_count": null,
   "metadata": {},
   "outputs": [],
   "source": [
    "int('s')"
   ]
  },
  {
   "cell_type": "code",
   "execution_count": null,
   "metadata": {},
   "outputs": [],
   "source": [
    "# newGlobals = ordList\n",
    "# for i in ordList:\n",
    "#     newGlobals = []\n",
    "#     #can do some homogenized code to all elements in list here\n",
    "#     globals()[i] = newGlobals"
   ]
  },
  {
   "cell_type": "code",
   "execution_count": null,
   "metadata": {},
   "outputs": [],
   "source": [
    "# strs = \"vhfinmxkl atox kxgwxkxw tee hy maxlx hew vbiaxkl tl hulhexmx. px'ee atox mh kxteer lmxi ni hnk ztfx by px ptgm mh dxxi hnk fxlltzxl ltyx.\"\n",
    "# alpha = \"abcdefghijklmnopqrstuvwxyz\"\n",
    "# def eTuBrute(message, offset):\n",
    "#     def eTuBrute(message, offset):\n",
    "#         cipher_text = \"\"\n",
    "#         for char in message:\n",
    "#             if char.isalpha():\n",
    "#                 stay_in_alpha = ord(char) + offset\n",
    "#                 if stay_in_alpha > ord('z'):\n",
    "#                     stay_in_alpha -= 26\n",
    "#                 final_letter = chr(stay_in_alpha)\n",
    "#                 cipher_text += final_letter           \n",
    "#         return cipher_text\n",
    "\n",
    "#     for i in range(26):\n",
    "#         print(str(i))\n",
    "#         print(\"\\t \" + eTuBrute(strs, i) + \"\\n\")"
   ]
  },
  {
   "cell_type": "code",
   "execution_count": null,
   "metadata": {},
   "outputs": [],
   "source": [
    "strs.index(' ', 0, len(strs))"
   ]
  },
  {
   "cell_type": "code",
   "execution_count": null,
   "metadata": {},
   "outputs": [],
   "source": [
    "#Finds the Index location of the inputted string\n",
    "def spacesIndex(strs):\n",
    "    spacesList = []\n",
    "    counter = 0\n",
    "    spacesList.append(strs.index(' ', 0, len(strs)))\n",
    "    for i in strs:\n",
    "        if i == ' ':\n",
    "            spacesList.append(counter - 1)\n",
    "            #print(f'Before adding in If: {(counter - 1)}')\n",
    "            counter += 1\n",
    "        else:\n",
    "            #print(f'Before adding in Else: {counter}')\n",
    "            counter += 1 \n",
    "    return spacesList[:len(spacesList)]"
   ]
  },
  {
   "cell_type": "code",
   "execution_count": null,
   "metadata": {},
   "outputs": [],
   "source": [
    "withSpaces = spacesIndex(strs)\n",
    "printInline(withSpaces)"
   ]
  },
  {
   "cell_type": "code",
   "execution_count": null,
   "metadata": {},
   "outputs": [],
   "source": [
    "del withSpaces[1:2]"
   ]
  },
  {
   "cell_type": "code",
   "execution_count": null,
   "metadata": {},
   "outputs": [],
   "source": [
    "printInline(withSpaces)"
   ]
  },
  {
   "cell_type": "code",
   "execution_count": null,
   "metadata": {},
   "outputs": [],
   "source": [
    "print(squishedStr)"
   ]
  },
  {
   "cell_type": "code",
   "execution_count": null,
   "metadata": {},
   "outputs": [],
   "source": [
    "def addingSpaces(string, integer):\n",
    "    return string[0:integer] + ' ' #+ string[integer:]"
   ]
  },
  {
   "cell_type": "code",
   "execution_count": null,
   "metadata": {},
   "outputs": [],
   "source": [
    "# for i in withSpaces:\n",
    "#     print(addingSpaces(squishedStr, i))"
   ]
  },
  {
   "cell_type": "code",
   "execution_count": null,
   "metadata": {},
   "outputs": [],
   "source": [
    "printInline(locatedSpaces)"
   ]
  },
  {
   "cell_type": "code",
   "execution_count": null,
   "metadata": {},
   "outputs": [],
   "source": [
    "for i in locatedSpaces:\n",
    "    wrongList = addingSpaces(squishedStr, i)\n",
    "#prints computers \n",
    "#computershaver \n",
    "#computershaverenderedal..."
   ]
  },
  {
   "cell_type": "code",
   "execution_count": null,
   "metadata": {},
   "outputs": [],
   "source": []
  },
  {
   "cell_type": "code",
   "execution_count": null,
   "metadata": {},
   "outputs": [],
   "source": [
    "# squishedStr = \"computershaverenderedalloftheseoldciphersasobsoletewellhavetoreallystepupourgameifwewanttokeepourmessagessafe\"\n",
    "\n",
    "# withSpaces = []\n",
    "# for i in emptyIdx:\n",
    "#     withSpaces.append(addingSpaces(squishedStr, i))\n",
    "# withSpaces"
   ]
  },
  {
   "cell_type": "markdown",
   "metadata": {},
   "source": [
    "# Cipher Functions\n",
    "- Three Caesar functions:\n",
    "    - eTuBrute is a brute force Casesar decoder\n",
    "    - Caesar is a caesar coder\n",
    "    - decoder is a caesar decoder\n"
   ]
  },
  {
   "cell_type": "code",
   "execution_count": null,
   "metadata": {},
   "outputs": [],
   "source": [
    "def eTuBrute():\n",
    "    strs = input(\"What is the Coded Message?\\n\")\n",
    "    #offset = input(\"What is the offset?\")\n",
    "    #alpha = \"abcdefghijklmnopqrstuvwxyz\"\n",
    "    def decodeString(message, offset):\n",
    "        emptyIdx = []\n",
    "        i = 0\n",
    "        for j in dirtyOrds:\n",
    "            if j == '':\n",
    "            emptyIdx.append(message.index('', i))\n",
    "            i += 1\n",
    "        else:\n",
    "            i += 1\n",
    "        cipher_text = \"\"\n",
    "        for char in message:\n",
    "            if char.isalpha():\n",
    "                stay_in_alpha = ord(char) + offset\n",
    "                if stay_in_alpha > ord('z'):\n",
    "                    stay_in_alpha -= 26\n",
    "                final_letter = chr(stay_in_alpha)\n",
    "                cipher_text += final_letter\n",
    "        \n",
    "        return cipher_text\n",
    "    for i in range(26):\n",
    "        print(str(i))\n",
    "        \n",
    "        print(\"\\t \" + decodeString(strs, i) + \"\\n\")\n",
    "eTuBrute()"
   ]
  },
  {
   "cell_type": "code",
   "execution_count": null,
   "metadata": {},
   "outputs": [],
   "source": [
    "strs = \"vhfinmxkl atox kxgwxkxw tee hy maxlx hew vbiaxkl tl hulhexmx. px'ee atox mh kxteer lmxi ni hnk ztfx by px ptgm mh dxxi hnk fxlltzxl ltyx.\"\n",
    "alpha = \"abcdefghijklmnopqrstuvwxyz\"\n",
    "def eTuBrute(message, offset):\n",
    "    cipher_text = \"\"\n",
    "    for char in message:\n",
    "        if char.isalpha():\n",
    "            stay_in_alpha = ord(char) + offset\n",
    "            if stay_in_alpha > ord('z'):\n",
    "                stay_in_alpha -= 26\n",
    "            final_letter = chr(stay_in_alpha)\n",
    "            cipher_text += final_letter           \n",
    "    return cipher_text\n",
    "\n",
    "for i in range(26):\n",
    "    print(str(i))\n",
    "    print(\"\\t \" + eTuBrute(strs, i) + \"\\n\")"
   ]
  },
  {
   "cell_type": "code",
   "execution_count": null,
   "metadata": {},
   "outputs": [],
   "source": [
    "def decoder(coded, shift):\n",
    "    decoded = []\n",
    "    spacesIdx = []\n",
    "    nums = []\n",
    "    puncList = []\n",
    "    specialChar = []\n",
    "    counter = 0\n",
    "    for char in coded:\n",
    "        if char.isalpha():\n",
    "            char = char.lower()\n",
    "            limitAlpha = ord(char) - shift\n",
    "            if (limitAlpha < ord('a')) :\n",
    "                backshift = ord('a') - limitAlpha\n",
    "                backshift = ord('z') - backshift\n",
    "                backshift = chr(backshift)\n",
    "                #print(f'Backshift : {backshift}')\n",
    "                decoded.append(backshift)\n",
    "                counter += 1\n",
    "            else:\n",
    "                decoded.append(chr(limitAlpha))\n",
    "                counter += 1\n",
    "        elif char.isspace():\n",
    "            spacesIdx.append(counter)\n",
    "            print(f'Space index: {spacesIdx}')\n",
    "            counter += 1\n",
    "        elif (str(char)).isnumeric():\n",
    "            nums.append(counter)\n",
    "            #print(char)\n",
    "            #print(f'Number index: {counter}')\n",
    "            counter += 1\n",
    "        else:\n",
    "            print(f'Unknown character: {char}')\n",
    "            puncList.append(char)\n",
    "            counter += 1\n",
    "    return ''.join(decoded), spacesIdx, nums, puncList;"
   ]
  },
  {
   "cell_type": "code",
   "execution_count": null,
   "metadata": {},
   "outputs": [],
   "source": [
    "def caesar(uncoded, shift):\n",
    "    coded = []\n",
    "    for char in uncoded:\n",
    "        if char.isalpha():\n",
    "            char = char.lower()\n",
    "            limitAlpha = ord(char) + shift\n",
    "            if (limitAlpha >= ord('a')) & (limitAlpha <= ord('z')) :\n",
    "                limitAlpha = chr(limitAlpha)\n",
    "                #print(f'LimitAlpha: {limitAlpha}')\n",
    "                coded.append(limitAlpha)\n",
    "            else:\n",
    "                frontShift = ((limitAlpha % ord('z')) % 26) + ord('a')\n",
    "                #print(f'Frontshift: {frontShift}')\n",
    "                coded.append(chr(frontShift))\n",
    "                #coded.append(frontShift)\n",
    "    return ''.join(coded)"
   ]
  },
  {
   "cell_type": "code",
   "execution_count": null,
   "metadata": {},
   "outputs": [],
   "source": [
    "def askInput():\n",
    "    print('//////////////////////////////////////////////////////////////////////////////////')\n",
    "    query = input(\"Decode, or Code? \")\n",
    "    print('//////////////////////////////////////////////////////////////////////////////////')\n",
    "    query = query.lower()\n",
    "    if query == 'decode':\n",
    "        decodeMessage = input(\"Enter coded message:: \")\n",
    "        print('//////////////////////////////////////////////////////////////////////////////////')\n",
    "        print(f\"Message Recieved: {decodeMessage}\")\n",
    "        print('//////////////////////////////////////////////////////////////////////////////////')\n",
    "        shiftNum = int(input(\"Enter the shift:: \\n\"))\n",
    "        print('//////////////////////////////////////////////////////////////////////////////////')\n",
    "        print(f'Shift Entered: {shiftNum}')\n",
    "        print('//////////////////////////////////////////////////////////////////////////////////')\n",
    "        if shiftNum == 25:\n",
    "            print('Invalid shift, please choose again. ')\n",
    "            print('//////////////////////////////////////////////////////////////////////////////////')\n",
    "            shiftNum = int(input('Enter a different number: \\n'))\n",
    "            print('//////////////////////////////////////////////////////////////////////////////////')\n",
    "            print(f'Shift Entered: {shiftNum}')\n",
    "        initDecode = decoder(decodeMessage, shiftNum)\n",
    "        print('----------------------------------------------------------------------------------')\n",
    "        return print(f'This is your coded message:: {initDecode}\\n----------------------------------------------------------------------------------')\n",
    "    else:\n",
    "        toCode = input('Enter message to code:: ')\n",
    "        print('//////////////////////////////////////////////////////////////////////////////////')\n",
    "        print(f\"Message Recieved: {toCode}\")\n",
    "        print('//////////////////////////////////////////////////////////////////////////////////')\n",
    "        shiftNum = int(input('Enter the shift:'))\n",
    "        print('//////////////////////////////////////////////////////////////////////////////////')\n",
    "        print(f'Shift Entered: {shiftNum}')\n",
    "        print('//////////////////////////////////////////////////////////////////////////////////')\n",
    "        if shiftNum == 25:\n",
    "            print('Invalid shift, please choose again. ')\n",
    "            print('//////////////////////////////////////////////////////////////////////////////////')\n",
    "            shiftNum = int(input('Enter a different number: '))\n",
    "            print('//////////////////////////////////////////////////////////////////////////////////')\n",
    "            print(f'Shift Entered: {shiftNum}')\n",
    "        print('----------------------------------------------------------------------------------')\n",
    "        return print(f'This is your coded message:: {caesar(toCode, shiftNum)}\\n----------------------------------------------------------------------------------')\n",
    "        "
   ]
  },
  {
   "cell_type": "code",
   "execution_count": null,
   "metadata": {},
   "outputs": [],
   "source": [
    "askInput()"
   ]
  },
  {
   "cell_type": "code",
   "execution_count": null,
   "metadata": {},
   "outputs": [],
   "source": []
  }
 ],
 "metadata": {
  "kernelspec": {
   "display_name": "Python 3",
   "language": "python",
   "name": "python3"
  },
  "language_info": {
   "codemirror_mode": {
    "name": "ipython",
    "version": 3
   },
   "file_extension": ".py",
   "mimetype": "text/x-python",
   "name": "python",
   "nbconvert_exporter": "python",
   "pygments_lexer": "ipython3",
   "version": "3.7.7"
  }
 },
 "nbformat": 4,
 "nbformat_minor": 4
}
