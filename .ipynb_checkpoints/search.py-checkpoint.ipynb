{
 "cells": [
  {
   "cell_type": "markdown",
   "metadata": {},
   "source": [
    "# cipherTwo\n",
    "- cipherTwo will expand on caesar.py incorporating a vignere cipher and options to search for words within the text to allow for punctuation and proper spacing. "
   ]
  },
  {
   "cell_type": "code",
   "execution_count": null,
   "metadata": {},
   "outputs": [],
   "source": [
    "# def decoder(coded, shift):\n",
    "#     decoded = []\n",
    "#     for char in coded:\n",
    "#         if char.isalpha():\n",
    "#             char = char.lower()\n",
    "#             limitAlpha = ord(char) - shift\n",
    "#             if (limitAlpha < ord('a')) :\n",
    "#                 backshift = ord('a') - limitAlpha\n",
    "#                 backshift = ord('z') - backshift\n",
    "#                 backshift = chr(backshift)\n",
    "#                 #print(f'Backshift : {backshift}')\n",
    "#                 decoded.append(backshift)\n",
    "#             else:\n",
    "#                 decoded.append(chr(limitAlpha))\n",
    "#     return ''.join(decoded)"
   ]
  },
  {
   "cell_type": "code",
   "execution_count": 9,
   "metadata": {},
   "outputs": [
    {
     "name": "stdout",
     "output_type": "stream",
     "text": [
      "m\n",
      "e\n",
      "s\n",
      "s\n",
      "Space index: [4]\n",
      "Number: 4\n",
      "Space index: [4, 6]\n"
     ]
    }
   ],
   "source": [
    "coded = 'mess 4 '\n",
    "spacesIdx = []\n",
    "nums = []\n",
    "puncList = []\n",
    "counter = 0\n",
    "for char in coded:\n",
    "    if char.isspace():\n",
    "        spacesIdx.append(counter)\n",
    "        print(f'Space index: {spacesIdx}')\n",
    "        counter += 1\n",
    "    elif (str(char)).isnumeric():\n",
    "        nums.append(counter)\n",
    "        print(f'Number: {char}')\n",
    "        counter += 1\n",
    "    else:\n",
    "        print(char)\n",
    "        counter += 1"
   ]
  },
  {
   "cell_type": "code",
   "execution_count": 5,
   "metadata": {},
   "outputs": [
    {
     "name": "stdout",
     "output_type": "stream",
     "text": [
      "[3]\n"
     ]
    }
   ],
   "source": []
  },
  {
   "cell_type": "code",
   "execution_count": null,
   "metadata": {},
   "outputs": [],
   "source": [
    "def decoder(coded, shift):\n",
    "    decoded = []\n",
    "    for char in coded:\n",
    "        spacesIdxList = []\n",
    "        puncList = []\n",
    "        counter = 0\n",
    "        if char.isalpha():\n",
    "            char = char.lower()\n",
    "            limitAlpha = ord(char) - shift\n",
    "            if (limitAlpha < ord('a')) :\n",
    "                backshift = ord('a') - limitAlpha\n",
    "                backshift = ord('z') - backshift\n",
    "                backshift = chr(backshift)\n",
    "                #print(f'Backshift : {backshift}')\n",
    "                decoded.append(backshift)\n",
    "                counter += 1\n",
    "            else:\n",
    "                decoded.append(chr(limitAlpha))\n",
    "                counter += 1\n",
    "        elif char == ' ':\n",
    "            spacesIdxList.append(counter)\n",
    "            counter += 1\n",
    "        elif char.isnumeric():\n",
    "            puncList.append(char)\n",
    "            counter += 1            \n",
    "    return ''.join(decoded), spacesIdxList, puncList;"
   ]
  },
  {
   "cell_type": "code",
   "execution_count": null,
   "metadata": {},
   "outputs": [],
   "source": [
    "def caesar(uncoded, shift):\n",
    "    coded = []\n",
    "    for char in uncoded:\n",
    "        if char.isalpha():\n",
    "            char = char.lower()\n",
    "            limitAlpha = ord(char) + shift\n",
    "            if (limitAlpha >= ord('a')) & (limitAlpha <= ord('z')) :\n",
    "                limitAlpha = chr(limitAlpha)\n",
    "                #print(f'LimitAlpha: {limitAlpha}')\n",
    "                coded.append(limitAlpha)\n",
    "            else:\n",
    "                frontShift = ((limitAlpha % ord('z')) % 26) + ord('a')\n",
    "                #print(f'Frontshift: {frontShift}')\n",
    "                coded.append(chr(frontShift))\n",
    "                #coded.append(frontShift)\n",
    "    return ''.join(coded)"
   ]
  },
  {
   "cell_type": "code",
   "execution_count": null,
   "metadata": {},
   "outputs": [],
   "source": [
    "def askInput():\n",
    "    print('//////////////////////////////////////////////////////////////////////////////////')\n",
    "    query = input(\"Decode, or Code? \")\n",
    "    print('//////////////////////////////////////////////////////////////////////////////////')\n",
    "    query = query.lower()\n",
    "    if query == 'decode':\n",
    "        decodeMessage = input(\"Enter coded message:: \")\n",
    "        print('//////////////////////////////////////////////////////////////////////////////////')\n",
    "        print(f\"Message Recieved: {decodeMessage}\")\n",
    "        print('//////////////////////////////////////////////////////////////////////////////////')\n",
    "        shiftNum = int(input(\"Enter the shift:: \\n\"))\n",
    "        print('//////////////////////////////////////////////////////////////////////////////////')\n",
    "        print(f'Shift Entered: {shiftNum}')\n",
    "        print('//////////////////////////////////////////////////////////////////////////////////')\n",
    "        if shiftNum == 25:\n",
    "            print('Invalid shift, please choose again. ')\n",
    "            print('//////////////////////////////////////////////////////////////////////////////////')\n",
    "            shiftNum = int(input('Enter a different number: \\n'))\n",
    "            print('//////////////////////////////////////////////////////////////////////////////////')\n",
    "            print(f'Shift Entered: {shiftNum}')\n",
    "        initDecode = decoder(decodeMessage, shiftNum)\n",
    "        print('----------------------------------------------------------------------------------')\n",
    "        return print(f'This is your coded message:: {initDecode}\\n----------------------------------------------------------------------------------')\n",
    "    else:\n",
    "        toCode = input('Enter message to code:: ')\n",
    "        print('//////////////////////////////////////////////////////////////////////////////////')\n",
    "        print(f\"Message Recieved: {toCode}\")\n",
    "        print('//////////////////////////////////////////////////////////////////////////////////')\n",
    "        shiftNum = int(input('Enter the shift:'))\n",
    "        print('//////////////////////////////////////////////////////////////////////////////////')\n",
    "        print(f'Shift Entered: {shiftNum}')\n",
    "        print('//////////////////////////////////////////////////////////////////////////////////')\n",
    "        if shiftNum == 25:\n",
    "            print('Invalid shift, please choose again. ')\n",
    "            print('//////////////////////////////////////////////////////////////////////////////////')\n",
    "            shiftNum = int(input('Enter a different number: '))\n",
    "            print('//////////////////////////////////////////////////////////////////////////////////')\n",
    "            print(f'Shift Entered: {shiftNum}')\n",
    "        print('----------------------------------------------------------------------------------')\n",
    "        return print(f'This is your coded message:: {caesar(toCode, shiftNum)}\\n----------------------------------------------------------------------------------')\n",
    "        "
   ]
  },
  {
   "cell_type": "code",
   "execution_count": null,
   "metadata": {},
   "outputs": [],
   "source": [
    "askInput()"
   ]
  },
  {
   "cell_type": "code",
   "execution_count": null,
   "metadata": {},
   "outputs": [],
   "source": []
  }
 ],
 "metadata": {
  "kernelspec": {
   "display_name": "Python 3",
   "language": "python",
   "name": "python3"
  },
  "language_info": {
   "codemirror_mode": {
    "name": "ipython",
    "version": 3
   },
   "file_extension": ".py",
   "mimetype": "text/x-python",
   "name": "python",
   "nbconvert_exporter": "python",
   "pygments_lexer": "ipython3",
   "version": "3.7.7"
  }
 },
 "nbformat": 4,
 "nbformat_minor": 4
}
