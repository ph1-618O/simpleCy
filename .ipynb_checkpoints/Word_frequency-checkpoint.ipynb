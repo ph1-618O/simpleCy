{
 "cells": [
  {
   "cell_type": "code",
   "execution_count": 1,
   "id": "7143b53c",
   "metadata": {},
   "outputs": [],
   "source": [
    "#!/usr/bin/env python3\n",
    "\n",
    "import pandas as pd\n",
    "import random\n",
    "import string\n",
    "import collections"
   ]
  },
  {
   "cell_type": "code",
   "execution_count": 2,
   "id": "d8810482",
   "metadata": {},
   "outputs": [],
   "source": [
    "def insertRow(rowNum, df, rowVal):\n",
    "    df1 = df[0:rowNum]\n",
    "    df2 = df[rowNum:]\n",
    "    df1.loc[rowNum] = rowVal\n",
    "    dfResult = pd.concat([df1, df2])\n",
    "    return dfResult"
   ]
  },
  {
   "cell_type": "code",
   "execution_count": 3,
   "id": "cbd982fb",
   "metadata": {},
   "outputs": [],
   "source": [
    "#peter_norvig = pd.read_clipboard()\n",
    "#peter_norvig.to_csv(\"pn_wordlist.csv\", index=False)\n",
    "words = pd.read_csv(\"pn_wordlist.csv\")"
   ]
  },
  {
   "cell_type": "code",
   "execution_count": 4,
   "id": "9c629e2d",
   "metadata": {},
   "outputs": [
    {
     "data": {
      "text/plain": [
       "333332"
      ]
     },
     "execution_count": 4,
     "metadata": {},
     "output_type": "execute_result"
    }
   ],
   "source": [
    "len(words)"
   ]
  },
  {
   "cell_type": "code",
   "execution_count": 5,
   "id": "16547894",
   "metadata": {},
   "outputs": [
    {
     "data": {
      "text/html": [
       "<div>\n",
       "<style scoped>\n",
       "    .dataframe tbody tr th:only-of-type {\n",
       "        vertical-align: middle;\n",
       "    }\n",
       "\n",
       "    .dataframe tbody tr th {\n",
       "        vertical-align: top;\n",
       "    }\n",
       "\n",
       "    .dataframe thead th {\n",
       "        text-align: right;\n",
       "    }\n",
       "</style>\n",
       "<table border=\"1\" class=\"dataframe\">\n",
       "  <thead>\n",
       "    <tr style=\"text-align: right;\">\n",
       "      <th></th>\n",
       "      <th>the</th>\n",
       "      <th>23135851162</th>\n",
       "    </tr>\n",
       "  </thead>\n",
       "  <tbody>\n",
       "    <tr>\n",
       "      <th>0</th>\n",
       "      <td>of</td>\n",
       "      <td>13151942776</td>\n",
       "    </tr>\n",
       "    <tr>\n",
       "      <th>1</th>\n",
       "      <td>and</td>\n",
       "      <td>12997637966</td>\n",
       "    </tr>\n",
       "    <tr>\n",
       "      <th>2</th>\n",
       "      <td>to</td>\n",
       "      <td>12136980858</td>\n",
       "    </tr>\n",
       "    <tr>\n",
       "      <th>3</th>\n",
       "      <td>a</td>\n",
       "      <td>9081174698</td>\n",
       "    </tr>\n",
       "    <tr>\n",
       "      <th>4</th>\n",
       "      <td>in</td>\n",
       "      <td>8469404971</td>\n",
       "    </tr>\n",
       "    <tr>\n",
       "      <th>...</th>\n",
       "      <td>...</td>\n",
       "      <td>...</td>\n",
       "    </tr>\n",
       "    <tr>\n",
       "      <th>333327</th>\n",
       "      <td>gooek</td>\n",
       "      <td>12711</td>\n",
       "    </tr>\n",
       "    <tr>\n",
       "      <th>333328</th>\n",
       "      <td>gooddg</td>\n",
       "      <td>12711</td>\n",
       "    </tr>\n",
       "    <tr>\n",
       "      <th>333329</th>\n",
       "      <td>gooblle</td>\n",
       "      <td>12711</td>\n",
       "    </tr>\n",
       "    <tr>\n",
       "      <th>333330</th>\n",
       "      <td>gollgo</td>\n",
       "      <td>12711</td>\n",
       "    </tr>\n",
       "    <tr>\n",
       "      <th>333331</th>\n",
       "      <td>golgw</td>\n",
       "      <td>12711</td>\n",
       "    </tr>\n",
       "  </tbody>\n",
       "</table>\n",
       "<p>333330 rows × 2 columns</p>\n",
       "</div>"
      ],
      "text/plain": [
       "            the  23135851162\n",
       "0            of  13151942776\n",
       "1           and  12997637966\n",
       "2            to  12136980858\n",
       "3             a   9081174698\n",
       "4            in   8469404971\n",
       "...         ...          ...\n",
       "333327    gooek        12711\n",
       "333328   gooddg        12711\n",
       "333329  gooblle        12711\n",
       "333330   gollgo        12711\n",
       "333331    golgw        12711\n",
       "\n",
       "[333330 rows x 2 columns]"
      ]
     },
     "execution_count": 5,
     "metadata": {},
     "output_type": "execute_result"
    }
   ],
   "source": [
    "words = words.dropna()\n",
    "words"
   ]
  },
  {
   "cell_type": "code",
   "execution_count": 6,
   "id": "c22f8893",
   "metadata": {},
   "outputs": [
    {
     "name": "stderr",
     "output_type": "stream",
     "text": [
      "/Users/Jen/anaconda3/lib/python3.7/site-packages/pandas/core/indexing.py:670: SettingWithCopyWarning: \n",
      "A value is trying to be set on a copy of a slice from a DataFrame\n",
      "\n",
      "See the caveats in the documentation: https://pandas.pydata.org/pandas-docs/stable/user_guide/indexing.html#returning-a-view-versus-a-copy\n",
      "  iloc._setitem_with_indexer(indexer, value)\n"
     ]
    }
   ],
   "source": [
    "columns_list = [\"word\", \"counted_usages\"]\n",
    "row1 = []\n",
    "for col in words.columns:\n",
    "    row1.append(col)\n",
    "for i in range(len(row1)):\n",
    "    words.rename(columns={words.columns[i]: columns_list[i]}, inplace=True)\n",
    "words = (insertRow(0, words, row1)).reset_index(drop=True)"
   ]
  },
  {
   "cell_type": "code",
   "execution_count": 7,
   "id": "0c4f880a",
   "metadata": {},
   "outputs": [],
   "source": [
    "words['word'] = words['word'].str.replace(' ', '')"
   ]
  },
  {
   "cell_type": "code",
   "execution_count": 8,
   "id": "7fc0159c",
   "metadata": {},
   "outputs": [],
   "source": [
    "words['word'] = words['word'].values.astype(str)"
   ]
  },
  {
   "cell_type": "code",
   "execution_count": 9,
   "id": "fcfa0ef4",
   "metadata": {},
   "outputs": [
    {
     "data": {
      "text/plain": [
       "3"
      ]
     },
     "execution_count": 9,
     "metadata": {},
     "output_type": "execute_result"
    }
   ],
   "source": [
    "len(words['word'][0])"
   ]
  },
  {
   "cell_type": "code",
   "execution_count": 10,
   "id": "30817e8f",
   "metadata": {},
   "outputs": [],
   "source": [
    "words['len_word'] = words['word'].apply(lambda x:len(x))\n",
    "words['counted_usages'] = words['counted_usages'].astype(int)"
   ]
  },
  {
   "cell_type": "code",
   "execution_count": 11,
   "id": "9b3075c5",
   "metadata": {},
   "outputs": [
    {
     "data": {
      "text/html": [
       "<div>\n",
       "<style scoped>\n",
       "    .dataframe tbody tr th:only-of-type {\n",
       "        vertical-align: middle;\n",
       "    }\n",
       "\n",
       "    .dataframe tbody tr th {\n",
       "        vertical-align: top;\n",
       "    }\n",
       "\n",
       "    .dataframe thead th {\n",
       "        text-align: right;\n",
       "    }\n",
       "</style>\n",
       "<table border=\"1\" class=\"dataframe\">\n",
       "  <thead>\n",
       "    <tr style=\"text-align: right;\">\n",
       "      <th></th>\n",
       "      <th>word</th>\n",
       "      <th>counted_usages</th>\n",
       "      <th>len_word</th>\n",
       "    </tr>\n",
       "  </thead>\n",
       "  <tbody>\n",
       "    <tr>\n",
       "      <th>0</th>\n",
       "      <td>the</td>\n",
       "      <td>23135851162</td>\n",
       "      <td>3</td>\n",
       "    </tr>\n",
       "    <tr>\n",
       "      <th>1</th>\n",
       "      <td>of</td>\n",
       "      <td>13151942776</td>\n",
       "      <td>2</td>\n",
       "    </tr>\n",
       "    <tr>\n",
       "      <th>2</th>\n",
       "      <td>and</td>\n",
       "      <td>12997637966</td>\n",
       "      <td>3</td>\n",
       "    </tr>\n",
       "    <tr>\n",
       "      <th>3</th>\n",
       "      <td>to</td>\n",
       "      <td>12136980858</td>\n",
       "      <td>2</td>\n",
       "    </tr>\n",
       "    <tr>\n",
       "      <th>4</th>\n",
       "      <td>a</td>\n",
       "      <td>9081174698</td>\n",
       "      <td>1</td>\n",
       "    </tr>\n",
       "  </tbody>\n",
       "</table>\n",
       "</div>"
      ],
      "text/plain": [
       "  word  counted_usages  len_word\n",
       "0  the     23135851162         3\n",
       "1   of     13151942776         2\n",
       "2  and     12997637966         3\n",
       "3   to     12136980858         2\n",
       "4    a      9081174698         1"
      ]
     },
     "execution_count": 11,
     "metadata": {},
     "output_type": "execute_result"
    }
   ],
   "source": [
    "words.head()"
   ]
  },
  {
   "cell_type": "code",
   "execution_count": 12,
   "id": "a05f65ed",
   "metadata": {},
   "outputs": [],
   "source": [
    "# len_word = []\n",
    "# for i in range(len(words['word'])):\n",
    "#     print(words['word'][i])\n",
    "#     if words['word'][i] == ' ':\n",
    "#         continue\n",
    "#     lw = len(words['word'][i])\n",
    "#     len_word.append(lw)"
   ]
  },
  {
   "cell_type": "code",
   "execution_count": 13,
   "id": "ae41daec",
   "metadata": {},
   "outputs": [],
   "source": [
    "#sorted_words = words.sort_values(['counted_usages', 'len_word'], ascending=[False, False]).reset_index(drop=True)"
   ]
  },
  {
   "cell_type": "code",
   "execution_count": 14,
   "id": "d56bfba8",
   "metadata": {},
   "outputs": [],
   "source": [
    "#sorted_words"
   ]
  },
  {
   "cell_type": "code",
   "execution_count": 15,
   "id": "0d8f46a9",
   "metadata": {},
   "outputs": [],
   "source": [
    "cipher_text = \"DOLU PU AOL JVBYZL VM OBTHU LCLUAZ, PA ILJVTLZ ULJLZZHYF MVY VUL WLVWSL AV KPZZVSCL AOL WVSPAPJHS IHUKZ DOPJO OHCL JVUULJALK AOLT DPAO HUVAOLY, HUK AV HZZBTL HTVUN AOL WVDLYZ VM AOL LHYAO, AOL ZLWHYHAL HUK LXBHS ZAHAPVU AV DOPJO AOL SHDZ VM UHABYL HUK VM UHABYL'Z NVK LUAPASL AOLT, H KLJLUA YLZWLJA AV AOL VWPUPVUZ VM THURPUK YLXBPYLZ AOHA AOLF ZOVBSK KLJSHYL AOL JHBZLZ DOPJO PTWLS AOLT AV AOL ZLWHYHAPVU.\"\n",
    "cipher_text = cipher_text.lower()\n",
    "#cipher_split = cipher_text.split"
   ]
  },
  {
   "cell_type": "code",
   "execution_count": 27,
   "id": "fd51ea2d",
   "metadata": {},
   "outputs": [],
   "source": [
    "#removing punctuation\n",
    "#expects a string\n",
    "def punct(test_text):\n",
    "    punctuation_list = []\n",
    "    punctuation_slice = []\n",
    "    for i in range(len(test_text)):\n",
    "        if test_text[i] == \"'\":\n",
    "            punctuation_list.append(test_text[i])\n",
    "            punctuation_list.append(i)\n",
    "        elif test_text[i] == \" \":\n",
    "            punctuation_list.append(test_text[i])\n",
    "            punctuation_list.append(i)\n",
    "        elif test_text[i] == \".\":\n",
    "            punctuation_list.append(test_text[i])\n",
    "            punctuation_list.append(i)\n",
    "        elif test_text[i] == \",\":\n",
    "            punctuation_list.append(test_text[i])\n",
    "            punctuation_list.append(i)\n",
    "    return punctuation_list, punctuation_slice"
   ]
  },
  {
   "cell_type": "code",
   "execution_count": 62,
   "id": "6d91ad4a",
   "metadata": {},
   "outputs": [],
   "source": [
    "#problem with loop copying 4 times\n",
    "def remove_punct(str_replace):\n",
    "    to_replace = [\",\", \"'\", \".\", \" \"]\n",
    "    replaced = []\n",
    "    for i in to_replace:\n",
    "        if i in str_replace:\n",
    "            rep = str_replace.replace(i, \"\")\n",
    "            replaced.append(rep)\n",
    "    return replaced"
   ]
  },
  {
   "cell_type": "code",
   "execution_count": 63,
   "id": "2a141c41",
   "metadata": {},
   "outputs": [],
   "source": [
    "#cipher_text.split(\" \")"
   ]
  },
  {
   "cell_type": "code",
   "execution_count": null,
   "id": "7a40e7ba",
   "metadata": {},
   "outputs": [],
   "source": []
  },
  {
   "cell_type": "code",
   "execution_count": 64,
   "id": "b85980b2",
   "metadata": {},
   "outputs": [
    {
     "data": {
      "text/plain": [
       "['zlwhyhapvu']"
      ]
     },
     "execution_count": 64,
     "metadata": {},
     "output_type": "execute_result"
    }
   ],
   "source": [
    "remove_punct(cipher_text.split(\" \")[-1])"
   ]
  },
  {
   "cell_type": "code",
   "execution_count": 65,
   "id": "9c89903b",
   "metadata": {},
   "outputs": [],
   "source": [
    "clean_cipher = []\n",
    "for i in cipher_text.split(\" \"):\n",
    "    clean_cipher.append(remove_punct(i))"
   ]
  },
  {
   "cell_type": "code",
   "execution_count": 66,
   "id": "ee6df7dd",
   "metadata": {},
   "outputs": [
    {
     "data": {
      "text/plain": [
       "[[],\n",
       " [],\n",
       " [],\n",
       " [],\n",
       " [],\n",
       " [],\n",
       " ['lcluaz'],\n",
       " [],\n",
       " [],\n",
       " [],\n",
       " [],\n",
       " [],\n",
       " [],\n",
       " [],\n",
       " [],\n",
       " [],\n",
       " [],\n",
       " [],\n",
       " [],\n",
       " [],\n",
       " [],\n",
       " [],\n",
       " [],\n",
       " ['huvaoly'],\n",
       " [],\n",
       " [],\n",
       " [],\n",
       " [],\n",
       " [],\n",
       " [],\n",
       " [],\n",
       " [],\n",
       " ['lhyao'],\n",
       " [],\n",
       " [],\n",
       " [],\n",
       " [],\n",
       " [],\n",
       " [],\n",
       " [],\n",
       " [],\n",
       " [],\n",
       " [],\n",
       " [],\n",
       " [],\n",
       " [],\n",
       " ['uhabylz'],\n",
       " [],\n",
       " [],\n",
       " ['aolt'],\n",
       " [],\n",
       " [],\n",
       " [],\n",
       " [],\n",
       " [],\n",
       " [],\n",
       " [],\n",
       " [],\n",
       " [],\n",
       " [],\n",
       " [],\n",
       " [],\n",
       " [],\n",
       " [],\n",
       " [],\n",
       " [],\n",
       " [],\n",
       " [],\n",
       " [],\n",
       " [],\n",
       " ['zlwhyhapvu']]"
      ]
     },
     "execution_count": 66,
     "metadata": {},
     "output_type": "execute_result"
    }
   ],
   "source": [
    "clean_cipher"
   ]
  },
  {
   "cell_type": "code",
   "execution_count": 24,
   "id": "3dd109d9",
   "metadata": {},
   "outputs": [],
   "source": [
    "# for i in cipher_text.split(\" \"):\n",
    "#     punct(i)"
   ]
  },
  {
   "cell_type": "code",
   "execution_count": 25,
   "id": "a7646ada",
   "metadata": {},
   "outputs": [
    {
     "data": {
      "text/plain": [
       "\"dolu pu aol jvbyzl vm obthu lcluaz, pa iljvtlz uljlzzhyf mvy vul wlvwsl av kpzzvscl aol wvspapjhs ihukz dopjo ohcl jvuuljalk aolt dpao huvaoly, huk av hzzbtl htvun aol wvdlyz vm aol lhyao, aol zlwhyhal huk lxbhs zahapvu av dopjo aol shdz vm uhabyl huk vm uhabyl'z nvk luapasl aolt, h kljlua ylzwlja av aol vwpupvuz vm thurpuk ylxbpylz aoha aolf zovbsk kljshyl aol jhbzlz dopjo ptwls aolt av aol zlwhyhapvu.\""
      ]
     },
     "execution_count": 25,
     "metadata": {},
     "output_type": "execute_result"
    }
   ],
   "source": [
    "cipher_text"
   ]
  },
  {
   "cell_type": "code",
   "execution_count": 26,
   "id": "49d86fd7",
   "metadata": {},
   "outputs": [
    {
     "ename": "AttributeError",
     "evalue": "'list' object has no attribute 'replace'",
     "output_type": "error",
     "traceback": [
      "\u001b[0;31m---------------------------------------------------------------------------\u001b[0m",
      "\u001b[0;31mAttributeError\u001b[0m                            Traceback (most recent call last)",
      "\u001b[0;32m/var/folders/wp/8cxwhj252x5fgydpbyv640y00000gn/T/ipykernel_45276/1250837816.py\u001b[0m in \u001b[0;36m<module>\u001b[0;34m\u001b[0m\n\u001b[0;32m----> 1\u001b[0;31m \u001b[0mclean_cipher\u001b[0m \u001b[0;34m=\u001b[0m \u001b[0mpunct\u001b[0m\u001b[0;34m(\u001b[0m\u001b[0mcipher_text\u001b[0m\u001b[0;34m)\u001b[0m\u001b[0;34m[\u001b[0m\u001b[0;36m0\u001b[0m\u001b[0;34m]\u001b[0m\u001b[0;34m\u001b[0m\u001b[0;34m\u001b[0m\u001b[0m\n\u001b[0m\u001b[1;32m      2\u001b[0m \u001b[0mclean_cipher\u001b[0m\u001b[0;34m\u001b[0m\u001b[0;34m\u001b[0m\u001b[0m\n",
      "\u001b[0;32m/var/folders/wp/8cxwhj252x5fgydpbyv640y00000gn/T/ipykernel_45276/3269694168.py\u001b[0m in \u001b[0;36mpunct\u001b[0;34m(test_text)\u001b[0m\n\u001b[1;32m     20\u001b[0m     \u001b[0msplit_test\u001b[0m \u001b[0;34m=\u001b[0m \u001b[0mtest_text\u001b[0m\u001b[0;34m.\u001b[0m\u001b[0msplit\u001b[0m\u001b[0;34m(\u001b[0m\u001b[0;34m\" \"\u001b[0m\u001b[0;34m)\u001b[0m\u001b[0;34m\u001b[0m\u001b[0;34m\u001b[0m\u001b[0m\n\u001b[1;32m     21\u001b[0m     \u001b[0;32mfor\u001b[0m \u001b[0mi\u001b[0m \u001b[0;32min\u001b[0m \u001b[0mto_replace\u001b[0m\u001b[0;34m:\u001b[0m\u001b[0;34m\u001b[0m\u001b[0;34m\u001b[0m\u001b[0m\n\u001b[0;32m---> 22\u001b[0;31m         \u001b[0mreplaced\u001b[0m \u001b[0;34m=\u001b[0m \u001b[0msplit_test\u001b[0m\u001b[0;34m.\u001b[0m\u001b[0mreplace\u001b[0m\u001b[0;34m(\u001b[0m\u001b[0mi\u001b[0m\u001b[0;34m,\u001b[0m \u001b[0;34m\"\"\u001b[0m\u001b[0;34m)\u001b[0m\u001b[0;34m\u001b[0m\u001b[0;34m\u001b[0m\u001b[0m\n\u001b[0m\u001b[1;32m     23\u001b[0m     \u001b[0;32mreturn\u001b[0m \u001b[0mreplaced\u001b[0m\u001b[0;34m,\u001b[0m \u001b[0mpunctuation_list\u001b[0m\u001b[0;34m,\u001b[0m \u001b[0mpunctuation_slice\u001b[0m\u001b[0;34m\u001b[0m\u001b[0;34m\u001b[0m\u001b[0m\n",
      "\u001b[0;31mAttributeError\u001b[0m: 'list' object has no attribute 'replace'"
     ]
    }
   ],
   "source": [
    "clean_cipher = punct(cipher_text)[0]\n",
    "clean_cipher"
   ]
  },
  {
   "cell_type": "code",
   "execution_count": 20,
   "id": "61cae04e",
   "metadata": {},
   "outputs": [],
   "source": [
    "cipher_list = cipher_text.split(\" \")\n",
    "#cipher_list"
   ]
  },
  {
   "cell_type": "code",
   "execution_count": 21,
   "id": "9e98c5db",
   "metadata": {},
   "outputs": [],
   "source": [
    "cipher_df = pd.DataFrame()\n",
    "cipher_df['ci_words'] = cipher_list\n",
    "cipher_df['len_word'] = cipher_df['ci_words'].apply(lambda x:len(x))"
   ]
  },
  {
   "cell_type": "code",
   "execution_count": 22,
   "id": "22cff25d",
   "metadata": {},
   "outputs": [
    {
     "data": {
      "text/html": [
       "<div>\n",
       "<style scoped>\n",
       "    .dataframe tbody tr th:only-of-type {\n",
       "        vertical-align: middle;\n",
       "    }\n",
       "\n",
       "    .dataframe tbody tr th {\n",
       "        vertical-align: top;\n",
       "    }\n",
       "\n",
       "    .dataframe thead th {\n",
       "        text-align: right;\n",
       "    }\n",
       "</style>\n",
       "<table border=\"1\" class=\"dataframe\">\n",
       "  <thead>\n",
       "    <tr style=\"text-align: right;\">\n",
       "      <th></th>\n",
       "      <th>ci_words</th>\n",
       "      <th>len_word</th>\n",
       "    </tr>\n",
       "  </thead>\n",
       "  <tbody>\n",
       "    <tr>\n",
       "      <th>50</th>\n",
       "      <td>h</td>\n",
       "      <td>1</td>\n",
       "    </tr>\n",
       "    <tr>\n",
       "      <th>25</th>\n",
       "      <td>av</td>\n",
       "      <td>2</td>\n",
       "    </tr>\n",
       "    <tr>\n",
       "      <th>53</th>\n",
       "      <td>av</td>\n",
       "      <td>2</td>\n",
       "    </tr>\n",
       "    <tr>\n",
       "      <th>30</th>\n",
       "      <td>vm</td>\n",
       "      <td>2</td>\n",
       "    </tr>\n",
       "    <tr>\n",
       "      <th>42</th>\n",
       "      <td>vm</td>\n",
       "      <td>2</td>\n",
       "    </tr>\n",
       "    <tr>\n",
       "      <th>...</th>\n",
       "      <td>...</td>\n",
       "      <td>...</td>\n",
       "    </tr>\n",
       "    <tr>\n",
       "      <th>23</th>\n",
       "      <td>huvaoly,</td>\n",
       "      <td>8</td>\n",
       "    </tr>\n",
       "    <tr>\n",
       "      <th>20</th>\n",
       "      <td>jvuuljalk</td>\n",
       "      <td>9</td>\n",
       "    </tr>\n",
       "    <tr>\n",
       "      <th>16</th>\n",
       "      <td>wvspapjhs</td>\n",
       "      <td>9</td>\n",
       "    </tr>\n",
       "    <tr>\n",
       "      <th>9</th>\n",
       "      <td>uljlzzhyf</td>\n",
       "      <td>9</td>\n",
       "    </tr>\n",
       "    <tr>\n",
       "      <th>70</th>\n",
       "      <td>zlwhyhapvu.</td>\n",
       "      <td>11</td>\n",
       "    </tr>\n",
       "  </tbody>\n",
       "</table>\n",
       "<p>71 rows × 2 columns</p>\n",
       "</div>"
      ],
      "text/plain": [
       "       ci_words  len_word\n",
       "50            h         1\n",
       "25           av         2\n",
       "53           av         2\n",
       "30           vm         2\n",
       "42           vm         2\n",
       "..          ...       ...\n",
       "23     huvaoly,         8\n",
       "20    jvuuljalk         9\n",
       "16    wvspapjhs         9\n",
       "9     uljlzzhyf         9\n",
       "70  zlwhyhapvu.        11\n",
       "\n",
       "[71 rows x 2 columns]"
      ]
     },
     "execution_count": 22,
     "metadata": {},
     "output_type": "execute_result"
    }
   ],
   "source": [
    "cipher_df.sort_values(['len_word'])"
   ]
  },
  {
   "cell_type": "code",
   "execution_count": null,
   "id": "cc43b3f8",
   "metadata": {},
   "outputs": [],
   "source": []
  }
 ],
 "metadata": {
  "kernelspec": {
   "display_name": "Python 3 (ipykernel)",
   "language": "python",
   "name": "python3"
  },
  "language_info": {
   "codemirror_mode": {
    "name": "ipython",
    "version": 3
   },
   "file_extension": ".py",
   "mimetype": "text/x-python",
   "name": "python",
   "nbconvert_exporter": "python",
   "pygments_lexer": "ipython3",
   "version": "3.7.7"
  }
 },
 "nbformat": 4,
 "nbformat_minor": 5
}
