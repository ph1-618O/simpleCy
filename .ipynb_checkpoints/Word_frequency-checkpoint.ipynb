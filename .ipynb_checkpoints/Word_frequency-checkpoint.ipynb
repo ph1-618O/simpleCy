{
 "cells": [
  {
   "cell_type": "code",
   "execution_count": 1,
   "id": "b24f1b41",
   "metadata": {},
   "outputs": [],
   "source": [
    "#!/usr/bin/env python3\n",
    "\n",
    "import pandas as pd\n",
    "import random\n",
    "import string\n",
    "import collections"
   ]
  },
  {
   "cell_type": "code",
   "execution_count": 2,
   "id": "8af06563",
   "metadata": {},
   "outputs": [],
   "source": [
    "def insertRow(rowNum, df, rowVal):\n",
    "    df1 = df[0:rowNum]\n",
    "    df2 = df[rowNum:]\n",
    "    df1.loc[rowNum] = rowVal\n",
    "    dfResult = pd.concat([df1, df2])\n",
    "    return dfResult"
   ]
  },
  {
   "cell_type": "code",
   "execution_count": 3,
   "id": "63b45a33",
   "metadata": {},
   "outputs": [],
   "source": [
    "#peter_norvig = pd.read_clipboard()\n",
    "#peter_norvig.to_csv(\"pn_wordlist.csv\", index=False)\n",
    "words = pd.read_csv(\"pn_wordlist.csv\")"
   ]
  },
  {
   "cell_type": "code",
   "execution_count": 4,
   "id": "aa36ccb5",
   "metadata": {},
   "outputs": [
    {
     "data": {
      "text/plain": [
       "333332"
      ]
     },
     "execution_count": 4,
     "metadata": {},
     "output_type": "execute_result"
    }
   ],
   "source": [
    "len(words)"
   ]
  },
  {
   "cell_type": "code",
   "execution_count": 5,
   "id": "ddbc0e6d",
   "metadata": {},
   "outputs": [
    {
     "data": {
      "text/html": [
       "<div>\n",
       "<style scoped>\n",
       "    .dataframe tbody tr th:only-of-type {\n",
       "        vertical-align: middle;\n",
       "    }\n",
       "\n",
       "    .dataframe tbody tr th {\n",
       "        vertical-align: top;\n",
       "    }\n",
       "\n",
       "    .dataframe thead th {\n",
       "        text-align: right;\n",
       "    }\n",
       "</style>\n",
       "<table border=\"1\" class=\"dataframe\">\n",
       "  <thead>\n",
       "    <tr style=\"text-align: right;\">\n",
       "      <th></th>\n",
       "      <th>the</th>\n",
       "      <th>23135851162</th>\n",
       "    </tr>\n",
       "  </thead>\n",
       "  <tbody>\n",
       "    <tr>\n",
       "      <th>0</th>\n",
       "      <td>of</td>\n",
       "      <td>13151942776</td>\n",
       "    </tr>\n",
       "    <tr>\n",
       "      <th>1</th>\n",
       "      <td>and</td>\n",
       "      <td>12997637966</td>\n",
       "    </tr>\n",
       "    <tr>\n",
       "      <th>2</th>\n",
       "      <td>to</td>\n",
       "      <td>12136980858</td>\n",
       "    </tr>\n",
       "    <tr>\n",
       "      <th>3</th>\n",
       "      <td>a</td>\n",
       "      <td>9081174698</td>\n",
       "    </tr>\n",
       "    <tr>\n",
       "      <th>4</th>\n",
       "      <td>in</td>\n",
       "      <td>8469404971</td>\n",
       "    </tr>\n",
       "    <tr>\n",
       "      <th>...</th>\n",
       "      <td>...</td>\n",
       "      <td>...</td>\n",
       "    </tr>\n",
       "    <tr>\n",
       "      <th>333327</th>\n",
       "      <td>gooek</td>\n",
       "      <td>12711</td>\n",
       "    </tr>\n",
       "    <tr>\n",
       "      <th>333328</th>\n",
       "      <td>gooddg</td>\n",
       "      <td>12711</td>\n",
       "    </tr>\n",
       "    <tr>\n",
       "      <th>333329</th>\n",
       "      <td>gooblle</td>\n",
       "      <td>12711</td>\n",
       "    </tr>\n",
       "    <tr>\n",
       "      <th>333330</th>\n",
       "      <td>gollgo</td>\n",
       "      <td>12711</td>\n",
       "    </tr>\n",
       "    <tr>\n",
       "      <th>333331</th>\n",
       "      <td>golgw</td>\n",
       "      <td>12711</td>\n",
       "    </tr>\n",
       "  </tbody>\n",
       "</table>\n",
       "<p>333330 rows × 2 columns</p>\n",
       "</div>"
      ],
      "text/plain": [
       "            the  23135851162\n",
       "0            of  13151942776\n",
       "1           and  12997637966\n",
       "2            to  12136980858\n",
       "3             a   9081174698\n",
       "4            in   8469404971\n",
       "...         ...          ...\n",
       "333327    gooek        12711\n",
       "333328   gooddg        12711\n",
       "333329  gooblle        12711\n",
       "333330   gollgo        12711\n",
       "333331    golgw        12711\n",
       "\n",
       "[333330 rows x 2 columns]"
      ]
     },
     "execution_count": 5,
     "metadata": {},
     "output_type": "execute_result"
    }
   ],
   "source": [
    "words = words.dropna()\n",
    "words"
   ]
  },
  {
   "cell_type": "code",
   "execution_count": 6,
   "id": "e093c947",
   "metadata": {},
   "outputs": [
    {
     "name": "stderr",
     "output_type": "stream",
     "text": [
      "/Users/Jen/anaconda3/lib/python3.7/site-packages/pandas/core/indexing.py:670: SettingWithCopyWarning: \n",
      "A value is trying to be set on a copy of a slice from a DataFrame\n",
      "\n",
      "See the caveats in the documentation: https://pandas.pydata.org/pandas-docs/stable/user_guide/indexing.html#returning-a-view-versus-a-copy\n",
      "  iloc._setitem_with_indexer(indexer, value)\n"
     ]
    }
   ],
   "source": [
    "columns_list = [\"word\", \"counted_usages\"]\n",
    "row1 = []\n",
    "for col in words.columns:\n",
    "    row1.append(col)\n",
    "for i in range(len(row1)):\n",
    "    words.rename(columns={words.columns[i]: columns_list[i]}, inplace=True)\n",
    "words = (insertRow(0, words, row1)).reset_index(drop=True)"
   ]
  },
  {
   "cell_type": "code",
   "execution_count": 7,
   "id": "2b56ba13",
   "metadata": {},
   "outputs": [],
   "source": [
    "words['word'] = words['word'].str.replace(' ', '')"
   ]
  },
  {
   "cell_type": "code",
   "execution_count": 8,
   "id": "9e3765e4",
   "metadata": {},
   "outputs": [],
   "source": [
    "words['word'] = words['word'].values.astype(str)"
   ]
  },
  {
   "cell_type": "code",
   "execution_count": 9,
   "id": "9df843e0",
   "metadata": {},
   "outputs": [
    {
     "data": {
      "text/plain": [
       "3"
      ]
     },
     "execution_count": 9,
     "metadata": {},
     "output_type": "execute_result"
    }
   ],
   "source": [
    "len(words['word'][0])"
   ]
  },
  {
   "cell_type": "code",
   "execution_count": 10,
   "id": "afca52a8",
   "metadata": {},
   "outputs": [],
   "source": [
    "words['len_word'] = words['word'].apply(lambda x:len(x))\n",
    "words['counted_usages'] = words['counted_usages'].astype(int)"
   ]
  },
  {
   "cell_type": "code",
   "execution_count": null,
   "id": "707e3336",
   "metadata": {},
   "outputs": [],
   "source": []
  },
  {
   "cell_type": "code",
   "execution_count": 11,
   "id": "c9dd2cbb",
   "metadata": {},
   "outputs": [],
   "source": [
    "# len_word = []\n",
    "# for i in range(len(words['word'])):\n",
    "#     print(words['word'][i])\n",
    "#     if words['word'][i] == ' ':\n",
    "#         continue\n",
    "#     lw = len(words['word'][i])\n",
    "#     len_word.append(lw)"
   ]
  },
  {
   "cell_type": "code",
   "execution_count": 17,
   "id": "ea603ad6",
   "metadata": {},
   "outputs": [],
   "source": [
    "sorted_words = words.sort_values(['len_word', 'counted_usages'], ascending=[False, False]).reset_index(drop=True)"
   ]
  },
  {
   "cell_type": "code",
   "execution_count": 19,
   "id": "dcbe0557",
   "metadata": {},
   "outputs": [
    {
     "data": {
      "text/html": [
       "<div>\n",
       "<style scoped>\n",
       "    .dataframe tbody tr th:only-of-type {\n",
       "        vertical-align: middle;\n",
       "    }\n",
       "\n",
       "    .dataframe tbody tr th {\n",
       "        vertical-align: top;\n",
       "    }\n",
       "\n",
       "    .dataframe thead th {\n",
       "        text-align: right;\n",
       "    }\n",
       "</style>\n",
       "<table border=\"1\" class=\"dataframe\">\n",
       "  <thead>\n",
       "    <tr style=\"text-align: right;\">\n",
       "      <th></th>\n",
       "      <th>word</th>\n",
       "      <th>counted_usages</th>\n",
       "      <th>len_word</th>\n",
       "    </tr>\n",
       "  </thead>\n",
       "  <tbody>\n",
       "    <tr>\n",
       "      <th>333321</th>\n",
       "      <td>o</td>\n",
       "      <td>246429812</td>\n",
       "      <td>1</td>\n",
       "    </tr>\n",
       "    <tr>\n",
       "      <th>333322</th>\n",
       "      <td>g</td>\n",
       "      <td>227771642</td>\n",
       "      <td>1</td>\n",
       "    </tr>\n",
       "    <tr>\n",
       "      <th>333323</th>\n",
       "      <td>h</td>\n",
       "      <td>220523502</td>\n",
       "      <td>1</td>\n",
       "    </tr>\n",
       "    <tr>\n",
       "      <th>333324</th>\n",
       "      <td>v</td>\n",
       "      <td>204486977</td>\n",
       "      <td>1</td>\n",
       "    </tr>\n",
       "    <tr>\n",
       "      <th>333325</th>\n",
       "      <td>k</td>\n",
       "      <td>195647953</td>\n",
       "      <td>1</td>\n",
       "    </tr>\n",
       "    <tr>\n",
       "      <th>333326</th>\n",
       "      <td>y</td>\n",
       "      <td>195011703</td>\n",
       "      <td>1</td>\n",
       "    </tr>\n",
       "    <tr>\n",
       "      <th>333327</th>\n",
       "      <td>j</td>\n",
       "      <td>180739802</td>\n",
       "      <td>1</td>\n",
       "    </tr>\n",
       "    <tr>\n",
       "      <th>333328</th>\n",
       "      <td>u</td>\n",
       "      <td>179615587</td>\n",
       "      <td>1</td>\n",
       "    </tr>\n",
       "    <tr>\n",
       "      <th>333329</th>\n",
       "      <td>q</td>\n",
       "      <td>139563801</td>\n",
       "      <td>1</td>\n",
       "    </tr>\n",
       "    <tr>\n",
       "      <th>333330</th>\n",
       "      <td>z</td>\n",
       "      <td>132095202</td>\n",
       "      <td>1</td>\n",
       "    </tr>\n",
       "  </tbody>\n",
       "</table>\n",
       "</div>"
      ],
      "text/plain": [
       "       word  counted_usages  len_word\n",
       "333321    o       246429812         1\n",
       "333322    g       227771642         1\n",
       "333323    h       220523502         1\n",
       "333324    v       204486977         1\n",
       "333325    k       195647953         1\n",
       "333326    y       195011703         1\n",
       "333327    j       180739802         1\n",
       "333328    u       179615587         1\n",
       "333329    q       139563801         1\n",
       "333330    z       132095202         1"
      ]
     },
     "execution_count": 19,
     "metadata": {},
     "output_type": "execute_result"
    }
   ],
   "source": [
    "sorted_words.tail(100\n",
    "            )"
   ]
  },
  {
   "cell_type": "code",
   "execution_count": null,
   "id": "4681a0c7",
   "metadata": {},
   "outputs": [],
   "source": []
  }
 ],
 "metadata": {
  "kernelspec": {
   "display_name": "Python 3 (ipykernel)",
   "language": "python",
   "name": "python3"
  },
  "language_info": {
   "codemirror_mode": {
    "name": "ipython",
    "version": 3
   },
   "file_extension": ".py",
   "mimetype": "text/x-python",
   "name": "python",
   "nbconvert_exporter": "python",
   "pygments_lexer": "ipython3",
   "version": "3.7.7"
  }
 },
 "nbformat": 4,
 "nbformat_minor": 5
}
