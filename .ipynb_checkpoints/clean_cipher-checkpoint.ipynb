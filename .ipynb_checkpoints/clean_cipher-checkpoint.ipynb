{
 "cells": [
  {
   "cell_type": "markdown",
   "metadata": {},
   "source": [
    "# <! Notes\n",
    "- add isupper conditional, save location of isupper == true, upon joining list return indexes of isupper to \n",
    "uppercase\n",
    "- create a switch case statment for isalpha, isspace, isnumeric, is specialchar\n",
    "- create a nums cipher rotation +||- shift\n",
    "- create a punc cipher rotation +||- shift\n",
    "- upon joining list add spaces back in at spacesIdx locations\n",
    "- ordinal nums for punc begin with ord('!') = 33, ord('~') = 126\n",
    "- ordinal nums for numbers begin with ord('0') = 48 to ord('9') = 57, make sure to convert to str"
   ]
  },
  {
   "cell_type": "code",
   "execution_count": 1,
   "metadata": {},
   "outputs": [],
   "source": [
    "#Example Caesar cipher with an offset of 8\n",
    "strs = \"vhfinmxkl atox kxgwxkxw tee hy maxlx hew vbiaxkl tl hulhexmx. px'ee atox mh kxteer lmxi ni hnk ztfx by px ptgm mh dxxi hnk fxlltzxl ltyx.\""
   ]
  },
  {
   "cell_type": "code",
   "execution_count": null,
   "metadata": {},
   "outputs": [],
   "source": [
    "#Un-coded Caesar cipher from the above with an offset of 8\n",
    "squishedStr = \"computershaverenderedalloftheseoldciphersasobsoletewellhavetoreallystepupourgameifwewanttokeepourmessagessafe\""
   ]
  }
 ],
 "metadata": {
  "kernelspec": {
   "display_name": "Python 3",
   "language": "python",
   "name": "python3"
  },
  "language_info": {
   "codemirror_mode": {
    "name": "ipython",
    "version": 3
   },
   "file_extension": ".py",
   "mimetype": "text/x-python",
   "name": "python",
   "nbconvert_exporter": "python",
   "pygments_lexer": "ipython3",
   "version": "3.7.7"
  }
 },
 "nbformat": 4,
 "nbformat_minor": 4
}
